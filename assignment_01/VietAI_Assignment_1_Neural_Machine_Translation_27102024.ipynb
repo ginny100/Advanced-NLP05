{
  "cells": [
    {
      "cell_type": "markdown",
      "metadata": {
        "id": "GhYjHDP9wUiw"
      },
      "source": [
        "# **Assignment 1: Translation with a Sequence to Sequence Network** 🤖\n",
        "\n",
        "This assignment is split into two sections: **Neural Machine Translation** with (1) **RNNs** and (2) **Transformer**. To be more specifically, in Machine Translation, our goal is to convert a sentence from the source language (e.g. Vietnamese) to the target language (e.g. English). In this assignment, we will implement a sequence-to-sequence (**Seq2Seq**) network based on two architectures: **RNNs with Attention** and **Transformer**, to build a **Neural Machine Translation (NMT) system**."
      ]
    },
    {
      "cell_type": "markdown",
      "metadata": {
        "id": "ObihRu3tGB93"
      },
      "source": [
        "<img src=\"https://drive.google.com/uc?id=1ltoz1Yr_6QTyR8bHd4wzOh3J03abwRg4\"/>"
      ]
    },
    {
      "cell_type": "markdown",
      "metadata": {
        "id": "UzUewzPQyv7j"
      },
      "source": [
        "That's a lot to digest, the goal of this assignment is to break it down into easy to understand parts. In this assignment you will:\n",
        "\n",
        "- [Data Preparation](#data-preparation): A machine cannot directly understand \"Tôi yêu bạn\" the way humans do. We must first prepare and preprocess the data into a format the machine can comprehend.\n",
        "- **Seq2Seq Model Build:** After preparing the necessary data, we proceed to build our Seq2Seq model for the machine translation task.\n",
        "    - [RNNs with Attention Architecture]():\n",
        "        - **Embedding Layer:** initialize layer to convert input words to their embeddings.\n",
        "        - **Initialize Layers:** declare basic layers of our model.\n",
        "        - **The Encoder & Decoder:** implement the `encode` function to obtain encoder hidden states from source sentences and `decode` function to compute combined output vectors for a batch inputs.\n",
        "\n",
        "    - [Transformer Architecture]():\n",
        "        - **Positional embeddings:** initialize layer to combines token embeddings with positional embeddings. Unlike RNNs, the Transformer architecture processes all input tokens in parallel. Therefore, positional embeddings are added to provide the information of order and position of elements in an input sequence, which is crucial for our machine translation tasks.\n",
        "        - **Transformer Layer:** implement the `forward` pass function with the help of transformer library.\n",
        "\n",
        "- **Train & Test our two models:** The training and testing code are provided for you.\n",
        "- [Generate translations](): The model uses either the `beam_search` or `greedy` function to generate translations in the target language. While `beam_search` is provided as the standard for testing, you are required to implement the `greedy` method."
      ]
    },
    {
      "cell_type": "markdown",
      "metadata": {
        "id": "AfRYHN7dxXfn"
      },
      "source": [
        "**Requirements**\n",
        "\n",
        "Firstly, apart from standards libraries, we need to install some package:\n",
        "\n",
        "1. `sentencepiece`: To build your own vocabulary \\\\\n",
        "2. `sacrebleu`: To evaluate our model using BLUE score metric"
      ]
    },
    {
      "cell_type": "code",
      "execution_count": null,
      "metadata": {
        "id": "4hbap3qmadgJ"
      },
      "outputs": [],
      "source": [
        "%%capture\n",
        "!pip install sentencepiece==0.1.97\n",
        "!pip install tqdm==4.29.1\n",
        "!pip install sacrebleu\n",
        "!pip install nltk\n",
        "!pip install 'portalocker>=2.0.0'"
      ]
    },
    {
      "cell_type": "markdown",
      "metadata": {
        "id": "yMNtv0jhyZuJ"
      },
      "source": [
        "Below, we import our standard libraries."
      ]
    },
    {
      "cell_type": "code",
      "execution_count": null,
      "metadata": {
        "id": "ivUAAQs2XuIw"
      },
      "outputs": [],
      "source": [
        "#@title Standard libraries\n",
        "# Standard libraries\n",
        "import sys\n",
        "import json\n",
        "import time\n",
        "import math\n",
        "import numpy as np\n",
        "from typing import List, Tuple, Dict, Set, Union\n",
        "from collections import Counter, namedtuple\n",
        "from itertools import chain\n",
        "from dataclasses import dataclass\n",
        "\n",
        "# to compute BLUE score\n",
        "import sacrebleu\n",
        "\n",
        "# Pytorch\n",
        "import torch\n",
        "import torch.nn as nn\n",
        "import torch.nn.utils\n",
        "import torch.nn.functional as F\n",
        "from torch.nn.utils.rnn import pad_packed_sequence, pack_padded_sequence\n",
        "\n",
        "# To train vocabulary\n",
        "import sentencepiece as spm\n",
        "\n",
        "# Ensure that all operations are deterministic on GPU (if used) for reproducibility\n",
        "torch.backends.cudnn.deterministic = True\n",
        "torch.backends.cudnn.benchmark = False"
      ]
    },
    {
      "cell_type": "code",
      "execution_count": null,
      "metadata": {
        "id": "DhgJuptiW9Pa"
      },
      "outputs": [],
      "source": [
        "#@title Default hyperparameters\n",
        "@dataclass\n",
        "class Args:\n",
        "    cuda: str = \"cuda:0\"\n",
        "    train_src: str = \"data/train.vi\"\n",
        "    train_tgt: str = \"data/train.en\"\n",
        "    dev_src: str = \"data/dev.vi\"\n",
        "    dev_tgt: str = 'data/dev.en'\n",
        "    vocab_file: str = 'vocab.json'\n",
        "    src_vocab_size: int = 15000\n",
        "    tgt_vocab_size: int = 21000\n",
        "    seed: int = 0\n",
        "    batch_size: int = 32\n",
        "    max_len: int = 320\n",
        "    embed_size: int = 1024\n",
        "    hidden_size: int = 768\n",
        "    clip_grad: float = 5.0                  # gradient clipping\n",
        "    log_every: int = 10                     # log every\n",
        "    max_epoch: int = 100                     # max epoch\n",
        "    patience: int = 5                       # wait for how many iterations to decay learning rate\n",
        "    max_num_trial: int = 5                  # terminate training after how many trials\n",
        "    lr_decay: float = 0.5                   # learning rate decay\n",
        "    beam_size: int = 5                      # beam size\n",
        "    lr: float = 0.001                       # learning rate\n",
        "    uniform_init: float = 0.1               # uniformly initialize all parameters\n",
        "    model_save_path: str = 'lstm_model.bin' # model save path\n",
        "    valid_niter: int = 2000                 # perform validation after how many iterations\n",
        "    dropout: float = 0.3\n",
        "    max_decoding_time_step: int = 70        # maximum number of decoding time steps\n",
        "\n",
        "args = Args()\n",
        "device = torch.device(args.cuda) if torch.cuda.is_available() else torch.device(\"cpu\")\n",
        "\n",
        "seed = int(args.seed)\n",
        "torch.manual_seed(seed)\n",
        "torch.cuda.manual_seed(seed)\n",
        "np.random.seed(seed * 13 // 7)"
      ]
    },
    {
      "cell_type": "markdown",
      "metadata": {
        "id": "fX-l-b2jIcLY"
      },
      "source": [
        "# Let's start your assignment implementation 💪\n"
      ]
    },
    {
      "cell_type": "markdown",
      "metadata": {
        "id": "yFw7oNvnzRjf"
      },
      "source": [
        "# Data Preparation\n",
        "\n",
        "A machine cannot directly understand \"Tôi yêu bạn\" the way humans do. We must first prepare and preprocess the data into a format the machine can comprehend.\n",
        "\n",
        "Below is a visual representation of the data preparation process using two sample data points. The steps are as follows:\n",
        "\n",
        "1. Download and load the data.\n",
        "2. Construct our `Vocab` from a list of subwords generated by `SentencePiece` ([github](https://github.com/google/sentencepiece)) for both the source and target languages.\n",
        "3. Apply `SentencePiece` to encode raw text into subwords and add special tokens for target data.\n",
        "3. Apply padding to ensure all elements in the same batch have the same length.\n",
        "4. Convert the padded batch into a tensor using word ids from our `Vocab`.\n",
        "\n",
        "\n",
        "\n",
        "<img src=\"https://drive.google.com/uc?id=1z9E_s55APC_pAGzpuuvENzvJqnHRz8j6\"/>"
      ]
    },
    {
      "cell_type": "markdown",
      "metadata": {
        "id": "DiTtm4ednPXG"
      },
      "source": [
        "If you're not yet familiar with tensors in PyTorch, you can visit this link for more information: [Tensor tutorial](https://pytorch.org/tutorials/beginner/blitz/tensor_tutorial.html)"
      ]
    },
    {
      "cell_type": "markdown",
      "metadata": {
        "id": "4HvcA-jc2CmC"
      },
      "source": [
        "\n",
        "## Loading data files\n",
        "The data for this project is a set of thousands of Vietnamese to\n",
        "English translation pairs. We will download them first then save to 'data' folder."
      ]
    },
    {
      "cell_type": "code",
      "execution_count": null,
      "metadata": {
        "id": "nQCDCurrVPwh"
      },
      "outputs": [],
      "source": [
        "%%capture\n",
        "!mkdir data\n",
        "\n",
        "import os\n",
        "import re\n",
        "\n",
        "def download_file(google_drive_link, to_save_path):\n",
        "    match = re.search(r\"/file/d/(.*?)/\", google_drive_link)\n",
        "    file_id = match.group(1) if match else None\n",
        "    new_path = f\"https://drive.google.com/uc?id={file_id}\"\n",
        "\n",
        "    os.system(f\"wget --no-check-certificate {new_path} -O {to_save_path}\")\n",
        "\n",
        "\n",
        "\n",
        "data_path = 'https://drive.google.com/file/d/1eq68XlKxWBFCj4YgMRl2N5YdrZvB9FDs/view?usp=sharing'\n",
        "download_file(data_path, args.train_src)\n",
        "\n",
        "data_path = 'https://drive.google.com/file/d/1679j2kIvdl8Oe_WRSX0vi62JtOrhr1GD/view?usp=sharing'\n",
        "download_file(data_path, args.train_tgt)\n",
        "\n",
        "\n",
        "data_path = 'https://drive.google.com/file/d/1p0tBxnD-MVXyve772omfq1nFDraeI_sO/view?usp=sharing'\n",
        "download_file(data_path, args.dev_src)\n",
        "\n",
        "data_path = 'https://drive.google.com/file/d/1ZvBBTUwzYJuN4J8WCZ9-kZiBEm4iPpiL/view?usp=sharing'\n",
        "download_file(data_path, args.dev_tgt)"
      ]
    },
    {
      "cell_type": "markdown",
      "metadata": {
        "id": "p0yO-MHgGKeX"
      },
      "source": [
        "## Logging data files"
      ]
    },
    {
      "cell_type": "markdown",
      "metadata": {
        "id": "4UQxrse_JeVw"
      },
      "source": [
        "Understanding the appearance of our data serves as a solid starting point when addressing the issue. The data will be recorded in the source-target (src-tgt) format, featuring raw, unprocessed text. In the subsequent section, you will observe how the data undergoes preprocessing into a more suitable format, specifically using a sub-word tokenizer, to enhance the machine's comprehension."
      ]
    },
    {
      "cell_type": "code",
      "execution_count": null,
      "metadata": {
        "id": "f_U7PVxJIVcv"
      },
      "outputs": [],
      "source": [
        "def read_file(file_path):\n",
        "  \"\"\" Read file, where each sentence is dilineated by a `\\n`.\n",
        "  @param file_path (str): path to file containing corpus\n",
        "  \"\"\"\n",
        "  data = []\n",
        "  with open(file_path, 'r', encoding='utf8') as f:\n",
        "    for line in f:\n",
        "      data.append(line.strip())\n",
        "\n",
        "  return data"
      ]
    },
    {
      "cell_type": "code",
      "execution_count": null,
      "metadata": {
        "id": "NgJsKOk-FosY"
      },
      "outputs": [],
      "source": [
        "def logging_data(file_path_src, file_path_tgt, num_data):\n",
        "    \"\"\" Read file, where each sentence is dilineated by a `\\n`.\n",
        "    @param file_path (str): path to file containing corpus\n",
        "    \"\"\"\n",
        "\n",
        "    data_src = read_file(file_path_src)\n",
        "    data_tgt = read_file(file_path_tgt)\n",
        "\n",
        "    for i in range(num_data):\n",
        "      print(\"Src sent: \", data_src[i])\n",
        "      print(\"Tgt sent: \", data_tgt[i])\n",
        "      print(\"\\n\")"
      ]
    },
    {
      "cell_type": "code",
      "execution_count": null,
      "metadata": {
        "colab": {
          "base_uri": "https://localhost:8080/"
        },
        "id": "7pqsnAr6Gw0w",
        "outputId": "2677798b-c9be-471f-a121-71dff453892b"
      },
      "outputs": [
        {
          "name": "stdout",
          "output_type": "stream",
          "text": [
            "Src sent:  Khoa học đằng sau một tiêu đề về khí hậu\n",
            "Tgt sent:  Rachel Pike : The science behind a climate headline\n",
            "\n",
            "\n",
            "Src sent:  Trong 4 phút , chuyên gia hoá học khí quyển Rachel Pike giới thiệu sơ lược về những nỗ lực khoa học miệt mài đằng sau những tiêu đề táo bạo về biến đổi khí hậu , cùng với đoàn nghiên cứu của mình -- hàng ngàn người đã cống hiến cho dự án này -- một chuyến bay mạo hiểm qua rừng già để tìm kiếm thông tin về một phân tử then chốt .\n",
            "Tgt sent:  In 4 minutes , atmospheric chemist Rachel Pike provides a glimpse of the massive scientific effort behind the bold headlines on climate change , with her team -- one of thousands who contributed -- taking a risky flight over the rainforest in pursuit of data on a key molecule .\n",
            "\n",
            "\n",
            "Src sent:  Tôi muốn cho các bạn biết về sự to lớn của những nỗ lực khoa học đã góp phần làm nên các dòng tít bạn thường thấy trên báo .\n",
            "Tgt sent:  I &apos;d like to talk to you today about the scale of the scientific effort that goes into making the headlines you see in the paper .\n",
            "\n",
            "\n",
            "Src sent:  Có những dòng trông như thế này khi bàn về biến đổi khí hậu , và như thế này khi nói về chất lượng không khí hay khói bụi .\n",
            "Tgt sent:  Headlines that look like this when they have to do with climate change , and headlines that look like this when they have to do with air quality or smog .\n",
            "\n",
            "\n",
            "Src sent:  Cả hai đều là một nhánh của cùng một lĩnh vực trong ngành khoa học khí quyển .\n",
            "Tgt sent:  They are both two branches of the same field of atmospheric science .\n",
            "\n",
            "\n"
          ]
        }
      ],
      "source": [
        "logging_data(args.train_src, args.train_tgt, 5)"
      ]
    },
    {
      "cell_type": "markdown",
      "metadata": {
        "id": "KEmMVX8J2hHw"
      },
      "source": [
        "## Q1: Padding function (5 points)\n",
        "In order to apply tensor operations, we must ensure that the sentences in a given batch are of the same length. Thus, we must identify the longest sentence in a batch and pad others to be the same length. Implement the `pad_sents` function, which shall produce these padded sentences."
      ]
    },
    {
      "cell_type": "code",
      "execution_count": null,
      "metadata": {
        "id": "1iQUZHWNWULr"
      },
      "outputs": [],
      "source": [
        "def pad_sents(sents, pad_token):\n",
        "    \"\"\" Pad list of sentences according to the longest sentence in the batch.\n",
        "        The paddings should be at the end of each sentence.\n",
        "    @param sents (list[list[str]]): list of sentences, where each sentence\n",
        "                                    is represented as a list of words\n",
        "    @param pad_token (str): padding token\n",
        "    @returns sents_padded (list[list[str]]): list of sentences where sentences shorter\n",
        "        than the max length sentence are padded out with the pad_token, such that\n",
        "        each sentences in the batch now has equal length.\n",
        "    \"\"\"\n",
        "    sents_padded = []\n",
        "\n",
        "    ### YOUR CODE HERE (~6 Lines)\n",
        "\n",
        "    ### END YOUR CODE\n",
        "\n",
        "    return sents_padded"
      ]
    },
    {
      "cell_type": "code",
      "execution_count": null,
      "metadata": {
        "id": "cNwJBxvO2u75"
      },
      "outputs": [],
      "source": [
        "sents = [\n",
        "    \"VietAI là tổ chức phi lợi nhuận.\",\n",
        "    \"Theo báo cáo mới nhất của Linkedin về danh sách việc làm triển vọng với mức lương hấp dẫn năm 2020, các chức danh công việc liên quan đến AI đều xếp thứ hạng cao.\",\n",
        "    \"Sứ mệnh của VietAI là ươm mầm tài năng về trí tuệ nhân tạo và xây dựng một cộng đồng các chuyên gia trong lĩnh vực trí tuệ nhân tạo đẳng cấp quốc tế.\"\n",
        "    \"Chúng ta đang trên hành trình tiến bộ và dân chủ hoá trí tuệ nhân tạo thông qua mã nguồn mở và khoa học mở\"]\n",
        "\n",
        "sents = [s.split() for s in sents]\n",
        "padded_sents = pad_sents(sents, pad_token=\"<PAD>\")\n",
        "\n",
        "for sent in padded_sents:\n",
        "    assert len(sent) == len(padded_sents[0])"
      ]
    },
    {
      "cell_type": "markdown",
      "metadata": {
        "id": "SGywMiTH5MCa"
      },
      "source": [
        "Below, we define the `VocabEntry` class. The `VocabEntry` class is a vocabulary entry that contains a dictionary that maps words to indices and provides methods to convert words to indices, indices to words, and sentences to tensors. The purpose of this class is to facilitate the management of the vocabulary."
      ]
    },
    {
      "cell_type": "code",
      "execution_count": null,
      "metadata": {
        "id": "euaeDPZSaISN"
      },
      "outputs": [],
      "source": [
        "class VocabEntry(object):\n",
        "    \"\"\" Vocabulary Entry, i.e. structure containing either\n",
        "    src or tgt language terms.\n",
        "    \"\"\"\n",
        "    def __init__(self, word2id=None):\n",
        "        \"\"\" Init VocabEntry Instance.\n",
        "        @param word2id (dict): dictionary mapping words 2 indices\n",
        "        \"\"\"\n",
        "        if word2id:\n",
        "            self.word2id = word2id\n",
        "        else:\n",
        "            self.word2id = dict()\n",
        "            self.word2id['<pad>'] = 0   # Pad Token\n",
        "            self.word2id['<s>'] = 1 # Start Token\n",
        "            self.word2id['</s>'] = 2    # End Token\n",
        "            self.word2id['<unk>'] = 3   # Unknown Token\n",
        "        self.unk_id = self.word2id['<unk>']\n",
        "        self.id2word = {v: k for k, v in self.word2id.items()}\n",
        "\n",
        "    def __getitem__(self, word):\n",
        "        \"\"\" Retrieve word's index. Return the index for the unk\n",
        "        token if the word is out of vocabulary.\n",
        "        @param word (str): word to look up.\n",
        "        @returns index (int): index of word\n",
        "        \"\"\"\n",
        "        return self.word2id.get(word, self.unk_id)\n",
        "\n",
        "    def __contains__(self, word):\n",
        "        \"\"\" Check if word is captured by VocabEntry.\n",
        "        @param word (str): word to look up\n",
        "        @returns contains (bool): whether word is contained\n",
        "        \"\"\"\n",
        "        return word in self.word2id\n",
        "\n",
        "    def __setitem__(self, key, value):\n",
        "        \"\"\" Raise error, if one tries to edit the VocabEntry.\n",
        "        \"\"\"\n",
        "        raise ValueError('vocabulary is readonly')\n",
        "\n",
        "    def __len__(self):\n",
        "        \"\"\" Compute number of words in VocabEntry.\n",
        "        @returns len (int): number of words in VocabEntry\n",
        "        \"\"\"\n",
        "        return len(self.word2id)\n",
        "\n",
        "    def __repr__(self):\n",
        "        \"\"\" Representation of VocabEntry to be used\n",
        "        when printing the object.\n",
        "        \"\"\"\n",
        "        return 'Vocabulary[size=%d]' % len(self)\n",
        "\n",
        "    def id2word(self, wid):\n",
        "        \"\"\" Return mapping of index to word.\n",
        "        @param wid (int): word index\n",
        "        @returns word (str): word corresponding to index\n",
        "        \"\"\"\n",
        "        return self.id2word[wid]\n",
        "\n",
        "    def add(self, word):\n",
        "        \"\"\" Add word to VocabEntry, if it is previously unseen.\n",
        "        @param word (str): word to add to VocabEntry\n",
        "        @return index (int): index that the word has been assigned\n",
        "        \"\"\"\n",
        "        if word not in self:\n",
        "            wid = self.word2id[word] = len(self)\n",
        "            self.id2word[wid] = word\n",
        "            return wid\n",
        "        else:\n",
        "            return self[word]\n",
        "\n",
        "    def words2indices(self, sents):\n",
        "        \"\"\" Convert list of words or list of sentences of words\n",
        "        into list or list of list of indices.\n",
        "        @param sents (list[str] or list[list[str]]): sentence(s) in words\n",
        "        @return word_ids (list[int] or list[list[int]]): sentence(s) in indices\n",
        "        \"\"\"\n",
        "        try:\n",
        "            if type(sents[0]) == list:\n",
        "                for i in range(len(sents)):\n",
        "                    # set max length\n",
        "                    sents[i] = sents[i][:args.max_len]\n",
        "                return [[self[w] for w in s] for s in sents]\n",
        "            else:\n",
        "                # set max length\n",
        "                sents = sents[:args.max_len]\n",
        "                return [[self[w] for w in sents]]\n",
        "        except Exception as e:\n",
        "            print(e, sents)\n",
        "            return []\n",
        "\n",
        "    def indices2words(self, word_ids):\n",
        "        \"\"\" Convert list of indices into words.\n",
        "        @param word_ids (list[int]): list of word ids\n",
        "        @return sents (list[str]): list of words\n",
        "        \"\"\"\n",
        "        return [self.id2word[w_id] for w_id in word_ids]\n",
        "\n",
        "    def to_input_tensor(self, sents: List[List[str]], device: torch.device = device) -> torch.Tensor:\n",
        "        \"\"\" Convert list of sentences (words) into tensor with necessary padding for\n",
        "        shorter sentences.\n",
        "\n",
        "        @param sents (List[List[str]]): list of sentences (words)\n",
        "        @param device: device on which to load the tesnor, i.e. CPU or GPU\n",
        "\n",
        "        @returns sents_var: tensor of (max_sentence_length, batch_size)\n",
        "        \"\"\"\n",
        "        word_ids = self.words2indices(sents)\n",
        "        sents_t = pad_sents(word_ids, self['<pad>'])\n",
        "        sents_var = torch.tensor(sents_t, dtype=torch.long, device=device)\n",
        "        return torch.t(sents_var)\n",
        "\n",
        "    @staticmethod\n",
        "    def from_corpus(corpus, size, freq_cutoff=2):\n",
        "        \"\"\" Given a corpus construct a Vocab Entry.\n",
        "        @param corpus (list[str]): corpus of text produced by read_corpus function\n",
        "        @param size (int): # of words in vocabulary\n",
        "        @param freq_cutoff (int): if word occurs n < freq_cutoff times, drop the word\n",
        "        @returns vocab_entry (VocabEntry): VocabEntry instance produced from provided corpus\n",
        "        \"\"\"\n",
        "        vocab_entry = VocabEntry()\n",
        "        word_freq = Counter(chain(*corpus))\n",
        "        valid_words = [w for w, v in word_freq.items() if v >= freq_cutoff]\n",
        "        print('number of word types: {}, number of word types w/ frequency >= {}: {}'\n",
        "              .format(len(word_freq), freq_cutoff, len(valid_words)))\n",
        "        top_k_words = sorted(valid_words, key=lambda w: word_freq[w], reverse=True)[:size]\n",
        "        for word in top_k_words:\n",
        "            vocab_entry.add(word)\n",
        "        return vocab_entry\n",
        "\n",
        "    @staticmethod\n",
        "    def from_subword_list(subword_list):\n",
        "        vocab_entry = VocabEntry()\n",
        "        for subword in subword_list:\n",
        "            vocab_entry.add(subword)\n",
        "        return vocab_entry"
      ]
    },
    {
      "cell_type": "markdown",
      "metadata": {
        "id": "T9afEr0m6ZkF"
      },
      "source": [
        "Afterwards, we use a `Vocab` class to wrap vocabulary used for both the source and target languages in a machine translation task. It is composed of two `VocabEntry` objects, one for the source language and one for the target language.\n",
        "\n",
        "The build method is used to construct a `Vocab` object from a list of subwords generated by `SentencePiece` for both the source and target languages. Then, we save them to a JSON file."
      ]
    },
    {
      "cell_type": "code",
      "execution_count": null,
      "metadata": {
        "id": "IoIvy1Fw6LGK"
      },
      "outputs": [],
      "source": [
        "class Vocab(object):\n",
        "    \"\"\" Vocab encapsulating src and target langauges.\n",
        "    \"\"\"\n",
        "    def __init__(self, src_vocab: VocabEntry, tgt_vocab: VocabEntry):\n",
        "        \"\"\" Init Vocab.\n",
        "        @param src_vocab (VocabEntry): VocabEntry for source language\n",
        "        @param tgt_vocab (VocabEntry): VocabEntry for target language\n",
        "        \"\"\"\n",
        "        self.src = src_vocab\n",
        "        self.tgt = tgt_vocab\n",
        "\n",
        "    @staticmethod\n",
        "    def build(src_sents, tgt_sents) -> 'Vocab':\n",
        "        \"\"\" Build Vocabulary.\n",
        "        @param src_sents (list[str]): Source subwords provided by SentencePiece\n",
        "        @param tgt_sents (list[str]): Target subwords provided by SentencePiece\n",
        "        \"\"\"\n",
        "\n",
        "        print('initialize source vocabulary ..')\n",
        "        src = VocabEntry.from_subword_list(src_sents)\n",
        "\n",
        "        print('initialize target vocabulary ..')\n",
        "        tgt = VocabEntry.from_subword_list(tgt_sents)\n",
        "\n",
        "        return Vocab(src, tgt)\n",
        "\n",
        "    def save(self, file_path):\n",
        "        \"\"\" Save Vocab to file as JSON dump.\n",
        "        @param file_path (str): file path to vocab file\n",
        "        \"\"\"\n",
        "        with open(file_path, 'w') as f:\n",
        "            json.dump(dict(src_word2id=self.src.word2id, tgt_word2id=self.tgt.word2id), f, indent=2)\n",
        "\n",
        "    @staticmethod\n",
        "    def load(file_path):\n",
        "        \"\"\" Load vocabulary from JSON dump.\n",
        "        @param file_path (str): file path to vocab file\n",
        "        @returns Vocab object loaded from JSON dump\n",
        "        \"\"\"\n",
        "        entry = json.load(open(file_path, 'r'))\n",
        "        src_word2id = entry['src_word2id']\n",
        "        tgt_word2id = entry['tgt_word2id']\n",
        "\n",
        "        return Vocab(VocabEntry(src_word2id), VocabEntry(tgt_word2id))\n",
        "\n",
        "    def __repr__(self):\n",
        "        \"\"\" Representation of Vocab to be used\n",
        "        when printing the object.\n",
        "        \"\"\"\n",
        "        return 'Vocab(source %d words, target %d words)' % (len(self.src), len(self.tgt))\n",
        "\n",
        "\n",
        "def get_vocab_list(file_path, source, vocab_size):\n",
        "    \"\"\" Use SentencePiece to tokenize and acquire list of unique subwords.\n",
        "    @param file_path (str): file path to corpus\n",
        "    @param source (str): tgt or src\n",
        "    @param vocab_size: desired vocabulary size\n",
        "    \"\"\"\n",
        "    spm.SentencePieceTrainer.Train(input=file_path, model_prefix=source, vocab_size=vocab_size)     # train the spm model\n",
        "    sp = spm.SentencePieceProcessor()   # create an instance; this saves .model and .vocab files\n",
        "    sp.Load('{}.model'.format(source))  # loads tgt.model or src.model\n",
        "    sp_list = [sp.IdToPiece(piece_id) for piece_id in range(sp.GetPieceSize())] # this is the list of subwords\n",
        "    return sp_list"
      ]
    },
    {
      "cell_type": "markdown",
      "metadata": {
        "id": "01HlWwyR6x0v"
      },
      "source": [
        "## Train and save our vocabulary to a json file"
      ]
    },
    {
      "cell_type": "code",
      "execution_count": null,
      "metadata": {
        "colab": {
          "base_uri": "https://localhost:8080/"
        },
        "id": "Uh-tl8jWat2S",
        "outputId": "9ddd173c-95e6-4061-965d-10eba1fec1bc"
      },
      "outputs": [
        {
          "name": "stdout",
          "output_type": "stream",
          "text": [
            "read in source sentences: data/train.vi\n",
            "read in target sentences: data/train.en\n",
            "initialize source vocabulary ..\n",
            "initialize target vocabulary ..\n",
            "generated vocabulary, source 15000 words, target 21000 words\n",
            "vocabulary saved to vocab.json\n"
          ]
        }
      ],
      "source": [
        "print('read in source sentences: %s' % args.train_src)\n",
        "print('read in target sentences: %s' % args.train_tgt)\n",
        "\n",
        "src_sents = get_vocab_list(args.train_src, source='src', vocab_size=args.src_vocab_size)\n",
        "tgt_sents = get_vocab_list(args.train_tgt, source='tgt', vocab_size=args.tgt_vocab_size)\n",
        "vocab = Vocab.build(src_sents, tgt_sents)\n",
        "print('generated vocabulary, source %d words, target %d words' % (len(src_sents), len(tgt_sents)))\n",
        "\n",
        "vocab.save(args.vocab_file)\n",
        "print('vocabulary saved to %s' % args.vocab_file)"
      ]
    },
    {
      "cell_type": "markdown",
      "metadata": {
        "id": "MiC1obxY763V"
      },
      "source": [
        "## Read sentence pairs for training\n",
        "The full process for preparing the data is:\n",
        "\n",
        "- Read text file  into pairs\n",
        "- Encode raw text into subwords\n",
        "- Add word lists into our data"
      ]
    },
    {
      "cell_type": "code",
      "execution_count": null,
      "metadata": {
        "id": "cIwV0sOye2JJ"
      },
      "outputs": [],
      "source": [
        "def read_corpus(file_path, source):\n",
        "    \"\"\" Read file, where each sentence is dilineated by a `\\n`.\n",
        "    @param file_path (str): path to file containing corpus\n",
        "    @param source (str): \"tgt\" or \"src\" indicating whether text\n",
        "        is of the source language or target language\n",
        "    \"\"\"\n",
        "    data = []\n",
        "    sp = spm.SentencePieceProcessor()\n",
        "    sp.load('{}.model'.format(source))\n",
        "\n",
        "    with open(file_path, 'r', encoding='utf8') as f:\n",
        "        for line in f:\n",
        "            subword_tokens = sp.encode_as_pieces(line)\n",
        "            # only append <s> and </s> to the target sentence\n",
        "            if source == 'tgt':\n",
        "                subword_tokens = ['<s>'] + subword_tokens + ['</s>']\n",
        "            data.append(subword_tokens)\n",
        "\n",
        "    return data\n",
        "\n",
        "train_data_src = read_corpus(args.train_src, source='src')\n",
        "train_data_tgt = read_corpus(args.train_tgt, source='tgt')\n",
        "\n",
        "dev_data_src = read_corpus(args.dev_src, source='src')\n",
        "dev_data_tgt = read_corpus(args.dev_tgt, source='tgt')\n",
        "\n",
        "train_data = list(zip(train_data_src, train_data_tgt))\n",
        "dev_data = list(zip(dev_data_src, dev_data_tgt))"
      ]
    },
    {
      "cell_type": "markdown",
      "metadata": {
        "id": "f1GXVgR08Nw3"
      },
      "source": [
        "We will visualize certain pairs of training data after encoding into subwords to gain insights into the data. It becomes evident that when raw text is encoded into subwords, a single word can be represented as the concatenation of other subwords. For instance, `\"Trong\"` transforms into `\"_Tro\"` and `\"ng\"` while `\"dòng\"` transforms into `\"_dò\"` and `\"ng\"`. Both examples will share the `\"ng\"` in common, reduce the number of item needed in the vocab size."
      ]
    },
    {
      "cell_type": "code",
      "execution_count": null,
      "metadata": {
        "colab": {
          "base_uri": "https://localhost:8080/"
        },
        "id": "VWCT-JzV6BeW",
        "outputId": "eb28253e-9528-48f3-fe95-3225f997bf11"
      },
      "outputs": [
        {
          "name": "stdout",
          "output_type": "stream",
          "text": [
            "Src sent: ▁Khoa|▁học|▁đ|ằng|▁sau|▁một|▁tiêu|▁đề|▁về|▁khí|▁hậu\n",
            "Tgt sent: <s>|▁Rachel|▁P|ike|▁|:|▁The|▁science|▁|behind|▁a|▁climate|▁headline|</s>\n",
            "\n",
            "\n",
            "Src sent: ▁Tro|ng|▁4|▁phút|▁,|▁chuyên|▁gia|▁hoá|▁học|▁khí|▁quyển|▁Rachel|▁P|ike|▁giới|▁t|hiệu|▁sơ|▁lược|▁về|▁những|▁nỗ|▁lực|▁khoa|▁học|▁m|iệt|▁mà|i|▁đ|ằng|▁sau|▁những|▁tiêu|▁đề|▁táo|▁bạo|▁về|▁biến|▁đổi|▁khí|▁hậu|▁,|▁cùng|▁với|▁đoàn|▁nghiên|▁cứu|▁của|▁mình|▁--|▁hàng|▁ngàn|▁người|▁đã|▁cố|ng|▁|hiến|▁cho|▁dự|▁án|▁này|▁--|▁một|▁chuyến|▁bay|▁mạo|▁hiểm|▁qua|▁rừng|▁già|▁để|▁tìm|▁kiếm|▁thông|▁tin|▁về|▁một|▁phân|▁tử|▁the|n|▁chố|t|▁.\n",
            "Tgt sent: <s>|▁In|▁4|▁minutes|▁|,|▁atmospher|ic|▁chemist|▁Rachel|▁P|ike|▁provide|s|▁a|▁glimpse|▁of|▁the|▁massive|▁scientific|▁effort|▁|behind|▁the|▁bold|▁headline|s|▁on|▁climate|▁change|▁|,|▁with|▁her|▁team|▁--|▁one|▁of|▁|thousands|▁who|▁contribute|d|▁--|▁|taking|▁a|▁risk|y|▁flight|▁over|▁the|▁rainforest|▁in|▁pursuit|▁of|▁data|▁on|▁a|▁key|▁molecule|▁.|</s>\n",
            "\n",
            "\n",
            "Src sent: ▁Tôi|▁muốn|▁cho|▁các|▁bạn|▁biết|▁về|▁sự|▁to|▁lớn|▁của|▁những|▁nỗ|▁lực|▁khoa|▁học|▁đã|▁góp|▁phần|▁làm|▁nên|▁các|▁dò|ng|▁tí|t|▁bạn|▁thường|▁thấy|▁trên|▁báo|▁.\n",
            "Tgt sent: <s>|▁I|▁&|apos|;|d|▁like|▁to|▁talk|▁to|▁you|▁to|day|▁about|▁the|▁scale|▁of|▁the|▁scientific|▁effort|▁that|▁go|es|▁into|▁|making|▁the|▁headline|s|▁you|▁see|▁in|▁the|▁paper|▁.|</s>\n",
            "\n",
            "\n",
            "Src sent: ▁Có|▁những|▁dò|ng|▁tr|ông|▁như|▁thế|▁này|▁khi|▁bàn|▁về|▁biến|▁đổi|▁khí|▁hậu|▁,|▁và|▁như|▁thế|▁này|▁khi|▁nói|▁về|▁chất|▁lượng|▁không|▁khí|▁hay|▁khói|▁bụ|i|▁.\n",
            "Tgt sent: <s>|▁Head|lines|▁that|▁look|▁like|▁|this|▁when|▁the|y|▁have|▁to|▁do|▁with|▁climate|▁change|▁|,|▁and|▁headline|s|▁that|▁look|▁like|▁|this|▁when|▁the|y|▁have|▁to|▁do|▁with|▁air|▁quality|▁or|▁smog|▁.|</s>\n",
            "\n",
            "\n",
            "Src sent: ▁Cả|▁hai|▁đều|▁là|▁một|▁nh|ánh|▁của|▁cùng|▁một|▁lĩnh|▁vực|▁trong|▁ngành|▁khoa|▁học|▁khí|▁quyển|▁.\n",
            "Tgt sent: <s>|▁The|y|▁are|▁both|▁two|▁branche|s|▁of|▁the|▁same|▁field|▁of|▁atmospher|ic|▁science|▁.|</s>\n",
            "\n",
            "\n"
          ]
        }
      ],
      "source": [
        "n = 5\n",
        "for i in range(n):\n",
        "  print(\"Src sent: \" + \"|\".join(train_data_src[i]))\n",
        "  print(\"Tgt sent: \" + \"|\".join(train_data_tgt[i]))\n",
        "  print(\"\\n\")"
      ]
    },
    {
      "cell_type": "markdown",
      "metadata": {
        "id": "HzUtPU1A32gt"
      },
      "source": [
        "We define the `batch_iter` function to iterate through the given data in batches of a specified size, where each batch contains source and target sentences.\n",
        "\n",
        "The sentences are sorted in reverse order by their length, so that longer sentences come first.\n",
        "\n",
        "The function takes three arguments: the data to iterate through, the batch size, and a flag indicating whether to shuffle the data randomly or not."
      ]
    },
    {
      "cell_type": "code",
      "execution_count": null,
      "metadata": {
        "id": "n4Lpa-Kck-QJ"
      },
      "outputs": [],
      "source": [
        "def batch_iter(data, batch_size, shuffle=False):\n",
        "    \"\"\" Yield batches of source and target sentences reverse sorted by length (largest to smallest).\n",
        "    @param data (list of (src_sent, tgt_sent)): list of tuples containing source and target sentence\n",
        "    @param batch_size (int): batch size\n",
        "    @param shuffle (boolean): whether to randomly shuffle the dataset\n",
        "    \"\"\"\n",
        "    batch_num = math.ceil(len(data) / batch_size)\n",
        "    index_array = list(range(len(data)))\n",
        "\n",
        "    if shuffle:\n",
        "        np.random.shuffle(index_array)\n",
        "\n",
        "    for i in range(batch_num):\n",
        "        indices = index_array[i * batch_size: (i + 1) * batch_size]\n",
        "        examples = [data[idx] for idx in indices]\n",
        "\n",
        "        examples = sorted(examples, key=lambda e: len(e[0]), reverse=True)\n",
        "        src_sents, tgt_sents = list(), list()\n",
        "        for src_sent, tgt_sent in examples:\n",
        "            if len(src_sent) > 0 and len(tgt_sent) > 0:\n",
        "                src_sents.append(src_sent)\n",
        "                tgt_sents.append(tgt_sent)\n",
        "        yield src_sents, tgt_sents"
      ]
    },
    {
      "cell_type": "markdown",
      "metadata": {
        "id": "l5x0BzxmmC8R"
      },
      "source": [
        "We will print the tensor output of sample sentences (or words) to visualize how they are represented, with necessary padding applied to shorter sentences for a batch size of 2. You will notice that the output contains numbers representing the word IDs of their corresponding words (e.g., 0 for `<PAD>`, 1 for `<s>`, and 2 for `</s>`). This tensor will be used during both training and evaluation, and you can find the `batch_iter` and `to_input_tensor` functions in the respective sections."
      ]
    },
    {
      "cell_type": "code",
      "execution_count": null,
      "metadata": {
        "colab": {
          "base_uri": "https://localhost:8080/"
        },
        "id": "wtqqPSFFE92j",
        "outputId": "c19cb91b-b467-4eb5-8086-9ed6f4797852"
      },
      "outputs": [
        {
          "name": "stdout",
          "output_type": "stream",
          "text": [
            "SOURCE TENSOR:  tensor([[ 700,  196],\n",
            "        [  68,  841],\n",
            "        [ 161,  163],\n",
            "        [   7,   22],\n",
            "        [  10,  324],\n",
            "        [  21,  195],\n",
            "        [ 192,  636],\n",
            "        [ 940,    5],\n",
            "        [  20,    0],\n",
            "        [ 529,    0],\n",
            "        [ 662,    0],\n",
            "        [  41,    0],\n",
            "        [ 541,    0],\n",
            "        [  27,    0],\n",
            "        [ 936,    0],\n",
            "        [ 327,    0],\n",
            "        [ 195,    0],\n",
            "        [  11,    0],\n",
            "        [  18,    0],\n",
            "        [ 304,    0],\n",
            "        [ 317,    0],\n",
            "        [ 159,    0],\n",
            "        [ 456,    0],\n",
            "        [  46,    0],\n",
            "        [ 187,    0],\n",
            "        [   4,    0],\n",
            "        [  41,    0],\n",
            "        [  61,    0],\n",
            "        [  36,    0],\n",
            "        [  46,    0],\n",
            "        [  79,    0],\n",
            "        [  11,    0],\n",
            "        [ 541,    0],\n",
            "        [  27,    0],\n",
            "        [ 936,    0],\n",
            "        [ 401,    0],\n",
            "        [1109,    0],\n",
            "        [ 377,    0],\n",
            "        [ 212,    0],\n",
            "        [ 697,    0],\n",
            "        [ 134,    0],\n",
            "        [  23,    0],\n",
            "        [8757,    0],\n",
            "        [ 100,    0],\n",
            "        [ 167,    0],\n",
            "        [1151,    0],\n",
            "        [ 368,    0],\n",
            "        [ 126,    0],\n",
            "        [ 120,    0],\n",
            "        [  13,    0],\n",
            "        [   9,    0],\n",
            "        [ 221,    0],\n",
            "        [ 403,    0],\n",
            "        [ 990,    0],\n",
            "        [ 341,    0],\n",
            "        [1937,    0],\n",
            "        [ 843,    0],\n",
            "        [ 542,    0],\n",
            "        [  29,    0],\n",
            "        [ 115,    0],\n",
            "        [ 646,    0],\n",
            "        [ 339,    0],\n",
            "        [ 661,    0],\n",
            "        [ 265,    0],\n",
            "        [  13,    0],\n",
            "        [ 221,    0],\n",
            "        [ 403,    0],\n",
            "        [   4,    0],\n",
            "        [  29,    0],\n",
            "        [ 480,    0],\n",
            "        [   8,    0],\n",
            "        [ 449,    0],\n",
            "        [  20,    0],\n",
            "        [ 676,    0],\n",
            "        [  84,    0],\n",
            "        [ 165,    0],\n",
            "        [ 952,    0],\n",
            "        [  75,    0],\n",
            "        [  73,    0],\n",
            "        [1537,    0],\n",
            "        [ 265,    0],\n",
            "        [ 153,    0],\n",
            "        [ 227,    0],\n",
            "        [3976,    0],\n",
            "        [ 267,    0],\n",
            "        [  75,    0],\n",
            "        [ 245,    0],\n",
            "        [2517,    0],\n",
            "        [1184,    0],\n",
            "        [  65,    0],\n",
            "        [ 833,    0],\n",
            "        [  84,    0],\n",
            "        [ 172,    0],\n",
            "        [   4,    0],\n",
            "        [  11,    0],\n",
            "        [ 541,    0],\n",
            "        [  27,    0],\n",
            "        [ 936,    0],\n",
            "        [ 327,    0],\n",
            "        [ 195,    0],\n",
            "        [  23,    0],\n",
            "        [8757,    0],\n",
            "        [ 100,    0],\n",
            "        [ 368,    0],\n",
            "        [ 126,    0],\n",
            "        [ 386,    0],\n",
            "        [ 221,    0],\n",
            "        [ 403,    0],\n",
            "        [ 134,    0],\n",
            "        [   8,    0],\n",
            "        [  15,    0],\n",
            "        [ 256,    0],\n",
            "        [ 118,    0],\n",
            "        [  14,    0],\n",
            "        [1078,    0],\n",
            "        [  86,    0],\n",
            "        [  91,    0],\n",
            "        [ 221,    0],\n",
            "        [ 403,    0],\n",
            "        [ 134,    0],\n",
            "        [ 118,    0],\n",
            "        [ 120,    0],\n",
            "        [  38,    0],\n",
            "        [1774,    0],\n",
            "        [2099,    0],\n",
            "        [2078,    0],\n",
            "        [   8,    0],\n",
            "        [  58,    0],\n",
            "        [  51,    0],\n",
            "        [ 163,    0],\n",
            "        [  29,    0],\n",
            "        [  24,    0],\n",
            "        [  19,    0],\n",
            "        [  14,    0],\n",
            "        [ 548,    0],\n",
            "        [ 247,    0],\n",
            "        [  54,    0]], device='cuda:0')\n",
            "TARGET TENSOR:  tensor([[    1,     1],\n",
            "        [  242,   108],\n",
            "        [   39,     7],\n",
            "        [   17,    20],\n",
            "        [  696,    48],\n",
            "        [   18,    13],\n",
            "        [  303,  1215],\n",
            "        [  558,    24],\n",
            "        [   45,   248],\n",
            "        [    8,     6],\n",
            "        [ 3029,     2],\n",
            "        [    7,     0],\n",
            "        [   14,     0],\n",
            "        [  283,     0],\n",
            "        [  148,     0],\n",
            "        [  193,     0],\n",
            "        [  737,     0],\n",
            "        [    7,     0],\n",
            "        [    4,     0],\n",
            "        [    5,     0],\n",
            "        [   45,     0],\n",
            "        [   95,     0],\n",
            "        [    8,     0],\n",
            "        [ 2962,     0],\n",
            "        [ 1861,     0],\n",
            "        [   14,     0],\n",
            "        [  214,     0],\n",
            "        [  172,     0],\n",
            "        [ 3029,     0],\n",
            "        [    7,     0],\n",
            "        [   11,     0],\n",
            "        [  318,     0],\n",
            "        [  638,     0],\n",
            "        [   18,     0],\n",
            "        [    8,     0],\n",
            "        [  147,     0],\n",
            "        [   14,     0],\n",
            "        [   13,     0],\n",
            "        [  293,     0],\n",
            "        [   44,     0],\n",
            "        [  672,     0],\n",
            "        [   44,     0],\n",
            "        [  599,     0],\n",
            "        [  798,     0],\n",
            "        [12208,     0],\n",
            "        [   31,     0],\n",
            "        [   35,     0],\n",
            "        [  174,     0],\n",
            "        [  449,     0],\n",
            "        [ 1593,     0],\n",
            "        [    4,     0],\n",
            "        [    5,     0],\n",
            "        [  174,     0],\n",
            "        [  595,     0],\n",
            "        [   15,     0],\n",
            "        [  174,     0],\n",
            "        [ 2067,     0],\n",
            "        [   34,     0],\n",
            "        [  321,     0],\n",
            "        [  518,     0],\n",
            "        [   15,     0],\n",
            "        [  561,     0],\n",
            "        [    7,     0],\n",
            "        [   18,     0],\n",
            "        [   13,     0],\n",
            "        [  330,     0],\n",
            "        [ 2097,     0],\n",
            "        [   18,     0],\n",
            "        [    8,     0],\n",
            "        [  570,     0],\n",
            "        [ 2572,     0],\n",
            "        [   85,     0],\n",
            "        [  137,     0],\n",
            "        [  546,     0],\n",
            "        [  119,     0],\n",
            "        [  270,     0],\n",
            "        [    4,     0],\n",
            "        [    5,     0],\n",
            "        [ 3029,     0],\n",
            "        [    7,     0],\n",
            "        [   16,     0],\n",
            "        [   11,     0],\n",
            "        [  318,     0],\n",
            "        [  638,     0],\n",
            "        [   18,     0],\n",
            "        [    8,     0],\n",
            "        [  147,     0],\n",
            "        [   14,     0],\n",
            "        [   16,     0],\n",
            "        [  330,     0],\n",
            "        [  798,     0],\n",
            "        [   15,     0],\n",
            "        [  241,     0],\n",
            "        [  226,     0],\n",
            "        [  100,     0],\n",
            "        [   40,     0],\n",
            "        [   16,     0],\n",
            "        [  330,     0],\n",
            "        [  798,     0],\n",
            "        [  122,     0],\n",
            "        [  413,     0],\n",
            "        [   18,     0],\n",
            "        [ 1768,     0],\n",
            "        [ 2783,     0],\n",
            "        [   15,     0],\n",
            "        [ 1546,     0],\n",
            "        [   11,     0],\n",
            "        [   21,     0],\n",
            "        [   11,     0],\n",
            "        [  182,     0],\n",
            "        [   42,     0],\n",
            "        [    2,     0]], device='cuda:0')\n"
          ]
        }
      ],
      "source": [
        "for src_sents, tgt_sents in batch_iter(dev_data, batch_size=2):\n",
        "  src_tensor = vocab.src.to_input_tensor(src_sents)\n",
        "  tgt_tensor = vocab.tgt.to_input_tensor(tgt_sents)\n",
        "\n",
        "  print(\"SOURCE TENSOR: \", src_tensor)\n",
        "  print(\"TARGET TENSOR: \", tgt_tensor)\n",
        "  break"
      ]
    },
    {
      "cell_type": "markdown",
      "metadata": {
        "id": "1TVBV17b9N3Z"
      },
      "source": [
        "# The Seq2Seq Model 1: RNNs with global attention\n",
        "\n",
        "In this section, we describe the training procedure for the proposed NMT system, which uses a Bidirectional LSTM Encoder and a Unidirectional LSTM Decoder.\n",
        "\n",
        "<img src=\"https://i.ibb.co/pjRW6tC/arc.png\" alt=\"arc\" border=\"0\" width=70%>\n",
        "\n",
        "# Model description (training procedure)\n",
        "\n",
        "Given a sentence in the source language, we look up the character or word embeddings from an **embeddings matrix**, yielding $x_1,...,x_m (x_i \\in \\mathbb{R}^e)$, where $m$ is the length of the source sentence and e is the embedding size. We feed the embeddings to the bidirectional encoder, yielding hidden states and cell states for both the forwards (→) and backwards (←) LSTMs. The forwards and backwards versions are concatenated to give hidden states $h^{enc}_i$ and cell states $c^{enc}_i$ :\n",
        "\n",
        "$$ h^{enc}_i = [\\overleftarrow{h^{enc}_i}; \\overrightarrow{h^{enc}_i}] \\:\\: \\text{where} \\:\\: h^{enc}_i \\in \\mathbb{R}^{2h \\times 1} $$\n",
        "$$ c^{enc}_i = [\\overleftarrow{c^{enc}_i}; \\overrightarrow{c^{enc}_i}] \\:\\: \\text{where} \\:\\: c^{enc}_i \\in \\mathbb{R}^{2h \\times 1} $$ \\\\\n",
        "\n",
        "We then initialize the **decoder**’s first hidden state $h^{enc}_0$ and cell state $c^{enc}_0$  with a linear projection of the encoder’s final hidden state and final cell state.\n",
        "\n",
        "$$ h^{dec}_0 = W_h[\\overleftarrow{h^{enc}_1}; \\overrightarrow{h^{enc}_m}] \\:\\: \\text{where} \\:\\: h^{dec}_0 \\in \\mathbb{R}^{h \\times 1} $$\n",
        "$$ c^{dec}_0 = W_c[\\overleftarrow{c^{enc}_1}; \\overrightarrow{c^{enc}_m}] \\:\\: \\text{where} \\:\\: c^{dec}_0 \\in \\mathbb{R}^{h \\times 1} $$ \\\\\n",
        "\n",
        "With the decoder initialized, we must now feed it a target sentence. On the $t^{th}$ step, we look up the embedding for the $t^{th}$ subword, $y_t \\in \\mathbb{R}^{e \\times 1}$ . We then concatenate $y_t$ with the combined-output vector $o_{t-1} \\in \\mathbb{R}^{h \\times 1}$ from the previous timestep (we will explain what this is later!) to produce $\\bar{y_t} \\in \\mathbb{R}^{(e+h) \\times 1}$. Note that for the first target subword (i.e. the start token) $o_0$ is a zero-vector. We then feed $\\bar{y_t}$ as input to the decoder.\n",
        "\n",
        "\n",
        "$$ h^{dec}_t , c^{dec}_t = \\text{Decoder}(\\bar{y_t},  h^{dec}_{t-1} , c^{dec}_{t-1} ) \\:\\:\\: \\text{where} \\:\\:\\: h^{dec}_t \\in \\mathbb{R}^{h \\times 1} , c^{dec}_t \\in \\mathbb{R}^{h \\times 1} $$ \\\\\n",
        "\n",
        "We then use $h^{dec}_t$ to compute multiplicative attention over $h^{enc}_1,...,, h^{enc}_m$ :\n",
        "\n",
        "$$ e_{t,i} = (h_t^{dec})^TW_{attProj}h^{enc}_i \\:\\:\\: \\text{where} \\:\\:\\: e_t \\in \\mathbb{R}^{m \\times 1}, W_{attProj} \\in \\mathbb{R}^{h \\times 2h} $$\n",
        "\n",
        "$$ \\alpha_t = softmax(e_t) \\:\\:\\: \\text{where} \\:\\:\\: \\alpha_t \\in \\mathbb{R}^{m \\times 1}$$\n",
        "\n",
        "$$ a_t = ∑_{i=1}^m \\alpha_{t, i} h^{enc}_i \\:\\:\\: \\text{where} \\:\\:\\: a_t \\in \\mathbb{R}^{2h \\times 1}$$ \\\\\n",
        "\n",
        "We now concatenate the attention output $a_t$ with the decoder hidden state $h^{dec}_t$ and pass this through a linear layer, tanh, and dropout to attain the *combined-output* vector $o_t$.\n",
        "\n",
        "$$ u_t = [a_t;h^{dec}_t] \\:\\:\\: \\text{where} \\:\\:\\: u_t \\in \\mathbb{R}^{3h \\times 1} $$\n",
        "\n",
        "$$ v_t = W_uu_t \\:\\:\\: where \\:\\:\\: v_t \\in \\mathbb{R}^{h \\times 1},W_u \\in \\mathbb{R}^{h \\times 3h}$$\n",
        "\n",
        "$$ o_t = dropout(tanh(v_t)) \\:\\:\\: where \\:\\:\\: o_t \\in \\mathbb{R}^{h \\times 1}$$ \\\\\n",
        "\n",
        "Then, we produce a probability distribution $P_t$ over target subwords at the $t^{th}$ timestep:\n",
        "\n",
        "$$ P_t = softmax(W_{vocab}o_t) \\:\\:\\: where \\:\\:\\: P_t \\in \\mathbb{R}^{V_t \\times 1}, W_{vocab}\\in \\mathbb{R}^{V_t \\times h} $$\n",
        "\n",
        "Here, $V_t$ is the size of the target vocabulary. Finally, to train the network we then compute the cross entropy loss between $P_t$ and $g_t$, where $g_t$ is the one-hot vector of the target subword at timestep $t$:\n",
        "\n",
        "$$ J_t(θ) = CrossEntropy(P_t, g_t)$$\n",
        "Here, $θ$ represents all the parameters of the model and $J_t(θ)$ is the loss on step t of the decoder.\n",
        "\n",
        "Now that we have described the model, let’s try implementing it Mandarin Vietnamese to English translation!\n",
        "\n",
        "\n"
      ]
    },
    {
      "cell_type": "markdown",
      "metadata": {
        "id": "tLAaS2fZ4aBS"
      },
      "source": [
        "## Q2 (5 points) Embedding Layer Initilization\n",
        "\n",
        "Implement the `__init__` function to initialize the necessary source and target embeddings."
      ]
    },
    {
      "cell_type": "code",
      "execution_count": null,
      "metadata": {
        "id": "O9zylrls4d6A"
      },
      "outputs": [],
      "source": [
        "class ModelEmbeddings(nn.Module):\n",
        "    \"\"\"\n",
        "    Class that converts input words to their embeddings.\n",
        "    \"\"\"\n",
        "    def __init__(self, embed_size, vocab):\n",
        "        \"\"\"\n",
        "        Init the Embedding layers.\n",
        "\n",
        "        @param embed_size (int): Embedding size (dimensionality)\n",
        "        @param vocab (Vocab): Vocabulary object containing src and tgt languages\n",
        "                              See vocab.py for documentation.\n",
        "        \"\"\"\n",
        "        super(ModelEmbeddings, self).__init__()\n",
        "        self.embed_size = embed_size\n",
        "\n",
        "        # default values\n",
        "        self.source = None\n",
        "        self.target = None\n",
        "\n",
        "        src_pad_token_idx = vocab.src['<pad>']\n",
        "        tgt_pad_token_idx = vocab.tgt['<pad>']\n",
        "\n",
        "        ### YOUR CODE HERE (~2 Lines)\n",
        "        ### TODO - Initialize the following variables:\n",
        "        ###     self.source (Embedding Layer for source language)\n",
        "        ###     self.target (Embedding Layer for target langauge)\n",
        "        ###\n",
        "        ### Note:\n",
        "        ###     1. `vocab` object contains two vocabularies:\n",
        "        ###            `vocab.src` for source\n",
        "        ###            `vocab.tgt` for target\n",
        "        ###     2. You can get the length of a specific vocabulary by running:\n",
        "        ###             `len(vocab.<specific_vocabulary>)`\n",
        "        ###     3. Remember to include the padding token for the specific vocabulary\n",
        "        ###        when creating your Embedding.\n",
        "        ###\n",
        "        ### Use the following docs to properly initialize these variables:\n",
        "        ###     Embedding Layer:\n",
        "        ###         https://pytorch.org/docs/stable/nn.html#torch.nn.Embedding\n",
        "        \n",
        "\n",
        "        ### END YOUR CODE"
      ]
    },
    {
      "cell_type": "markdown",
      "metadata": {
        "id": "PtcWFUr4NKoF"
      },
      "source": [
        "## Q3-6 RNN with Global attention NMT model"
      ]
    },
    {
      "cell_type": "markdown",
      "metadata": {
        "id": "eQedhWy5JE6I"
      },
      "source": [
        "\n",
        "### Q3 (10 points) Initialize layers in NMT model\n",
        "Implement the `init` function to initialize the necessary model layers (LSTM, projection, and dropout) for the NMT system."
      ]
    },
    {
      "cell_type": "markdown",
      "metadata": {
        "id": "pZukPek7NPbn"
      },
      "source": [
        "###  Q4 (15 points) Encoder\n",
        "Implement the `encode` function. This function converts the padded source sentences into the tensor $X$, generates $h^{enc}_1 , . . . , h^{enc}_m $, and computes the initial state $h^{dec}_0$ and initial cell  $h^{dec}_0$ for the $\\text{Decoder}$"
      ]
    },
    {
      "cell_type": "markdown",
      "metadata": {
        "id": "cOFoVBl-NSBf"
      },
      "source": [
        "\n",
        "### Q5 (15 points) Decoder\n",
        "Implement the `decode` function. This function constructs $\\bar{y}$ and runs the step function over every timestep for the input.\n",
        "\n"
      ]
    },
    {
      "cell_type": "markdown",
      "metadata": {
        "id": "OKOojY7ENUf0"
      },
      "source": [
        "### Q6: (20 points) Decoder step\n",
        "Implement the `step` function. This function applies the Decoder’s LSTM cell for a single timestep, computing the encoding of the target subword $h^{dec}_t$ , the attention scores $e_t$, attention distribution $\\alpha_t$, the attention output $a_t$, and finally the combined output $o_t$."
      ]
    },
    {
      "cell_type": "code",
      "execution_count": null,
      "metadata": {
        "id": "qfa3jewziImC"
      },
      "outputs": [],
      "source": [
        "Hypothesis = namedtuple('Hypothesis', ['value', 'score'])\n",
        "\n",
        "class NMT(nn.Module):\n",
        "    \"\"\" Simple Neural Machine Translation Model:\n",
        "        - Bidrectional LSTM Encoder\n",
        "        - Unidirection LSTM Decoder\n",
        "        - Global Attention Model (Luong, et al. 2015)\n",
        "    \"\"\"\n",
        "\n",
        "    def __init__(self, embed_size, hidden_size, vocab, dropout_rate=0.2):\n",
        "        \"\"\" Init NMT Model.\n",
        "\n",
        "        @param embed_size (int): Embedding size (dimensionality)\n",
        "        @param hidden_size (int): Hidden Size, the size of hidden states (dimensionality)\n",
        "        @param vocab (Vocab): Vocabulary object containing src and tgt languages\n",
        "                              See vocab.py for documentation.\n",
        "        @param dropout_rate (float): Dropout probability, for attention\n",
        "        \"\"\"\n",
        "        super(NMT, self).__init__()\n",
        "        self.model_embeddings = ModelEmbeddings(embed_size, vocab)\n",
        "        self.hidden_size = hidden_size\n",
        "        self.dropout_rate = dropout_rate\n",
        "        self.vocab = vocab\n",
        "\n",
        "        # default values\n",
        "        self.encoder = None\n",
        "        self.decoder = None\n",
        "        self.h_projection = None\n",
        "        self.c_projection = None\n",
        "        self.att_projection = None\n",
        "        self.combined_output_projection = None\n",
        "        self.target_vocab_projection = None\n",
        "        self.dropout = None\n",
        "        # For sanity check only, not relevant to implementation\n",
        "        self.gen_sanity_check = False\n",
        "        self.counter = 0\n",
        "\n",
        "        ### YOUR CODE HERE (~9 Lines)\n",
        "        ### TODO - Initialize the following variables IN THIS ORDER:\n",
        "        ###     self.post_embed_cnn (Conv1d layer with kernel size 2, input and output channels = embed_size,\n",
        "        ###         padding = same to preserve output shape )\n",
        "        ###     self.encoder (Bidirectional LSTM with bias)\n",
        "        ###     self.decoder (LSTM Cell with bias)\n",
        "        ###     self.h_projection (Linear Layer with no bias), called W_{h} .\n",
        "        ###     self.c_projection (Linear Layer with no bias), called W_{c} .\n",
        "        ###     self.att_projection (Linear Layer with no bias), called W_{attProj}.\n",
        "        ###     self.combined_output_projection (Linear Layer with no bias), called W_{u}.\n",
        "        ###     self.target_vocab_projection (Linear Layer with no bias), called W_{vocab}.\n",
        "        ###     self.dropout (Dropout Layer)\n",
        "        ###\n",
        "        ### Use the following docs to properly initialize these variables:\n",
        "        ###     LSTM:\n",
        "        ###         https://pytorch.org/docs/stable/nn.html#torch.nn.LSTM\n",
        "        ###     LSTM Cell:\n",
        "        ###         https://pytorch.org/docs/stable/nn.html#torch.nn.LSTMCell\n",
        "        ###     Linear Layer:\n",
        "        ###         https://pytorch.org/docs/stable/nn.html#torch.nn.Linear\n",
        "        ###     Dropout Layer:\n",
        "        ###         https://pytorch.org/docs/stable/nn.html#torch.nn.Dropout\n",
        "        ###     Conv1D Layer:\n",
        "        ###         https://pytorch.org/docs/stable/generated/torch.nn.Conv1d.html\n",
        "        \n",
        "\n",
        "        ### END YOUR CODE\n",
        "\n",
        "    def forward(self, source: List[List[str]], target: List[List[str]]) -> torch.Tensor:\n",
        "        \"\"\" Take a mini-batch of source and target sentences, compute the log-likelihood of\n",
        "        target sentences under the language models learned by the NMT system.\n",
        "\n",
        "        @param source (List[List[str]]): list of source sentence tokens\n",
        "        @param target (List[List[str]]): list of target sentence tokens, wrapped by `<s>` and `</s>`\n",
        "\n",
        "        @returns scores (Tensor): a variable/tensor of shape (b, ) representing the\n",
        "                                    log-likelihood of generating the gold-standard target sentence for\n",
        "                                    each example in the input batch. Here b = batch size.\n",
        "        \"\"\"\n",
        "        # Compute sentence lengths\n",
        "        # source_lengths = [len(s) for s in source]\n",
        "        source_lengths = [len(s) if len(s) <= args.max_len else args.max_len for s in source]\n",
        "\n",
        "        # Convert list of lists into tensors\n",
        "        source_padded = self.vocab.src.to_input_tensor(source, device=self.device)  # Tensor: (src_len, b)\n",
        "        target_padded = self.vocab.tgt.to_input_tensor(target, device=self.device)  # Tensor: (tgt_len, b)\n",
        "\n",
        "        ###     Run the network forward:\n",
        "        ###     1. Apply the encoder to `source_padded` by calling `self.encode()`\n",
        "        ###     2. Generate sentence masks for `source_padded` by calling `self.generate_sent_masks()`\n",
        "        ###     3. Apply the decoder to compute combined-output by calling `self.decode()`\n",
        "        ###     4. Compute log probability distribution over the target vocabulary using the\n",
        "        ###        combined_outputs returned by the `self.decode()` function.\n",
        "\n",
        "        enc_hiddens, dec_init_state = self.encode(source_padded, source_lengths)\n",
        "        enc_masks = self.generate_sent_masks(enc_hiddens, source_lengths)\n",
        "        combined_outputs = self.decode(enc_hiddens, enc_masks, dec_init_state, target_padded)\n",
        "        P = F.log_softmax(self.target_vocab_projection(combined_outputs), dim=-1)\n",
        "\n",
        "        # Zero out, probabilities for which we have nothing in the target text\n",
        "        target_masks = (target_padded != self.vocab.tgt['<pad>']).float()\n",
        "\n",
        "        # Compute log probability of generating true target words\n",
        "        target_gold_words_log_prob = torch.gather(P, index=target_padded[1:].unsqueeze(-1), dim=-1).squeeze(\n",
        "            -1) * target_masks[1:]\n",
        "        scores = target_gold_words_log_prob.sum(dim=0)\n",
        "        return scores\n",
        "\n",
        "    def encode(self, source_padded: torch.Tensor, source_lengths: List[int]) -> Tuple[\n",
        "        torch.Tensor, Tuple[torch.Tensor, torch.Tensor]]:\n",
        "        \"\"\" Apply the encoder to source sentences to obtain encoder hidden states.\n",
        "            Additionally, take the final states of the encoder and project them to obtain initial states for decoder.\n",
        "\n",
        "        @param source_padded (Tensor): Tensor of padded source sentences with shape (src_len, b), where\n",
        "                                        b = batch_size, src_len = maximum source sentence length. Note that\n",
        "                                       these have already been sorted in order of longest to shortest sentence.\n",
        "        @param source_lengths (List[int]): List of actual lengths for each of the source sentences in the batch\n",
        "        @returns enc_hiddens (Tensor): Tensor of hidden units with shape (b, src_len, h*2), where\n",
        "                                        b = batch size, src_len = maximum source sentence length, h = hidden size.\n",
        "        @returns dec_init_state (tuple(Tensor, Tensor)): Tuple of tensors representing the decoder's initial\n",
        "                                                hidden state and cell. Both tensors should have shape (2, b, h).\n",
        "        \"\"\"\n",
        "        enc_hiddens, dec_init_state = None, None\n",
        "\n",
        "        ### YOUR CODE HERE (~ 11 Lines)\n",
        "        ### TODO:\n",
        "        ###     1. Construct Tensor `X` of source sentences with shape (src_len, b, e) using the source model embeddings.\n",
        "        ###         src_len = maximum source sentence length, b = batch size, e = embedding size. Note\n",
        "        ###         that there is no initial hidden state or cell for the encoder.\n",
        "        ###     2. Apply the post_embed_cnn layer. Before feeding X into the CNN, first use torch.permute to change the\n",
        "        ###         shape of X to (b, e, src_len). After getting the output from the CNN, still stored in the X variable,\n",
        "        ###         remember to use torch.permute again to revert X back to its original shape.\n",
        "        ###     3. Compute `enc_hiddens`, `last_hidden`, `last_cell` by applying the encoder to `X`.\n",
        "        ###         - Before you can apply the encoder, you need to apply the `pack_padded_sequence` function to X.\n",
        "        ###         - After you apply the encoder, you need to apply the `pad_packed_sequence` function to enc_hiddens.\n",
        "        ###         - Note that the shape of the tensor output returned by the encoder RNN is (src_len, b, h*2) and we want to\n",
        "        ###           return a tensor of shape (b, src_len, h*2) as `enc_hiddens`, so you may need to do more permuting.\n",
        "        ###         - Note on using pad_packed_sequence -> For batched inputs, you need to make sure that each of the\n",
        "        ###           individual input examples has the same shape.\n",
        "        ###     4. Compute `dec_init_state` = (init_decoder_hidden, init_decoder_cell):\n",
        "        ###         - `init_decoder_hidden`:\n",
        "        ###             `last_hidden` is a tensor shape (2, b, h). The first dimension corresponds to forwards and backwards.\n",
        "        ###             Concatenate the forwards and backwards tensors to obtain a tensor shape (b, 2*h).\n",
        "        ###             Apply the h_projection layer to this in order to compute init_decoder_hidden.\n",
        "        ###             This is h_0^{dec} in the PDF. Here b = batch size, h = hidden size\n",
        "        ###         - `init_decoder_cell`:\n",
        "        ###             `last_cell` is a tensor shape (2, b, h). The first dimension corresponds to forwards and backwards.\n",
        "        ###             Concatenate the forwards and backwards tensors to obtain a tensor shape (b, 2*h).\n",
        "        ###             Apply the c_projection layer to this in order to compute init_decoder_cell.\n",
        "        ###             This is c_0^{dec} in the PDF. Here b = batch size, h = hidden size\n",
        "        ###\n",
        "        ### See the following docs, as you may need to use some of the following functions in your implementation:\n",
        "        ###     Pack the padded sequence X before passing to the encoder:\n",
        "        ###         https://pytorch.org/docs/stable/generated/torch.nn.utils.rnn.pack_padded_sequence.html\n",
        "        ###     Pad the packed sequence, enc_hiddens, returned by the encoder:\n",
        "        ###         https://pytorch.org/docs/stable/generated/torch.nn.utils.rnn.pad_packed_sequence.html\n",
        "        ###     Tensor Concatenation:\n",
        "        ###         https://pytorch.org/docs/stable/generated/torch.cat.html\n",
        "        ###     Tensor Permute:\n",
        "        ###         https://pytorch.org/docs/stable/generated/torch.permute.html\n",
        "        ###     Tensor Reshape (a possible alternative to permute):\n",
        "        ###         https://pytorch.org/docs/stable/generated/torch.Tensor.reshape.html\n",
        "        \n",
        "        \n",
        "        ### END YOUR CODE\n",
        "\n",
        "        return enc_hiddens, dec_init_state\n",
        "\n",
        "    def decode(self, enc_hiddens: torch.Tensor, enc_masks: torch.Tensor,\n",
        "               dec_init_state: Tuple[torch.Tensor, torch.Tensor], target_padded: torch.Tensor) -> torch.Tensor:\n",
        "        \"\"\"Compute combined output vectors for a batch.\n",
        "\n",
        "        @param enc_hiddens (Tensor): Hidden states (b, src_len, h*2), where\n",
        "                                     b = batch size, src_len = maximum source sentence length, h = hidden size.\n",
        "        @param enc_masks (Tensor): Tensor of sentence masks (b, src_len), where\n",
        "                                     b = batch size, src_len = maximum source sentence length.\n",
        "        @param dec_init_state (tuple(Tensor, Tensor)): Initial state and cell for decoder\n",
        "        @param target_padded (Tensor): Gold-standard padded target sentences (tgt_len, b), where\n",
        "                                       tgt_len = maximum target sentence length, b = batch size.\n",
        "\n",
        "        @returns combined_outputs (Tensor): combined output tensor  (tgt_len, b,  h), where\n",
        "                                        tgt_len = maximum target sentence length, b = batch_size,  h = hidden size\n",
        "        \"\"\"\n",
        "        # Chop off the <END> token for max length sentences.\n",
        "        target_padded = target_padded[:-1]\n",
        "\n",
        "        # Initialize the decoder state (hidden and cell)\n",
        "        dec_state = dec_init_state\n",
        "\n",
        "        # Initialize previous combined output vector o_{t-1} as zero\n",
        "        batch_size = enc_hiddens.size(0)\n",
        "        o_prev = torch.zeros(batch_size, self.hidden_size, device=self.device)\n",
        "\n",
        "        # Initialize a list we will use to collect the combined output o_t on each step\n",
        "        combined_outputs = []\n",
        "\n",
        "        ### YOUR CODE HERE (~9 Lines)\n",
        "        ### TODO:\n",
        "        ###     1. Apply the attention projection layer to `enc_hiddens` to obtain `enc_hiddens_proj`,\n",
        "        ###         which should be shape (b, src_len, h),\n",
        "        ###         where b = batch size, src_len = maximum source length, h = hidden size.\n",
        "        ###         This is applying W_{attProj} to h^enc, as described in the PDF.\n",
        "        ###     2. Construct tensor `Y` of target sentences with shape (tgt_len, b, e) using the target model embeddings.\n",
        "        ###         where tgt_len = maximum target sentence length, b = batch size, e = embedding size.\n",
        "        ###     3. Use the torch.split function to iterate over the time dimension of Y.\n",
        "        ###         Within the loop, this will give you Y_t of shape (1, b, e) where b = batch size, e = embedding size.\n",
        "        ###             - Squeeze Y_t into a tensor of dimension (b, e).\n",
        "        ###             - Construct Ybar_t by concatenating Y_t with o_prev on their last dimension\n",
        "        ###             - Use the step function to compute the the Decoder's next (cell, state) values\n",
        "        ###               as well as the new combined output o_t.\n",
        "        ###             - Append o_t to combined_outputs\n",
        "        ###             - Update o_prev to the new o_t.\n",
        "        ###     4. Use torch.stack to convert combined_outputs from a list length tgt_len of\n",
        "        ###         tensors shape (b, h), to a single tensor shape (tgt_len, b, h)\n",
        "        ###         where tgt_len = maximum target sentence length, b = batch size, h = hidden size.\n",
        "        ###\n",
        "        ### Note:\n",
        "        ###    - When using the squeeze() function make sure to specify the dimension you want to squeeze\n",
        "        ###      over. Otherwise, you will remove the batch dimension accidentally, if batch_size = 1.\n",
        "        ###\n",
        "        ### You may find some of these functions useful:\n",
        "        ###     Zeros Tensor:\n",
        "        ###         https://pytorch.org/docs/stable/torch.html#torch.zeros\n",
        "        ###     Tensor Splitting (iteration):\n",
        "        ###         https://pytorch.org/docs/stable/torch.html#torch.split\n",
        "        ###     Tensor Dimension Squeezing:\n",
        "        ###         https://pytorch.org/docs/stable/torch.html#torch.squeeze\n",
        "        ###     Tensor Concatenation:\n",
        "        ###         https://pytorch.org/docs/stable/torch.html#torch.cat\n",
        "        ###     Tensor Stacking:\n",
        "        ###         https://pytorch.org/docs/stable/torch.html#torch.stack\n",
        "\n",
        "\n",
        "        ### END YOUR CODE\n",
        "\n",
        "        return combined_outputs\n",
        "\n",
        "    def step(self, Ybar_t: torch.Tensor,\n",
        "             dec_state: Tuple[torch.Tensor, torch.Tensor],\n",
        "             enc_hiddens: torch.Tensor,\n",
        "             enc_hiddens_proj: torch.Tensor,\n",
        "             enc_masks: torch.Tensor) -> Tuple[Tuple, torch.Tensor, torch.Tensor]:\n",
        "        \"\"\" Compute one forward step of the LSTM decoder, including the attention computation.\n",
        "\n",
        "        @param Ybar_t (Tensor): Concatenated Tensor of [Y_t o_prev], with shape (b, e + h). The input for the decoder,\n",
        "                                where b = batch size, e = embedding size, h = hidden size.\n",
        "        @param dec_state (tuple(Tensor, Tensor)): Tuple of tensors both with shape (b, h), where b = batch size, h = hidden size.\n",
        "                First tensor is decoder's prev hidden state, second tensor is decoder's prev cell.\n",
        "        @param enc_hiddens (Tensor): Encoder hidden states Tensor, with shape (b, src_len, h * 2), where b = batch size,\n",
        "                                    src_len = maximum source length, h = hidden size.\n",
        "        @param enc_hiddens_proj (Tensor): Encoder hidden states Tensor, projected from (h * 2) to h. Tensor is with shape (b, src_len, h),\n",
        "                                    where b = batch size, src_len = maximum source length, h = hidden size.\n",
        "        @param enc_masks (Tensor): Tensor of sentence masks shape (b, src_len),\n",
        "                                    where b = batch size, src_len is maximum source length.\n",
        "\n",
        "        @returns dec_state (tuple (Tensor, Tensor)): Tuple of tensors both shape (b, h), where b = batch size, h = hidden size.\n",
        "                First tensor is decoder's new hidden state, second tensor is decoder's new cell.\n",
        "        @returns combined_output (Tensor): Combined output Tensor at timestep t, shape (b, h), where b = batch size, h = hidden size.\n",
        "        @returns e_t (Tensor): Tensor of shape (b, src_len). It is attention scores distribution.\n",
        "                                Note: You will not use this outside of this function.\n",
        "                                      We are simply returning this value so that we can sanity check\n",
        "                                      your implementation.\n",
        "        \"\"\"\n",
        "\n",
        "        combined_output = None\n",
        "\n",
        "        ### YOUR CODE HERE (~3 Lines)\n",
        "        ### TODO:\n",
        "        ###     1. Apply the decoder to `Ybar_t` and `dec_state`to obtain the new dec_state.\n",
        "        ###     2. Split dec_state into its two parts (dec_hidden, dec_cell)\n",
        "        ###     3. Compute the attention scores e_t, a Tensor shape (b, src_len).\n",
        "        ###        Note: b = batch_size, src_len = maximum source length, h = hidden size.\n",
        "        ###\n",
        "        ###       Hints:\n",
        "        ###         - dec_hidden is shape (b, h) and corresponds to h^dec_t in the PDF (batched)\n",
        "        ###         - enc_hiddens_proj is shape (b, src_len, h) and corresponds to W_{attProj} h^enc (batched).\n",
        "        ###         - Use batched matrix multiplication (torch.bmm) to compute e_t (be careful about the input/ output shapes!)\n",
        "        ###         - To get the tensors into the right shapes for bmm, you will need to do some squeezing and unsqueezing.\n",
        "        ###         - When using the squeeze() function make sure to specify the dimension you want to squeeze\n",
        "        ###             over. Otherwise, you will remove the batch dimension accidentally, if batch_size = 1.\n",
        "        ###\n",
        "        ### Use the following docs to implement this functionality:\n",
        "        ###     Batch Multiplication:\n",
        "        ###        https://pytorch.org/docs/stable/torch.html#torch.bmm\n",
        "        ###     Tensor Unsqueeze:\n",
        "        ###         https://pytorch.org/docs/stable/torch.html#torch.unsqueeze\n",
        "        ###     Tensor Squeeze:\n",
        "        ###         https://pytorch.org/docs/stable/torch.html#torch.squeeze\n",
        "        \n",
        "\n",
        "        ### END YOUR CODE\n",
        "\n",
        "        # Set e_t to -inf where enc_masks has 1\n",
        "        if enc_masks is not None:\n",
        "            e_t.data.masked_fill_(enc_masks.bool(), -float('inf'))\n",
        "\n",
        "        ### YOUR CODE HERE (~6 Lines)\n",
        "        ### TODO:\n",
        "        ###     1. Apply softmax to e_t to yield alpha_t\n",
        "        ###     2. Use batched matrix multiplication between alpha_t and enc_hiddens to obtain the\n",
        "        ###         attention output vector, a_t.\n",
        "        # $$     Hints:\n",
        "        ###           - alpha_t is shape (b, src_len)\n",
        "        ###           - enc_hiddens is shape (b, src_len, 2h)\n",
        "        ###           - a_t should be shape (b, 2h)\n",
        "        ###           - You will need to do some squeezing and unsqueezing.\n",
        "        ###     Note: b = batch size, src_len = maximum source length, h = hidden size.\n",
        "        ###\n",
        "        ###     3. Concatenate dec_hidden with a_t to compute tensor U_t\n",
        "        ###     4. Apply the combined output projection layer to U_t to compute tensor V_t\n",
        "        ###     5. Compute tensor O_t by first applying the Tanh function and then the dropout layer.\n",
        "        ###\n",
        "        ### Use the following docs to implement this functionality:\n",
        "        ###     Softmax:\n",
        "        ###         https://pytorch.org/docs/stable/nn.functional.html#torch.nn.functional.softmax\n",
        "        ###     Batch Multiplication:\n",
        "        ###        https://pytorch.org/docs/stable/torch.html#torch.bmm\n",
        "        ###     Tensor View:\n",
        "        ###         https://pytorch.org/docs/stable/tensors.html#torch.Tensor.view\n",
        "        ###     Tensor Concatenation:\n",
        "        ###         https://pytorch.org/docs/stable/torch.html#torch.cat\n",
        "        ###     Tanh:\n",
        "        ###         https://pytorch.org/docs/stable/torch.html#torch.tanh\n",
        "        \n",
        "\n",
        "        ### END YOUR CODE\n",
        "\n",
        "        combined_output = O_t\n",
        "        return dec_state, combined_output, e_t\n",
        "\n",
        "    def generate_sent_masks(self, enc_hiddens: torch.Tensor, source_lengths: List[int]) -> torch.Tensor:\n",
        "        \"\"\" Generate sentence masks for encoder hidden states.\n",
        "\n",
        "        @param enc_hiddens (Tensor): encodings of shape (b, src_len, 2*h), where b = batch size,\n",
        "                                     src_len = max source length, h = hidden size.\n",
        "        @param source_lengths (List[int]): List of actual lengths for each of the sentences in the batch.\n",
        "\n",
        "        @returns enc_masks (Tensor): Tensor of sentence masks of shape (b, src_len),\n",
        "                                    where src_len = max source length, h = hidden size.\n",
        "        \"\"\"\n",
        "        enc_masks = torch.zeros(enc_hiddens.size(0), enc_hiddens.size(1), dtype=torch.float)\n",
        "        for e_id, src_len in enumerate(source_lengths):\n",
        "            enc_masks[e_id, src_len:] = 1\n",
        "        return enc_masks.to(self.device)\n",
        "\n",
        "    def beam_search(self, src_sent: List[str], beam_size: int = 5, max_decoding_time_step: int = 70) -> List[\n",
        "        Hypothesis]:\n",
        "        \"\"\" Given a single source sentence, perform beam search, yielding translations in the target language.\n",
        "        @param src_sent (List[str]): a single source sentence (words)\n",
        "        @param beam_size (int): beam size\n",
        "        @param max_decoding_time_step (int): maximum number of time steps to unroll the decoding RNN\n",
        "        @returns hypotheses (List[Hypothesis]): a list of hypothesis, each hypothesis has two fields:\n",
        "                value: List[str]: the decoded target sentence, represented as a list of words\n",
        "                score: float: the log-likelihood of the target sentence\n",
        "        \"\"\"\n",
        "        src_sents_var = self.vocab.src.to_input_tensor([src_sent], self.device)\n",
        "\n",
        "        src_encodings, dec_init_vec = self.encode(src_sents_var, [len(src_sent)])\n",
        "        src_encodings_att_linear = self.att_projection(src_encodings)\n",
        "\n",
        "        h_tm1 = dec_init_vec\n",
        "        att_tm1 = torch.zeros(1, self.hidden_size, device=self.device)\n",
        "\n",
        "        eos_id = self.vocab.tgt['</s>']\n",
        "\n",
        "        hypotheses = [['<s>']]\n",
        "        hyp_scores = torch.zeros(len(hypotheses), dtype=torch.float, device=self.device)\n",
        "        completed_hypotheses = []\n",
        "\n",
        "        t = 0\n",
        "        while len(completed_hypotheses) < beam_size and t < max_decoding_time_step:\n",
        "            t += 1\n",
        "            hyp_num = len(hypotheses)\n",
        "\n",
        "            exp_src_encodings = src_encodings.expand(hyp_num,\n",
        "                                                     src_encodings.size(1),\n",
        "                                                     src_encodings.size(2))\n",
        "\n",
        "            exp_src_encodings_att_linear = src_encodings_att_linear.expand(hyp_num,\n",
        "                                                                           src_encodings_att_linear.size(1),\n",
        "                                                                           src_encodings_att_linear.size(2))\n",
        "\n",
        "            y_tm1 = torch.tensor([self.vocab.tgt[hyp[-1]] for hyp in hypotheses], dtype=torch.long, device=self.device)\n",
        "            y_t_embed = self.model_embeddings.target(y_tm1)\n",
        "\n",
        "            x = torch.cat([y_t_embed, att_tm1], dim=-1)\n",
        "\n",
        "            (h_t, cell_t), att_t, _ = self.step(x, h_tm1,\n",
        "                                                exp_src_encodings, exp_src_encodings_att_linear, enc_masks=None)\n",
        "\n",
        "            # log probabilities over target words\n",
        "            log_p_t = F.log_softmax(self.target_vocab_projection(att_t), dim=-1)\n",
        "\n",
        "            live_hyp_num = beam_size - len(completed_hypotheses)\n",
        "            contiuating_hyp_scores = (hyp_scores.unsqueeze(1).expand_as(log_p_t) + log_p_t).view(-1)\n",
        "            top_cand_hyp_scores, top_cand_hyp_pos = torch.topk(contiuating_hyp_scores, k=live_hyp_num)\n",
        "\n",
        "            prev_hyp_ids = torch.div(top_cand_hyp_pos, len(self.vocab.tgt), rounding_mode='floor')\n",
        "            hyp_word_ids = top_cand_hyp_pos % len(self.vocab.tgt)\n",
        "\n",
        "            new_hypotheses = []\n",
        "            live_hyp_ids = []\n",
        "            new_hyp_scores = []\n",
        "\n",
        "            for prev_hyp_id, hyp_word_id, cand_new_hyp_score in zip(prev_hyp_ids, hyp_word_ids, top_cand_hyp_scores):\n",
        "                prev_hyp_id = prev_hyp_id.item()\n",
        "                hyp_word_id = hyp_word_id.item()\n",
        "                cand_new_hyp_score = cand_new_hyp_score.item()\n",
        "\n",
        "                hyp_word = self.vocab.tgt.id2word[hyp_word_id]\n",
        "                new_hyp_sent = hypotheses[prev_hyp_id] + [hyp_word]\n",
        "                if hyp_word == '</s>':\n",
        "                    completed_hypotheses.append(Hypothesis(value=new_hyp_sent[1:-1],\n",
        "                                                           score=cand_new_hyp_score))\n",
        "                else:\n",
        "                    new_hypotheses.append(new_hyp_sent)\n",
        "                    live_hyp_ids.append(prev_hyp_id)\n",
        "                    new_hyp_scores.append(cand_new_hyp_score)\n",
        "\n",
        "            if len(completed_hypotheses) == beam_size:\n",
        "                break\n",
        "\n",
        "            live_hyp_ids = torch.tensor(live_hyp_ids, dtype=torch.long, device=self.device)\n",
        "            h_tm1 = (h_t[live_hyp_ids], cell_t[live_hyp_ids])\n",
        "            att_tm1 = att_t[live_hyp_ids]\n",
        "\n",
        "            hypotheses = new_hypotheses\n",
        "            hyp_scores = torch.tensor(new_hyp_scores, dtype=torch.float, device=self.device)\n",
        "\n",
        "        if len(completed_hypotheses) == 0:\n",
        "            completed_hypotheses.append(Hypothesis(value=hypotheses[0][1:],\n",
        "                                                   score=hyp_scores[0].item()))\n",
        "\n",
        "        completed_hypotheses.sort(key=lambda hyp: hyp.score, reverse=True)\n",
        "\n",
        "        return completed_hypotheses\n",
        "\n",
        "    @property\n",
        "    def device(self) -> torch.device:\n",
        "        \"\"\" Determine which device to place the Tensors upon, CPU or GPU.\n",
        "        \"\"\"\n",
        "        return self.model_embeddings.source.weight.device\n",
        "\n",
        "    @staticmethod\n",
        "    def load(model_path: str):\n",
        "        \"\"\" Load the model from a file.\n",
        "        @param model_path (str): path to model\n",
        "        \"\"\"\n",
        "        params = torch.load(model_path, map_location=lambda storage, loc: storage)\n",
        "        args = params['args']\n",
        "        model = NMT(vocab=params['vocab'], **args)\n",
        "        model.load_state_dict(params['state_dict'])\n",
        "\n",
        "        return model\n",
        "\n",
        "    def save(self, path: str):\n",
        "        \"\"\" Save the odel to a file.\n",
        "        @param path (str): path to the model\n",
        "        \"\"\"\n",
        "        print('save model parameters to [%s]' % path, file=sys.stderr)\n",
        "\n",
        "        params = {\n",
        "            'args': dict(embed_size=self.model_embeddings.embed_size, hidden_size=self.hidden_size,\n",
        "                         dropout_rate=self.dropout_rate),\n",
        "            'vocab': self.vocab,\n",
        "            'state_dict': self.state_dict()\n",
        "        }\n",
        "\n",
        "        torch.save(params, path)"
      ]
    },
    {
      "cell_type": "markdown",
      "metadata": {
        "id": "ViJAE00fMKw7"
      },
      "source": [
        "Now it’s time to get things running!"
      ]
    },
    {
      "cell_type": "markdown",
      "metadata": {
        "id": "aJjqKeVjNdJt"
      },
      "source": [
        "## Evaluating function\n"
      ]
    },
    {
      "cell_type": "code",
      "execution_count": null,
      "metadata": {
        "id": "80dkhcV5lT91"
      },
      "outputs": [],
      "source": [
        "def evaluate_ppl(model, dev_data, batch_size=32):\n",
        "    \"\"\" Evaluate perplexity on dev sentences\n",
        "    @param model (NMT): NMT Model\n",
        "    @param dev_data (list of (src_sent, tgt_sent)): list of tuples containing source and target sentence\n",
        "    @param batch_size (batch size)\n",
        "    @returns ppl (perplixty on dev sentences)\n",
        "    \"\"\"\n",
        "    was_training = model.training\n",
        "    model.eval()\n",
        "\n",
        "    cum_loss = 0.\n",
        "    cum_tgt_words = 0.\n",
        "\n",
        "    # no_grad() signals backend to throw away all gradients\n",
        "    with torch.no_grad():\n",
        "        for src_sents, tgt_sents in batch_iter(dev_data, batch_size):\n",
        "            loss = -model(src_sents, tgt_sents).sum()\n",
        "\n",
        "            cum_loss += loss.item()\n",
        "            tgt_word_num_to_predict = sum(len(s[1:]) for s in tgt_sents)  # omitting leading `<s>`\n",
        "            cum_tgt_words += tgt_word_num_to_predict\n",
        "\n",
        "        ppl = np.exp(cum_loss / cum_tgt_words)\n",
        "\n",
        "    if was_training:\n",
        "        model.train()\n",
        "\n",
        "    return ppl\n",
        "\n",
        "def compute_corpus_level_bleu_score(references: List[List[str]], hypotheses: List[Hypothesis]) -> float:\n",
        "    \"\"\" Given decoding results and reference sentences, compute corpus-level BLEU score.\n",
        "    @param references (List[List[str]]): a list of gold-standard reference target sentences\n",
        "    @param hypotheses (List[Hypothesis]): a list of hypotheses, one for each reference\n",
        "    @returns bleu_score: corpus-level BLEU score\n",
        "    \"\"\"\n",
        "    # remove the start and end tokens\n",
        "    if references[0][0] == '<s>':\n",
        "        references = [ref[1:-1] for ref in references]\n",
        "\n",
        "    # detokenize the subword pieces to get full sentences\n",
        "    detokened_refs = [''.join(pieces).replace('▁', ' ') for pieces in references]\n",
        "    detokened_hyps = [''.join(hyp.value).replace('▁', ' ') for hyp in hypotheses]\n",
        "\n",
        "    # sacreBLEU can take multiple references (golden example per sentence) but we only feed it one\n",
        "    bleu = sacrebleu.corpus_bleu(detokened_hyps, [detokened_refs])\n",
        "\n",
        "    return bleu.score, detokened_refs, detokened_hyps"
      ]
    },
    {
      "cell_type": "markdown",
      "metadata": {
        "id": "YM4LMEmT62FL"
      },
      "source": [
        "## Training the model"
      ]
    },
    {
      "cell_type": "code",
      "execution_count": null,
      "metadata": {
        "colab": {
          "base_uri": "https://localhost:8080/"
        },
        "id": "etmZ3f8Ei1vG",
        "outputId": "76256c5e-57cf-42df-8a39-0abd1a61793b"
      },
      "outputs": [
        {
          "name": "stderr",
          "output_type": "stream",
          "text": [
            "uniformly initialize parameters [-0.100000, +0.100000]\n"
          ]
        }
      ],
      "source": [
        "# Initialize our model and optimizer\n",
        "model = NMT(embed_size=args.embed_size,\n",
        "            hidden_size=args.hidden_size,\n",
        "            dropout_rate=float(args.dropout),\n",
        "            vocab=vocab)\n",
        "model.train()\n",
        "\n",
        "uniform_init = float(args.uniform_init)\n",
        "if np.abs(uniform_init) > 0.:\n",
        "    print('uniformly initialize parameters [-%f, +%f]' % (uniform_init, uniform_init), file=sys.stderr)\n",
        "    for p in model.parameters():\n",
        "        p.data.uniform_(-uniform_init, uniform_init)\n",
        "\n",
        "model = model.to(device)\n",
        "optimizer = torch.optim.Adam(model.parameters(), lr=float(args.lr))"
      ]
    },
    {
      "cell_type": "markdown",
      "metadata": {
        "id": "gHL9PVKB7iQa"
      },
      "source": [
        "We wil first train our model on a small training set of 50 samples and evaluate it on a small dev set of 50 samples."
      ]
    },
    {
      "cell_type": "code",
      "execution_count": null,
      "metadata": {
        "id": "UBinbqo068vb"
      },
      "outputs": [],
      "source": [
        "max_train = 50\n",
        "\n",
        "train_data_small = [val for val in train_data if len(val[0]) > 3][:max_train]\n",
        "dev_data_small = [val for val in dev_data if len(val[0]) > 3][:max_train]"
      ]
    },
    {
      "cell_type": "code",
      "execution_count": null,
      "metadata": {
        "colab": {
          "base_uri": "https://localhost:8080/"
        },
        "id": "rFp33trgjLpP",
        "outputId": "249fa088-cda2-4b04-e03d-8ddf4b5fa7a0"
      },
      "outputs": [
        {
          "name": "stdout",
          "output_type": "stream",
          "text": [
            "begin Maximum Likelihood training\n"
          ]
        },
        {
          "name": "stderr",
          "output_type": "stream",
          "text": [
            "/usr/local/lib/python3.10/dist-packages/torch/nn/modules/conv.py:370: UserWarning: Using padding='same' with even kernel lengths and odd dilation may require a zero-padded copy of the input be created (Triggered internally at ../aten/src/ATen/native/Convolution.cpp:1036.)\n",
            "  return F.conv1d(\n",
            "epoch 4, iter 10, avg. loss 195.20, avg. ppl 1529.50 cum. examples 250, speed 1564.53 words/sec, time elapsed 4.25 sec\n",
            "epoch 9, iter 20, avg. loss 124.54, avg. ppl 107.60 cum. examples 500, speed 3153.94 words/sec, time elapsed 6.36 sec\n",
            "epoch 14, iter 30, avg. loss 89.78, avg. ppl 29.16 cum. examples 750, speed 3157.14 words/sec, time elapsed 8.47 sec\n",
            "epoch 19, iter 40, avg. loss 66.84, avg. ppl 12.31 cum. examples 1000, speed 3018.52 words/sec, time elapsed 10.68 sec\n",
            "epoch 24, iter 50, avg. loss 54.15, avg. ppl 7.65 cum. examples 1250, speed 3353.35 words/sec, time elapsed 12.66 sec\n",
            "epoch 29, iter 60, avg. loss 41.84, avg. ppl 4.82 cum. examples 1500, speed 3138.05 words/sec, time elapsed 14.78 sec\n",
            "epoch 34, iter 70, avg. loss 29.60, avg. ppl 3.04 cum. examples 1750, speed 3191.66 words/sec, time elapsed 16.87 sec\n",
            "epoch 39, iter 80, avg. loss 20.60, avg. ppl 2.17 cum. examples 2000, speed 3272.14 words/sec, time elapsed 18.90 sec\n",
            "epoch 44, iter 90, avg. loss 12.95, avg. ppl 1.63 cum. examples 2250, speed 3198.56 words/sec, time elapsed 20.98 sec\n",
            "epoch 49, iter 100, avg. loss 7.33, avg. ppl 1.32 cum. examples 2500, speed 3037.74 words/sec, time elapsed 23.17 sec\n",
            "epoch 54, iter 110, avg. loss 3.45, avg. ppl 1.14 cum. examples 2750, speed 3173.88 words/sec, time elapsed 25.27 sec\n",
            "epoch 59, iter 120, avg. loss 1.75, avg. ppl 1.07 cum. examples 3000, speed 3120.71 words/sec, time elapsed 27.40 sec\n",
            "epoch 64, iter 130, avg. loss 1.01, avg. ppl 1.04 cum. examples 3250, speed 2972.03 words/sec, time elapsed 29.64 sec\n",
            "epoch 69, iter 140, avg. loss 0.54, avg. ppl 1.02 cum. examples 3500, speed 2693.60 words/sec, time elapsed 32.12 sec\n",
            "epoch 74, iter 150, avg. loss 0.34, avg. ppl 1.01 cum. examples 3750, speed 3077.87 words/sec, time elapsed 34.28 sec\n",
            "epoch 79, iter 160, avg. loss 0.23, avg. ppl 1.01 cum. examples 4000, speed 3123.55 words/sec, time elapsed 36.41 sec\n",
            "epoch 84, iter 170, avg. loss 0.17, avg. ppl 1.01 cum. examples 4250, speed 3181.71 words/sec, time elapsed 38.50 sec\n",
            "epoch 89, iter 180, avg. loss 0.11, avg. ppl 1.00 cum. examples 4500, speed 3171.84 words/sec, time elapsed 40.60 sec\n",
            "epoch 94, iter 190, avg. loss 0.08, avg. ppl 1.00 cum. examples 4750, speed 3208.21 words/sec, time elapsed 42.67 sec\n",
            "epoch 99, iter 200, avg. loss 0.14, avg. ppl 1.01 cum. examples 5000, speed 3313.43 words/sec, time elapsed 44.68 sec\n"
          ]
        }
      ],
      "source": [
        "num_trial = 0\n",
        "train_iter = patience = cum_loss = report_loss = cum_tgt_words = report_tgt_words = 0\n",
        "cum_examples = report_examples = epoch = valid_num = 0\n",
        "hist_valid_scores = []\n",
        "train_time = begin_time = time.time()\n",
        "print('begin Maximum Likelihood training')\n",
        "\n",
        "for epoch in range(args.max_epoch):\n",
        "    for src_sents, tgt_sents in batch_iter(train_data_small, batch_size=args.batch_size, shuffle=True):\n",
        "        train_iter += 1\n",
        "\n",
        "        optimizer.zero_grad()\n",
        "\n",
        "        batch_size = len(src_sents)\n",
        "\n",
        "        example_losses = -model(src_sents, tgt_sents) # (batch_size,)\n",
        "        batch_loss = example_losses.sum()\n",
        "        loss = batch_loss / batch_size\n",
        "\n",
        "        loss.backward()\n",
        "\n",
        "        # clip gradient\n",
        "        grad_norm = torch.nn.utils.clip_grad_norm_(model.parameters(), args.clip_grad)\n",
        "\n",
        "        optimizer.step()\n",
        "\n",
        "        batch_losses_val = batch_loss.item()\n",
        "        report_loss += batch_losses_val\n",
        "        cum_loss += batch_losses_val\n",
        "\n",
        "        tgt_words_num_to_predict = sum(len(s[1:]) for s in tgt_sents)  # omitting leading `<s>`\n",
        "        report_tgt_words += tgt_words_num_to_predict\n",
        "        cum_tgt_words += tgt_words_num_to_predict\n",
        "        report_examples += batch_size\n",
        "        cum_examples += batch_size\n",
        "\n",
        "        if train_iter % args.log_every == 0:\n",
        "            print('epoch %d, iter %d, avg. loss %.2f, avg. ppl %.2f ' \\\n",
        "                    'cum. examples %d, speed %.2f words/sec, time elapsed %.2f sec' % (epoch, train_iter,\n",
        "                                                                                        report_loss / report_examples,\n",
        "                                                                                        math.exp(report_loss / report_tgt_words),\n",
        "                                                                                        cum_examples,\n",
        "                                                                                        report_tgt_words / (time.time() - train_time),\n",
        "                                                                                        time.time() - begin_time), file=sys.stderr)\n",
        "\n",
        "            train_time = time.time()\n",
        "            report_loss = report_tgt_words = report_examples = 0.\n",
        "\n",
        "        # perform validation\n",
        "        if train_iter % args.valid_niter == 0:\n",
        "            print('epoch %d, iter %d, cum. loss %.2f, cum. ppl %.2f cum. examples %d' % (epoch, train_iter,\n",
        "                                                                                        cum_loss / cum_examples,\n",
        "                                                                                        np.exp(cum_loss / cum_tgt_words),\n",
        "                                                                                        cum_examples), file=sys.stderr)\n",
        "\n",
        "            cum_loss = cum_examples = cum_tgt_words = 0.\n",
        "            valid_num += 1\n",
        "\n",
        "            print('begin validation ...', file=sys.stderr)\n",
        "\n",
        "            # compute dev. ppl and bleu\n",
        "            dev_ppl = evaluate_ppl(model, dev_data, batch_size=128)   # dev batch size can be a bit larger\n",
        "            valid_metric = -dev_ppl\n",
        "\n",
        "            print('validation: iter %d, dev. ppl %f' % (train_iter, dev_ppl), file=sys.stderr)\n",
        "\n",
        "            is_better = len(hist_valid_scores) == 0 or valid_metric > max(hist_valid_scores)\n",
        "            hist_valid_scores.append(valid_metric)\n",
        "\n",
        "            if is_better:\n",
        "                patience = 0\n",
        "                print('save currently the best model to [%s]' % args.model_save_path, file=sys.stderr)\n",
        "                model.save(args.model_save_path)\n",
        "\n",
        "                # also save the optimizers' state\n",
        "                torch.save(optimizer.state_dict(), args.model_save_path + '.optim')\n",
        "            elif patience < int(args.patience):\n",
        "                patience += 1\n",
        "                print('hit patience %d' % patience, file=sys.stderr)\n",
        "\n",
        "                if patience == int(args.patience):\n",
        "                    num_trial += 1\n",
        "                    print('hit #%d trial' % num_trial, file=sys.stderr)\n",
        "                    if num_trial == int(args.max_num_trial):\n",
        "                        print('early stop!', file=sys.stderr)\n",
        "                        exit(0)\n",
        "\n",
        "                    # decay lr, and restore from previously best checkpoint\n",
        "                    lr = optimizer.param_groups[0]['lr'] * float(args.lr_decay)\n",
        "                    print('load previously best model and decay learning rate to %f' % lr, file=sys.stderr)\n",
        "\n",
        "                    # load model\n",
        "                    params = torch.load(args.model_save_path, map_location=lambda storage, loc: storage)\n",
        "                    model.load_state_dict(params['state_dict'])\n",
        "                    model = model.to(device)\n",
        "\n",
        "                    print('restore parameters of the optimizers', file=sys.stderr)\n",
        "                    optimizer.load_state_dict(torch.load(args.model_save_path + '.optim'))\n",
        "\n",
        "                    # set new lr\n",
        "                    for param_group in optimizer.param_groups:\n",
        "                        param_group['lr'] = lr\n",
        "\n",
        "                    # reset patience\n",
        "                    patience = 0"
      ]
    },
    {
      "cell_type": "markdown",
      "metadata": {
        "id": "p1kxo8fYNC_n"
      },
      "source": [
        "## Testing the model\n",
        "\n",
        "Beam search is an algorithm used in many NLP and speech recognition models as a final decision making layer to choose the best output given target variables like maximum probability or next output character. The figure is referenced from the blog [Sequence to Sequence (seq2seq) and Attention](https://lena-voita.github.io/nlp_course/seq2seq_and_attention.html).\n",
        "\n",
        "<img src=\"https://drive.google.com/uc?id=1rjVuANPjwTQi33beysq_LRNCxd6xhRHY\" width=\"800\" height=\"400\"/>\n",
        "\n",
        "The model uses `beam_search` function to yield the translations in the target language. `beam_search` will return a list of hypothesis for the translated sentences, each will have the value and the score for it, sorted in the descending order, so the first element in the Hypothesis is the best option for translated output by the model. The samples on training data should be very good with bleu score 100. The samples on validation data, however, probably won't make sense (because we're overfitting)."
      ]
    },
    {
      "cell_type": "code",
      "execution_count": null,
      "metadata": {
        "colab": {
          "base_uri": "https://localhost:8080/"
        },
        "id": "pI1zdeCMNBvp",
        "outputId": "3ebc42c2-2ef0-4931-e44c-000381d7be22"
      },
      "outputs": [
        {
          "name": "stdout",
          "output_type": "stream",
          "text": [
            "Sample 0:\n",
            "Bleu score: 62.401954419369176\n",
            "Source: ['▁Khoa', '▁học', '▁đ', 'ằng', '▁sau', '▁một', '▁tiêu', '▁đề', '▁về', '▁khí', '▁hậu']\n",
            "Reference: [' Rachel Pike : The science behind a climate headline']\n",
            "Hypotheses: [' Rachel Pike : The science behind the headline', ' Rachel Pike : The science behind the climate headline', ' Rachel Pike : The science behind they headline', ' Rachel Pike : The science behind a climate headlines .', ' Rachel Pike : The science behind the IPCC , put .']\n",
            "\n",
            "\n",
            "Sample 1:\n",
            "Bleu score: 100.00000000000004\n",
            "Source: ['▁Tro', 'ng', '▁4', '▁phút', '▁,', '▁chuyên', '▁gia', '▁hoá', '▁học', '▁khí', '▁quyển', '▁Rachel', '▁P', 'ike', '▁giới', '▁t', 'hiệu', '▁sơ', '▁lược', '▁về', '▁những', '▁nỗ', '▁lực', '▁khoa', '▁học', '▁m', 'iệt', '▁mà', 'i', '▁đ', 'ằng', '▁sau', '▁những', '▁tiêu', '▁đề', '▁táo', '▁bạo', '▁về', '▁biến', '▁đổi', '▁khí', '▁hậu', '▁,', '▁cùng', '▁với', '▁đoàn', '▁nghiên', '▁cứu', '▁của', '▁mình', '▁--', '▁hàng', '▁ngàn', '▁người', '▁đã', '▁cố', 'ng', '▁', 'hiến', '▁cho', '▁dự', '▁án', '▁này', '▁--', '▁một', '▁chuyến', '▁bay', '▁mạo', '▁hiểm', '▁qua', '▁rừng', '▁già', '▁để', '▁tìm', '▁kiếm', '▁thông', '▁tin', '▁về', '▁một', '▁phân', '▁tử', '▁the', 'n', '▁chố', 't', '▁.']\n",
            "Reference: [' In 4 minutes , atmospheric chemist Rachel Pike provides a glimpse of the massive scientific effort behind the bold headlines on climate change , with her team -- one of thousands who contributed -- taking a risky flight over the rainforest in pursuit of data on a key molecule .']\n",
            "Hypotheses: [' In 4 minutes , atmospheric chemist Rachel Pike provides a glimpse of the massive scientific effort behind the bold headlines on climate change , with her team -- one of thousands who contributed -- taking a risky flight over the rainforest in pursuit of data on a key molecule .', ' In 4 , atmospheric chemist Rachel Pike provides a glimpse of the massive scientific effort behind the bold headlines on climate change , with her team -- one of thousands who contributed -- taking a risky flight over the rainforest in pursuit of data on a key molecule .', ' In 4 all , atmospheric chemist Rachel Pike provides a glimpse of the massive scientific effort behind the bold headlines on climate change , with her team -- one of thousands who contributed -- taking a risky flight over the rainforest in pursuit of data on a key molecule .', ' Iny minutes , atmospheric chemist Rachel Pike provides a glimpse of the massive scientific effort behind the bold headlines on climate change , with her team -- one of thousands who contributed -- taking a risky flight over the rainforest in pursuit of data on a key molecule .', ' Inic minutes , atmospheric chemist Rachel Pike provides a glimpse of the massive scientific effort behind the bold headlines on climate change , with her team -- one of thousands who contributed -- taking a risky flight over the rainforest in pursuit of data on a key molecule .']\n",
            "\n",
            "\n",
            "Sample 2:\n",
            "Bleu score: 100.00000000000004\n",
            "Source: ['▁Tôi', '▁muốn', '▁cho', '▁các', '▁bạn', '▁biết', '▁về', '▁sự', '▁to', '▁lớn', '▁của', '▁những', '▁nỗ', '▁lực', '▁khoa', '▁học', '▁đã', '▁góp', '▁phần', '▁làm', '▁nên', '▁các', '▁dò', 'ng', '▁tí', 't', '▁bạn', '▁thường', '▁thấy', '▁trên', '▁báo', '▁.']\n",
            "Reference: [' I &apos;d like to talk to you today about the scale of the scientific effort that goes into making the headlines you see in the paper .']\n",
            "Hypotheses: [' I &apos;d like to talk to you today about the scale of the scientific effort that goes into making the headlines you see in the paper .', ' I &apos;d like to talk to you today about the scale of the scientific effort that goeses into making the headlines you see in the paper .', ' I &apos;d like to talk to you today about the scale of the scientific effort making the headlines you see in the paper .', ' Iicapos;d like to talk to you today about the scale of the scientific effort that goes into making the headlines you see in the paper .', ' I &apos;d like to talk to you today about the scale of the scientific effort that goes into the paper .']\n",
            "\n",
            "\n",
            "Sample 3:\n",
            "Bleu score: 100.00000000000004\n",
            "Source: ['▁Có', '▁những', '▁dò', 'ng', '▁tr', 'ông', '▁như', '▁thế', '▁này', '▁khi', '▁bàn', '▁về', '▁biến', '▁đổi', '▁khí', '▁hậu', '▁,', '▁và', '▁như', '▁thế', '▁này', '▁khi', '▁nói', '▁về', '▁chất', '▁lượng', '▁không', '▁khí', '▁hay', '▁khói', '▁bụ', 'i', '▁.']\n",
            "Reference: [' Headlines that look like this when they have to do with climate change , and headlines that look like this when they have to do with air quality or smog .']\n",
            "Hypotheses: [' Headlines that look like this when they have to do with climate change , and headlines that look like this when they have to do with air quality or smog .', ' Headlines that look this when they have to do with climate change , and headlines that look like this when they have to do with air quality or smog .', ' Headlines that look look like this when they have to do with climate change , and headlines that look like this when they have to do with air quality or smog .', ' Headlines that lookthis when they have to do with climate change , and headlines that look like this when they have to do with air quality or smog .', ' Headlines that look like this when they have to do with climate change , and headlines that look like this when they have to do with air air quality or smog .']\n",
            "\n",
            "\n",
            "Sample 4:\n",
            "Bleu score: 100.00000000000004\n",
            "Source: ['▁Cả', '▁hai', '▁đều', '▁là', '▁một', '▁nh', 'ánh', '▁của', '▁cùng', '▁một', '▁lĩnh', '▁vực', '▁trong', '▁ngành', '▁khoa', '▁học', '▁khí', '▁quyển', '▁.']\n",
            "Reference: [' They are both two branches of the same field of atmospheric science .']\n",
            "Hypotheses: [' They are both two branches of the same field of atmospheric science .', ' They are two two branches of the same field of atmospheric science .', ' They two both two branches of the same field of atmospheric science .', ' They two two two branches of the same field of atmospheric science .', ' They are both two branches of the same field of the atmospheric science .']\n",
            "\n",
            "\n"
          ]
        }
      ],
      "source": [
        "# @title Testing on training set\n",
        "references = []\n",
        "hypotheses = []\n",
        "\n",
        "num_logs = 5\n",
        "if (num_logs > len(train_data_small)):\n",
        "  num_logs = len(train_data_small)\n",
        "\n",
        "for i in range(num_logs):\n",
        "  src, tgt = train_data_small[i]\n",
        "  references = [tgt]\n",
        "  hypotheses = model.beam_search(src)\n",
        "  bleu_score, detokened_refs, detokened_hyps = compute_corpus_level_bleu_score(references, hypotheses)\n",
        "  print(f\"Sample {i}:\")\n",
        "  print(\"Bleu score: \" + str(bleu_score))\n",
        "  print(\"Source: \" + str(src))\n",
        "  print(\"Reference: \" + str(detokened_refs))\n",
        "  print(\"Hypotheses: \" + str(detokened_hyps))\n",
        "  print('\\n')"
      ]
    },
    {
      "cell_type": "code",
      "execution_count": null,
      "metadata": {
        "colab": {
          "base_uri": "https://localhost:8080/"
        },
        "id": "FxyncmAebxPR",
        "outputId": "28dd451b-2a00-457b-cbeb-2f0acbd5f5ed"
      },
      "outputs": [
        {
          "name": "stdout",
          "output_type": "stream",
          "text": [
            "Sample 0:\n",
            "Bleu score: 0.0012401113190363224\n",
            "Source: ['▁Là', 'm', '▁sao', '▁tôi', '▁có', '▁thể', '▁trình', '▁bày', '▁trong', '▁10', '▁phút', '▁về', '▁sợ', 'i', '▁dây', '▁liên', '▁kết', '▁những', '▁người', '▁phụ', '▁nữ', '▁qua', '▁ba', '▁thế', '▁hệ', '▁,', '▁về', '▁việc', '▁làm', '▁thế', '▁nào', '▁những', '▁sợ', 'i', '▁dây', '▁mạnh', '▁mẽ', '▁đáng', '▁kinh', '▁ngạc', '▁ấy', '▁đã', '▁ní', 'u', '▁ch', 'ặt', '▁lấy', '▁cuộc', '▁sống', '▁của', '▁một', '▁cô', '▁bé', '▁bốn', '▁tuổi', '▁co', '▁qu', 'ắp', '▁với', '▁đ', 'ứa', '▁em', '▁gái', '▁nhỏ', '▁của', '▁cô', '▁bé', '▁,', '▁với', '▁mẹ', '▁và', '▁bà', '▁trong', '▁suốt', '▁năm', '▁ngày', '▁đêm', '▁trên', '▁con', '▁thuyền', '▁nhỏ', '▁lên', 'h', '▁đê', 'nh', '▁trên', '▁B', 'iển', '▁Đông', '▁hơn', '▁30', '▁năm', '▁trước', '▁,', '▁những', '▁sợ', 'i', '▁dây', '▁liên', '▁kết', '▁đã', '▁ní', 'u', '▁lấy', '▁cuộc', '▁đời', '▁cô', '▁bé', '▁ấy', '▁và', '▁không', '▁bao', '▁giờ', '▁', 'rời', '▁đi', '▁--', '▁cô', '▁bé', '▁ấy', '▁giờ', '▁sống', '▁ở', '▁San', '▁Francis', 'co', '▁và', '▁đang', '▁nói', '▁chuyện', '▁với', '▁các', '▁bạn', '▁', 'hôm', '▁nay', '▁?']\n",
            "Reference: [' How can I speak in 10 minutes about the bonds of women over three generations , about how the astonishing strength of those bonds took hold in the life of a four-year-old girl huddled with her young sister , her mother and her grandmother for five days and nights in a small boat in the China Sea more than 30 years ago , bonds that took hold in the life of that small girl and never let go -- that small girl now living in San Francisco and speaking to you today ?']\n",
            "Hypotheses: [' The &apos;s to talk of it .', ' The &apos;s a glimpse of this aircraft today .', ' The &apos;s a glimpse of the chemistry today .', ' The &apos;s took in the chemistry get a few molecules .', ' The &apos;s took in the chemistry get a few dozen .']\n",
            "\n",
            "\n",
            "Sample 1:\n",
            "Bleu score: 6.567274736060395\n",
            "Source: ['▁C', 'âu', '▁chuyện', '▁này', '▁chưa', '▁kết', '▁thúc', '▁.']\n",
            "Reference: [' This is not a finished story .']\n",
            "Hypotheses: [' Andy,000 students , it .', ' Andy,000 students , in the middle of the rainforest , and headlines .', ' And  scientists is the tower , in they of the rainforest , and headlines .', ' Andy,000 students , in the middle of the rainforest , and hungs .', ' And  scientists is the tower , in they of the rainforest , and every study .']\n",
            "\n",
            "\n",
            "Sample 2:\n",
            "Bleu score: 3.4585921141027365\n",
            "Source: ['▁Nó', '▁là', '▁một', '▁trò', '▁chơi', '▁ghép', '▁hình', '▁vẫ', 'n', '▁đang', '▁được', '▁xếp', '▁.']\n",
            "Reference: [' It is a jigsaw puzzle still being put together .']\n",
            "Hypotheses: [' It &apos;s a huge of this is what I happen to do .', ' It &apos;s a glimpse of the middle of the rainforest , and headlines .', ' It &apos;s a talk of isoprene , and headlines .', ' It &apos;s a glimpse of the middle of the rainforest , and hungs .', ' It &apos;s a huge of the middle of the rainforest , and 113s .']\n",
            "\n",
            "\n",
            "Sample 3:\n",
            "Bleu score: 15.881076016027917\n",
            "Source: ['▁Hã', 'y', '▁để', '▁tôi', '▁kể', '▁cho', '▁các', '▁bạn', '▁về', '▁và', 'i', '▁m', 'ảnh', '▁ghép', '▁nhé', '▁.']\n",
            "Reference: [' Let me tell you about some of the pieces .']\n",
            "Hypotheses: [' We run minutes and look at the pieces .', ' We run minutes and look like the pieces , the headlines .', ' We run minutes and look like this when they have to do withs .', ' We run at and look at the pieces , and headlines .', ' We run minutes and look like this when they have today .']\n",
            "\n",
            "\n",
            "Sample 4:\n",
            "Bleu score: 2.908317710573757\n",
            "Source: ['▁Hã', 'y', '▁tưởng', '▁tượng', '▁m', 'ảnh', '▁đầu', '▁tiên', '▁:', '▁một', '▁người', '▁đàn', '▁ông', '▁đố', 't', '▁chá', 'y', '▁sự', '▁nghiệp', '▁cả', '▁đời', '▁mình', '▁.']\n",
            "Reference: [' Imagine the first piece : a man burning his life &apos;s work .']\n",
            "Hypotheses: [' We blow it look like this when the middle of the rainforest , and headlines .', ' We blow it look like this when the middle of the rainforest , and hungs .', ' We blow it look like this in the middle of the rainforest , and every study .', ' We blow it look like this in the middle of the rainforest , and headlines .', ' We blow it look like this in the middle of the rainforest , and every']\n",
            "\n",
            "\n"
          ]
        }
      ],
      "source": [
        "# @title Testing on evaluate set\n",
        "references = []\n",
        "hypotheses = []\n",
        "\n",
        "num_logs = 5\n",
        "if (num_logs > len(dev_data_small)):\n",
        "  num_logs = len(dev_data_small)\n",
        "\n",
        "for i in range(num_logs):\n",
        "  src, tgt = dev_data_small[i]\n",
        "  references = [tgt]\n",
        "  hypotheses = model.beam_search(src)\n",
        "  bleu_score, detokened_refs, detokened_hyps = compute_corpus_level_bleu_score(references, hypotheses)\n",
        "  print(f\"Sample {i}:\")\n",
        "  print(\"Bleu score: \" + str(bleu_score))\n",
        "  print(\"Source: \" + str(src))\n",
        "  print(\"Reference: \" + str(detokened_refs))\n",
        "  print(\"Hypotheses: \" + str(detokened_hyps))\n",
        "  print('\\n')"
      ]
    },
    {
      "cell_type": "markdown",
      "metadata": {
        "id": "BsCdZ2dcjS-r"
      },
      "source": [
        "# The Seq2Seq Model 2: Transformer\n",
        "In this part, you will train a sequence-to-sequence Transformer model to translate Portuguese into English. The Transformer was originally proposed in \"Attention is all you need\" by Vaswani et al. (2017).\n",
        "\n",
        "<img src=\"https://www.tensorflow.org/images/tutorials/transformer/apply_the_transformer_to_machine_translation.gif\" alt=\"Applying the Transformer to machine translation\">\n",
        "\n",
        "Figure 2: Applying the Transformer to machine translation. Source: [Google AI Blog](https://ai.googleblog.com/2017/08/transformer-novel-neural-network.html)."
      ]
    },
    {
      "cell_type": "markdown",
      "metadata": {
        "id": "rBdNGGPSj4V3"
      },
      "source": [
        "A Transformer is a sequence-to-sequence encoder-decoder model similar to the model in the [NMT with attention tutorial](https://www.tensorflow.org/text/tutorials/nmt_with_attention).\n",
        "A single-layer Transformer takes a little more code to write, but is almost identical to that encoder-decoder RNN model. The only difference is that the RNN layers are replaced with self attention layers.\n",
        "\n",
        "<table>\n",
        "<tr>\n",
        "  <th>The <a href=https://www.tensorflow.org/text/tutorials/nmt_with_attention>RNN+Attention model</a></th>\n",
        "  <th>A 1-layer transformer</th>\n",
        "</tr>\n",
        "<tr>\n",
        "  <td>\n",
        "   <img width=411 src=\"https://www.tensorflow.org/images/tutorials/transformer/RNN+attention-words.png\"/>\n",
        "  </td>\n",
        "  <td>\n",
        "   <img width=400 src=\"https://www.tensorflow.org/images/tutorials/transformer/Transformer-1layer-words.png\"/>\n",
        "  </td>\n",
        "</tr>\n",
        "</table>"
      ]
    },
    {
      "cell_type": "markdown",
      "metadata": {
        "id": "-YagB7OYkE0i"
      },
      "source": [
        "### The Embedding and Positional Encoding Layer\n",
        "\n",
        "The inputs to both the encoder and decoder use the same embedding and positional encoding logic.\n",
        "\n",
        "<table>\n",
        "<tr>\n",
        "  <th colspan=1>The embedding and positional encoding layer</th>\n",
        "<tr>\n",
        "<tr>\n",
        "  <td>\n",
        "   <img src=\"https://www.tensorflow.org/images/tutorials/transformer/PositionalEmbedding.png\"/>\n",
        "  </td>\n",
        "</tr>\n",
        "</table>"
      ]
    },
    {
      "cell_type": "markdown",
      "metadata": {
        "id": "FhPl3LVekMWD"
      },
      "source": [
        "The formula for calculating the positional encoding (implemented in Python below) is as follows:\n",
        "\n",
        "$$\\Large{PE_{(pos, 2i)} = \\sin(pos / 10000^{2i / d_{model}})} $$\n",
        "$$\\Large{PE_{(pos, 2i+1)} = \\cos(pos / 10000^{2i / d_{model}})} $$"
      ]
    },
    {
      "cell_type": "markdown",
      "metadata": {
        "id": "ik3jYEAilHtB"
      },
      "source": [
        "## Q7: Transformer Embedding Layer (10 points)\n",
        "Implement `TransformerEmbedding` (consists of lookup embedding & positional encoding) for transformer model."
      ]
    },
    {
      "cell_type": "code",
      "execution_count": null,
      "metadata": {
        "id": "ljJYuvtlj6uc"
      },
      "outputs": [],
      "source": [
        "class TransformerEmbedding(nn.Module):\n",
        "    \"\"\"\n",
        "    Class that combines token embeddings with positional embeddings.\n",
        "    \"\"\"\n",
        "    def __init__(self, vocab_size, embedding_size, max_len, dropout_rate):\n",
        "        \"\"\"\n",
        "        Init the Transformer Embedding layer.\n",
        "\n",
        "        @param vocab_size (int): Vocabulary size (number of unique tokens)\n",
        "        @param embedding_size (int): Embedding size (dimensionality)\n",
        "        @param max_len (int): Maximum sequence length\n",
        "        @param dropout_rate (float): Dropout probability\n",
        "        \"\"\"\n",
        "        super().__init__()\n",
        "        # default values\n",
        "        self.embedding_size = embedding_size\n",
        "        self.token_embedding = None\n",
        "        self.dropout = None\n",
        "        pos_embedding = None\n",
        "\n",
        "        ### YOUR CODE HERE\n",
        "        ### TODO - Implement the positional embedding and Initialize the following variables :\n",
        "        ###     self.token_embedding (Embedding Layer)\n",
        "        ###     self.pos_embedding (Positional Embedding Layer), notes that pos_embedding is not learnable parameters,\n",
        "        ###         so we should use the self.register_buffer function to initialize it.\n",
        "        ###     self.dropout (Dropout Layer)\n",
        "        ###\n",
        "        ### Note:\n",
        "        ###     1. `vocab_size` represents the size of the vocabulary (number of unique tokens)\n",
        "        ###     2. `embedding_size` represents the size of each embedding vector\n",
        "        ###     3. `max_len` represents the maximum sequence length\n",
        "        ###     4. `dropout_rate` represents the dropout probability\n",
        "        ###\n",
        "        ### Use the following docs to properly initialize these variables:\n",
        "        ###     Embedding Layer:\n",
        "        ###         https://pytorch.org/docs/stable/nn.html#torch.nn.Embeddingl\n",
        "        ###     Dropout Layer:\n",
        "        ###         https://pytorch.org/docs/stable/nn.html#torch.nn.Dropout\n",
        "        ###\n",
        "        \n",
        "\n",
        "        ### END YOUR CODE\n",
        "        self.register_buffer('pos_embedding', pos_embedding)\n",
        "\n",
        "    def forward(self, x):\n",
        "        \"\"\"\n",
        "        Maps input sequences of tokens to their embeddings.\n",
        "\n",
        "        @param x (Tensor): Input tensor of tokens with shape (seq_len, batch_size)\n",
        "\n",
        "        @returns embedded (Tensor): Tensor of token embeddings with shape (seq_len, batch_size, embedding_size)\n",
        "        \"\"\"\n",
        "        # Retrieve token embeddings\n",
        "        ### YOUR CODE HERE (~1 Line) ###\n",
        "        embedded_tokens = None\n",
        "\n",
        "        # Retrieve positional embeddings for the appropriate segment of the input sequence\n",
        "        ### YOUR CODE HERE (~1 Line) ###\n",
        "        embedded_positions = None\n",
        "\n",
        "        # Add token and positional embeddings together, apply dropout, and return\n",
        "        ### YOUR CODE HERE (~1 Line) ###\n",
        "        embedded = None\n",
        "\n",
        "        return embedded"
      ]
    },
    {
      "cell_type": "markdown",
      "metadata": {
        "id": "h6GgNEpvXK58"
      },
      "source": [
        "### Visualize the positional encoding\n",
        "\n",
        "Positional encoding can be tricky to implement correctly, even if the code runs. Use the test visualization below to confirm it produces the expected sinusoidal shape.\n",
        "The `PositionalEncoding` class is identical to the positional encoding logic within the `TransformerEmbedding`. We extracted it separately to facilitate debugging of the positional encoding values before their addition to the `embedded_tokens`. Copy the necessary code of `__init__` and `forward` of the positional encoding part for testing."
      ]
    },
    {
      "cell_type": "code",
      "execution_count": null,
      "metadata": {
        "id": "d0BP3BQBXKYJ"
      },
      "outputs": [],
      "source": [
        "class PositionalEncoding(nn.Module):\n",
        "    \"\"\"\n",
        "    Class that combines token embeddings with positional embeddings.\n",
        "    \"\"\"\n",
        "    def __init__(self, embedding_size, dropout_rate, max_len=5000):\n",
        "        \"\"\"\n",
        "        Init the Transformer Embedding layer.\n",
        "\n",
        "        @param vocab_size (int): Vocabulary size (number of unique tokens)\n",
        "        @param embedding_size (int): Embedding size (dimensionality)\n",
        "        @param max_len (int): Maximum sequence length\n",
        "        @param dropout_rate (float): Dropout probability\n",
        "        \"\"\"\n",
        "        super().__init__()\n",
        "        # default values\n",
        "        self.embedding_size = embedding_size\n",
        "        self.dropout = None\n",
        "        pos_embedding = None\n",
        "\n",
        "        ### YOUR CODE HERE: COPY FROM YOUR PREVIOUS IMPLEMENTATION OF THE POSITIONAL ENCODING\n",
        "        ### TODO - Implement the positional embedding and Initialize the following variables :\n",
        "        ###     self.pos_embedding (Positional Embedding Layer), notes that pos_embedding is not learnable parameters,\n",
        "        ###         so we should use the self.register_buffer function to initialize it.\n",
        "\n",
        "        ### END YOUR CODE\n",
        "        self.register_buffer('pos_embedding', pos_embedding)\n",
        "\n",
        "    def forward(self, x):\n",
        "        \"\"\"\n",
        "        Maps input sequences of tokens to their embeddings.\n",
        "\n",
        "        @param x (Tensor): Input tensor of tokens with shape (seq_len, batch_size)\n",
        "\n",
        "        @returns embedded (Tensor): Tensor of token embeddings with shape (seq_len, batch_size, embedding_size)\n",
        "        \"\"\"\n",
        "\n",
        "        # Retrieve positional embeddings for the appropriate segment of the input sequence\n",
        "        ### YOUR CODE HERE (~1 Line) ###\n",
        "        embedded_positions = None\n",
        "\n",
        "        # Add token and positional embeddings together, apply dropout, and return\n",
        "        ### YOUR CODE HERE (~1 Line) ###\n",
        "        embedded = None\n",
        "        \n",
        "        return embedded"
      ]
    },
    {
      "cell_type": "code",
      "execution_count": null,
      "metadata": {
        "cellView": "form",
        "id": "-JFxftbNXscz"
      },
      "outputs": [],
      "source": [
        "#@title Visualize functions\n",
        "import pandas as pd\n",
        "import altair as alt\n",
        "\n",
        "RUN_EXAMPLES = True\n",
        "\n",
        "def show_example(fn, args=[]):\n",
        "    if __name__ == \"__main__\" and RUN_EXAMPLES:\n",
        "        return fn(*args)\n",
        "\n",
        "def example_positional():\n",
        "    pe = PositionalEncoding(20, 0)\n",
        "    # We simulate data with shape (100, 1, 20) where src_len = 100, b = 1, e = 20.\n",
        "    y = pe.forward(torch.zeros(100, 1, 20))\n",
        "\n",
        "    data = pd.concat(\n",
        "        [\n",
        "            pd.DataFrame(\n",
        "                {\n",
        "                    \"embedding\": y[: , 0, dim],\n",
        "                    \"dimension\": dim,\n",
        "                    \"position\": list(range(100)),\n",
        "                }\n",
        "            )\n",
        "            for dim in [4, 5, 6, 7]\n",
        "        ]\n",
        "    )\n",
        "\n",
        "    return (\n",
        "        alt.Chart(data)\n",
        "        .mark_line()\n",
        "        .properties(width=800)\n",
        "        .encode(x=\"position\", y=\"embedding\", color=\"dimension:N\")\n",
        "        .interactive()\n",
        "    )"
      ]
    },
    {
      "cell_type": "code",
      "execution_count": null,
      "metadata": {
        "colab": {
          "base_uri": "https://localhost:8080/",
          "height": 369
        },
        "id": "9qQ2ymktYd4A",
        "outputId": "52bc252d-88af-4796-949a-f41cd1d56da0"
      },
      "outputs": [
        {
          "data": {
            "text/html": [
              "\n",
              "<div id=\"altair-viz-137acd02de084d0eb897b22cf17818a5\"></div>\n",
              "<script type=\"text/javascript\">\n",
              "  var VEGA_DEBUG = (typeof VEGA_DEBUG == \"undefined\") ? {} : VEGA_DEBUG;\n",
              "  (function(spec, embedOpt){\n",
              "    let outputDiv = document.currentScript.previousElementSibling;\n",
              "    if (outputDiv.id !== \"altair-viz-137acd02de084d0eb897b22cf17818a5\") {\n",
              "      outputDiv = document.getElementById(\"altair-viz-137acd02de084d0eb897b22cf17818a5\");\n",
              "    }\n",
              "    const paths = {\n",
              "      \"vega\": \"https://cdn.jsdelivr.net/npm//vega@5?noext\",\n",
              "      \"vega-lib\": \"https://cdn.jsdelivr.net/npm//vega-lib?noext\",\n",
              "      \"vega-lite\": \"https://cdn.jsdelivr.net/npm//vega-lite@4.17.0?noext\",\n",
              "      \"vega-embed\": \"https://cdn.jsdelivr.net/npm//vega-embed@6?noext\",\n",
              "    };\n",
              "\n",
              "    function maybeLoadScript(lib, version) {\n",
              "      var key = `${lib.replace(\"-\", \"\")}_version`;\n",
              "      return (VEGA_DEBUG[key] == version) ?\n",
              "        Promise.resolve(paths[lib]) :\n",
              "        new Promise(function(resolve, reject) {\n",
              "          var s = document.createElement('script');\n",
              "          document.getElementsByTagName(\"head\")[0].appendChild(s);\n",
              "          s.async = true;\n",
              "          s.onload = () => {\n",
              "            VEGA_DEBUG[key] = version;\n",
              "            return resolve(paths[lib]);\n",
              "          };\n",
              "          s.onerror = () => reject(`Error loading script: ${paths[lib]}`);\n",
              "          s.src = paths[lib];\n",
              "        });\n",
              "    }\n",
              "\n",
              "    function showError(err) {\n",
              "      outputDiv.innerHTML = `<div class=\"error\" style=\"color:red;\">${err}</div>`;\n",
              "      throw err;\n",
              "    }\n",
              "\n",
              "    function displayChart(vegaEmbed) {\n",
              "      vegaEmbed(outputDiv, spec, embedOpt)\n",
              "        .catch(err => showError(`Javascript Error: ${err.message}<br>This usually means there's a typo in your chart specification. See the javascript console for the full traceback.`));\n",
              "    }\n",
              "\n",
              "    if(typeof define === \"function\" && define.amd) {\n",
              "      requirejs.config({paths});\n",
              "      require([\"vega-embed\"], displayChart, err => showError(`Error loading script: ${err.message}`));\n",
              "    } else {\n",
              "      maybeLoadScript(\"vega\", \"5\")\n",
              "        .then(() => maybeLoadScript(\"vega-lite\", \"4.17.0\"))\n",
              "        .then(() => maybeLoadScript(\"vega-embed\", \"6\"))\n",
              "        .catch(showError)\n",
              "        .then(() => displayChart(vegaEmbed));\n",
              "    }\n",
              "  })({\"config\": {\"view\": {\"continuousWidth\": 400, \"continuousHeight\": 300}}, \"data\": {\"name\": \"data-eafc635ddfa311c913cbcc2d2bc4477d\"}, \"mark\": \"line\", \"encoding\": {\"color\": {\"field\": \"dimension\", \"type\": \"nominal\"}, \"x\": {\"field\": \"position\", \"type\": \"quantitative\"}, \"y\": {\"field\": \"embedding\", \"type\": \"quantitative\"}}, \"selection\": {\"selector001\": {\"type\": \"interval\", \"bind\": \"scales\", \"encodings\": [\"x\", \"y\"]}}, \"width\": 800, \"$schema\": \"https://vega.github.io/schema/vega-lite/v4.17.0.json\", \"datasets\": {\"data-eafc635ddfa311c913cbcc2d2bc4477d\": [{\"embedding\": 0.0, \"dimension\": 4, \"position\": 0}, {\"embedding\": 0.15782663226127625, \"dimension\": 4, \"position\": 1}, {\"embedding\": 0.3116971552371979, \"dimension\": 4, \"position\": 2}, {\"embedding\": 0.45775455236434937, \"dimension\": 4, \"position\": 3}, {\"embedding\": 0.5923377275466919, \"dimension\": 4, \"position\": 4}, {\"embedding\": 0.7120732069015503, \"dimension\": 4, \"position\": 5}, {\"embedding\": 0.813959538936615, \"dimension\": 4, \"position\": 6}, {\"embedding\": 0.8954429626464844, \"dimension\": 4, \"position\": 7}, {\"embedding\": 0.9544808864593506, \"dimension\": 4, \"position\": 8}, {\"embedding\": 0.989593505859375, \"dimension\": 4, \"position\": 9}, {\"embedding\": 0.9999006390571594, \"dimension\": 4, \"position\": 10}, {\"embedding\": 0.9851439595222473, \"dimension\": 4, \"position\": 11}, {\"embedding\": 0.94569331407547, \"dimension\": 4, \"position\": 12}, {\"embedding\": 0.8825376033782959, \"dimension\": 4, \"position\": 13}, {\"embedding\": 0.7972599267959595, \"dimension\": 4, \"position\": 14}, {\"embedding\": 0.6919978260993958, \"dimension\": 4, \"position\": 15}, {\"embedding\": 0.5693899393081665, \"dimension\": 4, \"position\": 16}, {\"embedding\": 0.4325096309185028, \"dimension\": 4, \"position\": 17}, {\"embedding\": 0.284787654876709, \"dimension\": 4, \"position\": 18}, {\"embedding\": 0.12992730736732483, \"dimension\": 4, \"position\": 19}, {\"embedding\": -0.028190065175294876, \"dimension\": 4, \"position\": 20}, {\"embedding\": -0.18560057878494263, \"dimension\": 4, \"position\": 21}, {\"embedding\": -0.3383587896823883, \"dimension\": 4, \"position\": 22}, {\"embedding\": -0.4826357960700989, \"dimension\": 4, \"position\": 23}, {\"embedding\": -0.6148146390914917, \"dimension\": 4, \"position\": 24}, {\"embedding\": -0.7315824031829834, \"dimension\": 4, \"position\": 25}, {\"embedding\": -0.8300122618675232, \"dimension\": 4, \"position\": 26}, {\"embedding\": -0.9076365828514099, \"dimension\": 4, \"position\": 27}, {\"embedding\": -0.96250981092453, \"dimension\": 4, \"position\": 28}, {\"embedding\": -0.9932565093040466, \"dimension\": 4, \"position\": 29}, {\"embedding\": -0.9991058707237244, \"dimension\": 4, \"position\": 30}, {\"embedding\": -0.9799113273620605, \"dimension\": 4, \"position\": 31}, {\"embedding\": -0.9361540079116821, \"dimension\": 4, \"position\": 32}, {\"embedding\": -0.8689308166503906, \"dimension\": 4, \"position\": 33}, {\"embedding\": -0.7799267172813416, \"dimension\": 4, \"position\": 34}, {\"embedding\": -0.6713724136352539, \"dimension\": 4, \"position\": 35}, {\"embedding\": -0.5459895133972168, \"dimension\": 4, \"position\": 36}, {\"embedding\": -0.40692076086997986, \"dimension\": 4, \"position\": 37}, {\"embedding\": -0.2576519548892975, \"dimension\": 4, \"position\": 38}, {\"embedding\": -0.10192479938268661, \"dimension\": 4, \"position\": 39}, {\"embedding\": 0.056357722729444504, \"dimension\": 4, \"position\": 40}, {\"embedding\": 0.21322709321975708, \"dimension\": 4, \"position\": 41}, {\"embedding\": 0.3647516369819641, \"dimension\": 4, \"position\": 42}, {\"embedding\": 0.5071332454681396, \"dimension\": 4, \"position\": 43}, {\"embedding\": 0.6368028521537781, \"dimension\": 4, \"position\": 44}, {\"embedding\": 0.7505101561546326, \"dimension\": 4, \"position\": 45}, {\"embedding\": 0.8454052805900574, \"dimension\": 4, \"position\": 46}, {\"embedding\": 0.9191088080406189, \"dimension\": 4, \"position\": 47}, {\"embedding\": 0.9697737693786621, \"dimension\": 4, \"position\": 48}, {\"embedding\": 0.9961300492286682, \"dimension\": 4, \"position\": 49}, {\"embedding\": 0.9975170493125916, \"dimension\": 4, \"position\": 50}, {\"embedding\": 0.9738998413085938, \"dimension\": 4, \"position\": 51}, {\"embedding\": 0.9258706569671631, \"dimension\": 4, \"position\": 52}, {\"embedding\": 0.8546332716941833, \"dimension\": 4, \"position\": 53}, {\"embedding\": 0.7619734406471252, \"dimension\": 4, \"position\": 54}, {\"embedding\": 0.6502137184143066, \"dimension\": 4, \"position\": 55}, {\"embedding\": 0.5221555233001709, \"dimension\": 4, \"position\": 56}, {\"embedding\": 0.38100889325141907, \"dimension\": 4, \"position\": 57}, {\"embedding\": 0.23031172156333923, \"dimension\": 4, \"position\": 58}, {\"embedding\": 0.07384055852890015, \"dimension\": 4, \"position\": 59}, {\"embedding\": -0.08448058366775513, \"dimension\": 4, \"position\": 60}, {\"embedding\": -0.2406841218471527, \"dimension\": 4, \"position\": 61}, {\"embedding\": -0.3908545970916748, \"dimension\": 4, \"position\": 62}, {\"embedding\": -0.5312277674674988, \"dimension\": 4, \"position\": 63}, {\"embedding\": -0.6582850813865662, \"dimension\": 4, \"position\": 64}, {\"embedding\": -0.768841564655304, \"dimension\": 4, \"position\": 65}, {\"embedding\": -0.8601260781288147, \"dimension\": 4, \"position\": 66}, {\"embedding\": -0.9298503994941711, \"dimension\": 4, \"position\": 67}, {\"embedding\": -0.9762668013572693, \"dimension\": 4, \"position\": 68}, {\"embedding\": -0.9982118010520935, \"dimension\": 4, \"position\": 69}, {\"embedding\": -0.9951352477073669, \"dimension\": 4, \"position\": 70}, {\"embedding\": -0.967114269733429, \"dimension\": 4, \"position\": 71}, {\"embedding\": -0.9148513078689575, \"dimension\": 4, \"position\": 72}, {\"embedding\": -0.839656412601471, \"dimension\": 4, \"position\": 73}, {\"embedding\": -0.7434144616127014, \"dimension\": 4, \"position\": 74}, {\"embedding\": -0.6285378336906433, \"dimension\": 4, \"position\": 75}, {\"embedding\": -0.4979061186313629, \"dimension\": 4, \"position\": 76}, {\"embedding\": -0.3547937273979187, \"dimension\": 4, \"position\": 77}, {\"embedding\": -0.20278796553611755, \"dimension\": 4, \"position\": 78}, {\"embedding\": -0.04569905996322632, \"dimension\": 4, \"position\": 79}, {\"embedding\": 0.11253630369901657, \"dimension\": 4, \"position\": 80}, {\"embedding\": 0.2679498493671417, \"dimension\": 4, \"position\": 81}, {\"embedding\": 0.4166468679904938, \"dimension\": 4, \"position\": 82}, {\"embedding\": 0.5549001097679138, \"dimension\": 4, \"position\": 83}, {\"embedding\": 0.6792440414428711, \"dimension\": 4, \"position\": 84}, {\"embedding\": 0.7865618467330933, \"dimension\": 4, \"position\": 85}, {\"embedding\": 0.8741634488105774, \"dimension\": 4, \"position\": 86}, {\"embedding\": 0.9398530125617981, \"dimension\": 4, \"position\": 87}, {\"embedding\": 0.9819839596748352, \"dimension\": 4, \"position\": 88}, {\"embedding\": 0.9995002150535583, \"dimension\": 4, \"position\": 89}, {\"embedding\": 0.9919626712799072, \"dimension\": 4, \"position\": 90}, {\"embedding\": 0.959559977054596, \"dimension\": 4, \"position\": 91}, {\"embedding\": 0.903104841709137, \"dimension\": 4, \"position\": 92}, {\"embedding\": 0.8240122199058533, \"dimension\": 4, \"position\": 93}, {\"embedding\": 0.7242646217346191, \"dimension\": 4, \"position\": 94}, {\"embedding\": 0.6063624024391174, \"dimension\": 4, \"position\": 95}, {\"embedding\": 0.4732609689235687, \"dimension\": 4, \"position\": 96}, {\"embedding\": 0.32829657196998596, \"dimension\": 4, \"position\": 97}, {\"embedding\": 0.17510302364826202, \"dimension\": 4, \"position\": 98}, {\"embedding\": 0.01752028614282608, \"dimension\": 4, \"position\": 99}, {\"embedding\": 1.0, \"dimension\": 5, \"position\": 0}, {\"embedding\": 0.9874668121337891, \"dimension\": 5, \"position\": 1}, {\"embedding\": 0.9501814842224121, \"dimension\": 5, \"position\": 2}, {\"embedding\": 0.8890786170959473, \"dimension\": 5, \"position\": 3}, {\"embedding\": 0.8056897521018982, \"dimension\": 5, \"position\": 4}, {\"embedding\": 0.7021052241325378, \"dimension\": 5, \"position\": 5}, {\"embedding\": 0.5809215903282166, \"dimension\": 5, \"position\": 6}, {\"embedding\": 0.44517630338668823, \"dimension\": 5, \"position\": 7}, {\"embedding\": 0.2982720732688904, \"dimension\": 5, \"position\": 8}, {\"embedding\": 0.14389123022556305, \"dimension\": 5, \"position\": 9}, {\"embedding\": -0.01409643329679966, \"dimension\": 5, \"position\": 10}, {\"embedding\": -0.1717306226491928, \"dimension\": 5, \"position\": 11}, {\"embedding\": -0.32506027817726135, \"dimension\": 5, \"position\": 12}, {\"embedding\": -0.47024187445640564, \"dimension\": 5, \"position\": 13}, {\"embedding\": -0.6036361455917358, \"dimension\": 5, \"position\": 14}, {\"embedding\": -0.7218996286392212, \"dimension\": 5, \"position\": 15}, {\"embedding\": -0.8220675587654114, \"dimension\": 5, \"position\": 16}, {\"embedding\": -0.9016293287277222, \"dimension\": 5, \"position\": 17}, {\"embedding\": -0.9585906267166138, \"dimension\": 5, \"position\": 18}, {\"embedding\": -0.9915235042572021, \"dimension\": 5, \"position\": 19}, {\"embedding\": -0.9996025562286377, \"dimension\": 5, \"position\": 20}, {\"embedding\": -0.9826252460479736, \"dimension\": 5, \"position\": 21}, {\"embedding\": -0.941017210483551, \"dimension\": 5, \"position\": 22}, {\"embedding\": -0.8758211731910706, \"dimension\": 5, \"position\": 23}, {\"embedding\": -0.788671612739563, \"dimension\": 5, \"position\": 24}, {\"embedding\": -0.6817529797554016, \"dimension\": 5, \"position\": 25}, {\"embedding\": -0.5577451586723328, \"dimension\": 5, \"position\": 26}, {\"embedding\": -0.4197568893432617, \"dimension\": 5, \"position\": 27}, {\"embedding\": -0.27124688029289246, \"dimension\": 5, \"position\": 28}, {\"embedding\": -0.11593768745660782, \"dimension\": 5, \"position\": 29}, {\"embedding\": 0.042278096079826355, \"dimension\": 5, \"position\": 30}, {\"embedding\": 0.19943365454673767, \"dimension\": 5, \"position\": 31}, {\"embedding\": 0.3515901565551758, \"dimension\": 5, \"position\": 32}, {\"embedding\": 0.4949335753917694, \"dimension\": 5, \"position\": 33}, {\"embedding\": 0.6258708238601685, \"dimension\": 5, \"position\": 34}, {\"embedding\": 0.7411201596260071, \"dimension\": 5, \"position\": 35}, {\"embedding\": 0.8377919793128967, \"dimension\": 5, \"position\": 36}, {\"embedding\": 0.9134634733200073, \"dimension\": 5, \"position\": 37}, {\"embedding\": 0.9662377834320068, \"dimension\": 5, \"position\": 38}, {\"embedding\": 0.994792103767395, \"dimension\": 5, \"position\": 39}, {\"embedding\": 0.9984106421470642, \"dimension\": 5, \"position\": 40}, {\"embedding\": 0.9770026803016663, \"dimension\": 5, \"position\": 41}, {\"embedding\": 0.931104838848114, \"dimension\": 5, \"position\": 42}, {\"embedding\": 0.8618676662445068, \"dimension\": 5, \"position\": 43}, {\"embedding\": 0.7710266709327698, \"dimension\": 5, \"position\": 44}, {\"embedding\": 0.6608588695526123, \"dimension\": 5, \"position\": 45}, {\"embedding\": 0.5341253876686096, \"dimension\": 5, \"position\": 46}, {\"embedding\": 0.3940037488937378, \"dimension\": 5, \"position\": 47}, {\"embedding\": 0.24400585889816284, \"dimension\": 5, \"position\": 48}, {\"embedding\": 0.08789165318012238, \"dimension\": 5, \"position\": 49}, {\"embedding\": -0.07042567431926727, \"dimension\": 5, \"position\": 50}, {\"embedding\": -0.2269781529903412, \"dimension\": 5, \"position\": 51}, {\"embedding\": -0.37784066796302795, \"dimension\": 5, \"position\": 52}, {\"embedding\": -0.5192320942878723, \"dimension\": 5, \"position\": 53}, {\"embedding\": -0.6476082801818848, \"dimension\": 5, \"position\": 54}, {\"embedding\": -0.7597513794898987, \"dimension\": 5, \"position\": 55}, {\"embedding\": -0.8528502583503723, \"dimension\": 5, \"position\": 56}, {\"embedding\": -0.9245713949203491, \"dimension\": 5, \"position\": 57}, {\"embedding\": -0.973116934299469, \"dimension\": 5, \"position\": 58}, {\"embedding\": -0.9972700476646423, \"dimension\": 5, \"position\": 59}, {\"embedding\": -0.9964250922203064, \"dimension\": 5, \"position\": 60}, {\"embedding\": -0.9706035256385803, \"dimension\": 5, \"position\": 61}, {\"embedding\": -0.9204524159431458, \"dimension\": 5, \"position\": 62}, {\"embedding\": -0.8472290635108948, \"dimension\": 5, \"position\": 63}, {\"embedding\": -0.7527687549591064, \"dimension\": 5, \"position\": 64}, {\"embedding\": -0.6394393444061279, \"dimension\": 5, \"position\": 65}, {\"embedding\": -0.5100815296173096, \"dimension\": 5, \"position\": 66}, {\"embedding\": -0.3679378628730774, \"dimension\": 5, \"position\": 67}, {\"embedding\": -0.2165713608264923, \"dimension\": 5, \"position\": 68}, {\"embedding\": -0.05977622792124748, \"dimension\": 5, \"position\": 69}, {\"embedding\": 0.09851823002099991, \"dimension\": 5, \"position\": 70}, {\"embedding\": 0.254342257976532, \"dimension\": 5, \"position\": 71}, {\"embedding\": 0.4037908613681793, \"dimension\": 5, \"position\": 72}, {\"embedding\": 0.543117880821228, \"dimension\": 5, \"position\": 73}, {\"embedding\": 0.6688309907913208, \"dimension\": 5, \"position\": 74}, {\"embedding\": 0.7777789831161499, \"dimension\": 5, \"position\": 75}, {\"embedding\": 0.8672309517860413, \"dimension\": 5, \"position\": 76}, {\"embedding\": 0.9349446296691895, \"dimension\": 5, \"position\": 77}, {\"embedding\": 0.9792226552963257, \"dimension\": 5, \"position\": 78}, {\"embedding\": 0.998955249786377, \"dimension\": 5, \"position\": 79}, {\"embedding\": 0.9936476349830627, \"dimension\": 5, \"position\": 80}, {\"embedding\": 0.9634328484535217, \"dimension\": 5, \"position\": 81}, {\"embedding\": 0.9090684056282043, \"dimension\": 5, \"position\": 82}, {\"embedding\": 0.8319169878959656, \"dimension\": 5, \"position\": 83}, {\"embedding\": 0.733912467956543, \"dimension\": 5, \"position\": 84}, {\"embedding\": 0.617511510848999, \"dimension\": 5, \"position\": 85}, {\"embedding\": 0.4856317937374115, \"dimension\": 5, \"position\": 86}, {\"embedding\": 0.3415791094303131, \"dimension\": 5, \"position\": 87}, {\"embedding\": 0.18896427750587463, \"dimension\": 5, \"position\": 88}, {\"embedding\": 0.0316128134727478, \"dimension\": 5, \"position\": 89}, {\"embedding\": -0.12653106451034546, \"dimension\": 5, \"position\": 90}, {\"embedding\": -0.28150418400764465, \"dimension\": 5, \"position\": 91}, {\"embedding\": -0.4294200837612152, \"dimension\": 5, \"position\": 92}, {\"embedding\": -0.5665720105171204, \"dimension\": 5, \"position\": 93}, {\"embedding\": -0.6895220875740051, \"dimension\": 5, \"position\": 94}, {\"embedding\": -0.7951884269714355, \"dimension\": 5, \"position\": 95}, {\"embedding\": -0.880922257900238, \"dimension\": 5, \"position\": 96}, {\"embedding\": -0.9445747137069702, \"dimension\": 5, \"position\": 97}, {\"embedding\": -0.9845501184463501, \"dimension\": 5, \"position\": 98}, {\"embedding\": -0.9998465180397034, \"dimension\": 5, \"position\": 99}, {\"embedding\": 0.0, \"dimension\": 6, \"position\": 0}, {\"embedding\": 0.06305388361215591, \"dimension\": 6, \"position\": 1}, {\"embedding\": 0.12585683166980743, \"dimension\": 6, \"position\": 2}, {\"embedding\": 0.18815888464450836, \"dimension\": 6, \"position\": 3}, {\"embedding\": 0.24971213936805725, \"dimension\": 6, \"position\": 4}, {\"embedding\": 0.31027159094810486, \"dimension\": 6, \"position\": 5}, {\"embedding\": 0.3695962131023407, \"dimension\": 6, \"position\": 6}, {\"embedding\": 0.4274499714374542, \"dimension\": 6, \"position\": 7}, {\"embedding\": 0.4836025834083557, \"dimension\": 6, \"position\": 8}, {\"embedding\": 0.5378305912017822, \"dimension\": 6, \"position\": 9}, {\"embedding\": 0.5899181365966797, \"dimension\": 6, \"position\": 10}, {\"embedding\": 0.6396579146385193, \"dimension\": 6, \"position\": 11}, {\"embedding\": 0.6868520379066467, \"dimension\": 6, \"position\": 12}, {\"embedding\": 0.7313126921653748, \"dimension\": 6, \"position\": 13}, {\"embedding\": 0.7728629112243652, \"dimension\": 6, \"position\": 14}, {\"embedding\": 0.8113372921943665, \"dimension\": 6, \"position\": 15}, {\"embedding\": 0.8465827703475952, \"dimension\": 6, \"position\": 16}, {\"embedding\": 0.8784590363502502, \"dimension\": 6, \"position\": 17}, {\"embedding\": 0.9068393111228943, \"dimension\": 6, \"position\": 18}, {\"embedding\": 0.9316105246543884, \"dimension\": 6, \"position\": 19}, {\"embedding\": 0.9526742100715637, \"dimension\": 6, \"position\": 20}, {\"embedding\": 0.9699464440345764, \"dimension\": 6, \"position\": 21}, {\"embedding\": 0.9833585619926453, \"dimension\": 6, \"position\": 22}, {\"embedding\": 0.9928570985794067, \"dimension\": 6, \"position\": 23}, {\"embedding\": 0.9984043836593628, \"dimension\": 6, \"position\": 24}, {\"embedding\": 0.999978244304657, \"dimension\": 6, \"position\": 25}, {\"embedding\": 0.9975724220275879, \"dimension\": 6, \"position\": 26}, {\"embedding\": 0.9911965131759644, \"dimension\": 6, \"position\": 27}, {\"embedding\": 0.9808759093284607, \"dimension\": 6, \"position\": 28}, {\"embedding\": 0.9666516780853271, \"dimension\": 6, \"position\": 29}, {\"embedding\": 0.9485803842544556, \"dimension\": 6, \"position\": 30}, {\"embedding\": 0.9267339110374451, \"dimension\": 6, \"position\": 31}, {\"embedding\": 0.9011994004249573, \"dimension\": 6, \"position\": 32}, {\"embedding\": 0.8720782399177551, \"dimension\": 6, \"position\": 33}, {\"embedding\": 0.8394865393638611, \"dimension\": 6, \"position\": 34}, {\"embedding\": 0.8035537600517273, \"dimension\": 6, \"position\": 35}, {\"embedding\": 0.7644230127334595, \"dimension\": 6, \"position\": 36}, {\"embedding\": 0.7222501039505005, \"dimension\": 6, \"position\": 37}, {\"embedding\": 0.6772029399871826, \"dimension\": 6, \"position\": 38}, {\"embedding\": 0.6294605135917664, \"dimension\": 6, \"position\": 39}, {\"embedding\": 0.57921302318573, \"dimension\": 6, \"position\": 40}, {\"embedding\": 0.5266605615615845, \"dimension\": 6, \"position\": 41}, {\"embedding\": 0.4720119535923004, \"dimension\": 6, \"position\": 42}, {\"embedding\": 0.41548484563827515, \"dimension\": 6, \"position\": 43}, {\"embedding\": 0.3573042154312134, \"dimension\": 6, \"position\": 44}, {\"embedding\": 0.29770180583000183, \"dimension\": 6, \"position\": 45}, {\"embedding\": 0.23691439628601074, \"dimension\": 6, \"position\": 46}, {\"embedding\": 0.17518411576747894, \"dimension\": 6, \"position\": 47}, {\"embedding\": 0.1127568930387497, \"dimension\": 6, \"position\": 48}, {\"embedding\": 0.04988069087266922, \"dimension\": 6, \"position\": 49}, {\"embedding\": -0.013194027356803417, \"dimension\": 6, \"position\": 50}, {\"embedding\": -0.07621623575687408, \"dimension\": 6, \"position\": 51}, {\"embedding\": -0.1389348804950714, \"dimension\": 6, \"position\": 52}, {\"embedding\": -0.20110084116458893, \"dimension\": 6, \"position\": 53}, {\"embedding\": -0.2624664604663849, \"dimension\": 6, \"position\": 54}, {\"embedding\": -0.3227875530719757, \"dimension\": 6, \"position\": 55}, {\"embedding\": -0.3818237781524658, \"dimension\": 6, \"position\": 56}, {\"embedding\": -0.4393406808376312, \"dimension\": 6, \"position\": 57}, {\"embedding\": -0.49510911107063293, \"dimension\": 6, \"position\": 58}, {\"embedding\": -0.5489069223403931, \"dimension\": 6, \"position\": 59}, {\"embedding\": -0.6005204319953918, \"dimension\": 6, \"position\": 60}, {\"embedding\": -0.6497439742088318, \"dimension\": 6, \"position\": 61}, {\"embedding\": -0.6963817477226257, \"dimension\": 6, \"position\": 62}, {\"embedding\": -0.7402478456497192, \"dimension\": 6, \"position\": 63}, {\"embedding\": -0.7811681628227234, \"dimension\": 6, \"position\": 64}, {\"embedding\": -0.8189795017242432, \"dimension\": 6, \"position\": 65}, {\"embedding\": -0.8535317182540894, \"dimension\": 6, \"position\": 66}, {\"embedding\": -0.8846868872642517, \"dimension\": 6, \"position\": 67}, {\"embedding\": -0.9123212099075317, \"dimension\": 6, \"position\": 68}, {\"embedding\": -0.936324954032898, \"dimension\": 6, \"position\": 69}, {\"embedding\": -0.956602156162262, \"dimension\": 6, \"position\": 70}, {\"embedding\": -0.9730724096298218, \"dimension\": 6, \"position\": 71}, {\"embedding\": -0.9856699705123901, \"dimension\": 6, \"position\": 72}, {\"embedding\": -0.9943448305130005, \"dimension\": 6, \"position\": 73}, {\"embedding\": -0.9990625381469727, \"dimension\": 6, \"position\": 74}, {\"embedding\": -0.9998041391372681, \"dimension\": 6, \"position\": 75}, {\"embedding\": -0.9965668320655823, \"dimension\": 6, \"position\": 76}, {\"embedding\": -0.9893633723258972, \"dimension\": 6, \"position\": 77}, {\"embedding\": -0.9782225489616394, \"dimension\": 6, \"position\": 78}, {\"embedding\": -0.963188648223877, \"dimension\": 6, \"position\": 79}, {\"embedding\": -0.9443213939666748, \"dimension\": 6, \"position\": 80}, {\"embedding\": -0.9216960668563843, \"dimension\": 6, \"position\": 81}, {\"embedding\": -0.8954026699066162, \"dimension\": 6, \"position\": 82}, {\"embedding\": -0.8655455708503723, \"dimension\": 6, \"position\": 83}, {\"embedding\": -0.8322440981864929, \"dimension\": 6, \"position\": 84}, {\"embedding\": -0.795630156993866, \"dimension\": 6, \"position\": 85}, {\"embedding\": -0.7558501362800598, \"dimension\": 6, \"position\": 86}, {\"embedding\": -0.7130619883537292, \"dimension\": 6, \"position\": 87}, {\"embedding\": -0.6674357056617737, \"dimension\": 6, \"position\": 88}, {\"embedding\": -0.6191535592079163, \"dimension\": 6, \"position\": 89}, {\"embedding\": -0.5684073567390442, \"dimension\": 6, \"position\": 90}, {\"embedding\": -0.5153986215591431, \"dimension\": 6, \"position\": 91}, {\"embedding\": -0.46033912897109985, \"dimension\": 6, \"position\": 92}, {\"embedding\": -0.40344759821891785, \"dimension\": 6, \"position\": 93}, {\"embedding\": -0.3449500501155853, \"dimension\": 6, \"position\": 94}, {\"embedding\": -0.28508007526397705, \"dimension\": 6, \"position\": 95}, {\"embedding\": -0.22407560050487518, \"dimension\": 6, \"position\": 96}, {\"embedding\": -0.1621788740158081, \"dimension\": 6, \"position\": 97}, {\"embedding\": -0.09963719546794891, \"dimension\": 6, \"position\": 98}, {\"embedding\": -0.03669850528240204, \"dimension\": 6, \"position\": 99}, {\"embedding\": 1.0, \"dimension\": 7, \"position\": 0}, {\"embedding\": 0.9980100989341736, \"dimension\": 7, \"position\": 1}, {\"embedding\": 0.9920483827590942, \"dimension\": 7, \"position\": 2}, {\"embedding\": 0.9821385741233826, \"dimension\": 7, \"position\": 3}, {\"embedding\": 0.9683201313018799, \"dimension\": 7, \"position\": 4}, {\"embedding\": 0.9506479501724243, \"dimension\": 7, \"position\": 5}, {\"embedding\": 0.9291924834251404, \"dimension\": 7, \"position\": 6}, {\"embedding\": 0.9040390253067017, \"dimension\": 7, \"position\": 7}, {\"embedding\": 0.8752877116203308, \"dimension\": 7, \"position\": 8}, {\"embedding\": 0.8430529236793518, \"dimension\": 7, \"position\": 9}, {\"embedding\": 0.8074630498886108, \"dimension\": 7, \"position\": 10}, {\"embedding\": 0.7686597108840942, \"dimension\": 7, \"position\": 11}, {\"embedding\": 0.7267972826957703, \"dimension\": 7, \"position\": 12}, {\"embedding\": 0.6820423603057861, \"dimension\": 7, \"position\": 13}, {\"embedding\": 0.6345730423927307, \"dimension\": 7, \"position\": 14}, {\"embedding\": 0.5845783352851868, \"dimension\": 7, \"position\": 15}, {\"embedding\": 0.532257080078125, \"dimension\": 7, \"position\": 16}, {\"embedding\": 0.47781768441200256, \"dimension\": 7, \"position\": 17}, {\"embedding\": 0.4214765727519989, \"dimension\": 7, \"position\": 18}, {\"embedding\": 0.36345821619033813, \"dimension\": 7, \"position\": 19}, {\"embedding\": 0.30399325489997864, \"dimension\": 7, \"position\": 20}, {\"embedding\": 0.243318572640419, \"dimension\": 7, \"position\": 21}, {\"embedding\": 0.18167544901371002, \"dimension\": 7, \"position\": 22}, {\"embedding\": 0.11930941045284271, \"dimension\": 7, \"position\": 23}, {\"embedding\": 0.056468550115823746, \"dimension\": 7, \"position\": 24}, {\"embedding\": -0.006597157102078199, \"dimension\": 7, \"position\": 25}, {\"embedding\": -0.06963648647069931, \"dimension\": 7, \"position\": 26}, {\"embedding\": -0.1323987990617752, \"dimension\": 7, \"position\": 27}, {\"embedding\": -0.1946340948343277, \"dimension\": 7, \"position\": 28}, {\"embedding\": -0.25609490275382996, \"dimension\": 7, \"position\": 29}, {\"embedding\": -0.31653639674186707, \"dimension\": 7, \"position\": 30}, {\"embedding\": -0.37571826577186584, \"dimension\": 7, \"position\": 31}, {\"embedding\": -0.43340474367141724, \"dimension\": 7, \"position\": 32}, {\"embedding\": -0.4893665015697479, \"dimension\": 7, \"position\": 33}, {\"embedding\": -0.5433804988861084, \"dimension\": 7, \"position\": 34}, {\"embedding\": -0.5952321887016296, \"dimension\": 7, \"position\": 35}, {\"embedding\": -0.6447150111198425, \"dimension\": 7, \"position\": 36}, {\"embedding\": -0.6916319727897644, \"dimension\": 7, \"position\": 37}, {\"embedding\": -0.7357962727546692, \"dimension\": 7, \"position\": 38}, {\"embedding\": -0.7770324349403381, \"dimension\": 7, \"position\": 39}, {\"embedding\": -0.8151761889457703, \"dimension\": 7, \"position\": 40}, {\"embedding\": -0.8500756621360779, \"dimension\": 7, \"position\": 41}, {\"embedding\": -0.8815921545028687, \"dimension\": 7, \"position\": 42}, {\"embedding\": -0.9096000790596008, \"dimension\": 7, \"position\": 43}, {\"embedding\": -0.933988094329834, \"dimension\": 7, \"position\": 44}, {\"embedding\": -0.9546589255332947, \"dimension\": 7, \"position\": 45}, {\"embedding\": -0.971530556678772, \"dimension\": 7, \"position\": 46}, {\"embedding\": -0.9845356941223145, \"dimension\": 7, \"position\": 47}, {\"embedding\": -0.9936226010322571, \"dimension\": 7, \"position\": 48}, {\"embedding\": -0.998755156993866, \"dimension\": 7, \"position\": 49}, {\"embedding\": -0.9999129772186279, \"dimension\": 7, \"position\": 50}, {\"embedding\": -0.9970912933349609, \"dimension\": 7, \"position\": 51}, {\"embedding\": -0.9903014898300171, \"dimension\": 7, \"position\": 52}, {\"embedding\": -0.9795705676078796, \"dimension\": 7, \"position\": 53}, {\"embedding\": -0.964941143989563, \"dimension\": 7, \"position\": 54}, {\"embedding\": -0.9464714527130127, \"dimension\": 7, \"position\": 55}, {\"embedding\": -0.9242351651191711, \"dimension\": 7, \"position\": 56}, {\"embedding\": -0.8983205556869507, \"dimension\": 7, \"position\": 57}, {\"embedding\": -0.8688308000564575, \"dimension\": 7, \"position\": 58}, {\"embedding\": -0.8358834981918335, \"dimension\": 7, \"position\": 59}, {\"embedding\": -0.7996094226837158, \"dimension\": 7, \"position\": 60}, {\"embedding\": -0.7601531147956848, \"dimension\": 7, \"position\": 61}, {\"embedding\": -0.7176715731620789, \"dimension\": 7, \"position\": 62}, {\"embedding\": -0.6723340749740601, \"dimension\": 7, \"position\": 63}, {\"embedding\": -0.6243206262588501, \"dimension\": 7, \"position\": 64}, {\"embedding\": -0.5738227963447571, \"dimension\": 7, \"position\": 65}, {\"embedding\": -0.5210408568382263, \"dimension\": 7, \"position\": 66}, {\"embedding\": -0.46618568897247314, \"dimension\": 7, \"position\": 67}, {\"embedding\": -0.4094752371311188, \"dimension\": 7, \"position\": 68}, {\"embedding\": -0.3511347472667694, \"dimension\": 7, \"position\": 69}, {\"embedding\": -0.2913972735404968, \"dimension\": 7, \"position\": 70}, {\"embedding\": -0.23049965500831604, \"dimension\": 7, \"position\": 71}, {\"embedding\": -0.1686851680278778, \"dimension\": 7, \"position\": 72}, {\"embedding\": -0.10619935393333435, \"dimension\": 7, \"position\": 73}, {\"embedding\": -0.04329042136669159, \"dimension\": 7, \"position\": 74}, {\"embedding\": 0.019790323451161385, \"dimension\": 7, \"position\": 75}, {\"embedding\": 0.08279230445623398, \"dimension\": 7, \"position\": 76}, {\"embedding\": 0.14546526968479156, \"dimension\": 7, \"position\": 77}, {\"embedding\": 0.20755885541439056, \"dimension\": 7, \"position\": 78}, {\"embedding\": 0.2688263952732086, \"dimension\": 7, \"position\": 79}, {\"embedding\": 0.3290245532989502, \"dimension\": 7, \"position\": 80}, {\"embedding\": 0.3879128098487854, \"dimension\": 7, \"position\": 81}, {\"embedding\": 0.4452572762966156, \"dimension\": 7, \"position\": 82}, {\"embedding\": 0.5008301138877869, \"dimension\": 7, \"position\": 83}, {\"embedding\": 0.5544094443321228, \"dimension\": 7, \"position\": 84}, {\"embedding\": 0.605782687664032, \"dimension\": 7, \"position\": 85}, {\"embedding\": 0.6547446846961975, \"dimension\": 7, \"position\": 86}, {\"embedding\": 0.7011010050773621, \"dimension\": 7, \"position\": 87}, {\"embedding\": 0.7446674108505249, \"dimension\": 7, \"position\": 88}, {\"embedding\": 0.7852699160575867, \"dimension\": 7, \"position\": 89}, {\"embedding\": 0.8227472901344299, \"dimension\": 7, \"position\": 90}, {\"embedding\": 0.856950581073761, \"dimension\": 7, \"position\": 91}, {\"embedding\": 0.8877431154251099, \"dimension\": 7, \"position\": 92}, {\"embedding\": 0.9150027632713318, \"dimension\": 7, \"position\": 93}, {\"embedding\": 0.9386210441589355, \"dimension\": 7, \"position\": 94}, {\"embedding\": 0.9585037231445312, \"dimension\": 7, \"position\": 95}, {\"embedding\": 0.9745717644691467, \"dimension\": 7, \"position\": 96}, {\"embedding\": 0.9867613911628723, \"dimension\": 7, \"position\": 97}, {\"embedding\": 0.9950238466262817, \"dimension\": 7, \"position\": 98}, {\"embedding\": 0.9993264079093933, \"dimension\": 7, \"position\": 99}]}}, {\"mode\": \"vega-lite\"});\n",
              "</script>"
            ],
            "text/plain": [
              "alt.Chart(...)"
            ]
          },
          "execution_count": 30,
          "metadata": {},
          "output_type": "execute_result"
        }
      ],
      "source": [
        "show_example(example_positional)"
      ]
    },
    {
      "cell_type": "markdown",
      "metadata": {
        "id": "g-8g-HtBlsRZ"
      },
      "source": [
        "## The Transformer model\n",
        "\n",
        "To be convinient, we will use `nn.Transformer` layer from PyTorch. We will build a 4-layer Transformer model.\n",
        "\n",
        "<table>\n",
        "<tr>\n",
        "  <th colspan=1>The original Transformer diagram</th>\n",
        "  <th colspan=1>A representation of a 4-layer Transformer</th>\n",
        "</tr>\n",
        "<tr>\n",
        "  <td>\n",
        "   <img width=400 src=\"https://www.tensorflow.org/images/tutorials/transformer/transformer.png\"/>\n",
        "  </td>\n",
        "  <td>\n",
        "   <img width=307 src=\"https://www.tensorflow.org/images/tutorials/transformer/Transformer-4layer-compact.png\"/>\n",
        "  </td>\n",
        "</tr>\n",
        "</table>"
      ]
    },
    {
      "cell_type": "markdown",
      "metadata": {
        "id": "TMOQpxvqODYB"
      },
      "source": [
        "## Q8-9 Transfomer NMT model"
      ]
    },
    {
      "cell_type": "markdown",
      "metadata": {
        "id": "NRncXVMqN6GS"
      },
      "source": [
        "### Q8: (5 points) Initialize layers in TransformerNMT model\n",
        "Implement the `__init__` function  to initialize the\n",
        "necessary module for our TransformerNMT model"
      ]
    },
    {
      "cell_type": "markdown",
      "metadata": {
        "id": "yKCJQc17N8pj"
      },
      "source": [
        "### Q9: (10 points) Implement the forward function\n",
        "Complete the `forward` function in the TransformerNMT class\n",
        "\n"
      ]
    },
    {
      "cell_type": "code",
      "execution_count": null,
      "metadata": {
        "id": "a4FpByedD5pS"
      },
      "outputs": [],
      "source": [
        "from torch import Tensor\n",
        "import torch\n",
        "import torch.nn as nn\n",
        "import math\n",
        "DEVICE = torch.device('cuda' if torch.cuda.is_available() else 'cpu')\n",
        "\n",
        "BOS_IDX, PAD_IDX, EOS_IDX, UNK_IDX = vocab.tgt[\"<s>\"], vocab.tgt[\"<pad>\"], vocab.tgt[\"</s>\"], vocab.tgt[\"<unk>\"]\n",
        "\n",
        "class TransformerNMT(nn.Module):\n",
        "    \"\"\" Neural Machine Translation Model with Transformer:\n",
        "        - Encoder with stacked self-attention and feedforward layers\n",
        "        - Decoder with stacked self-attention, encoder-decoder attention, and feedforward layers\n",
        "    \"\"\"\n",
        "    def __init__(self,\n",
        "                 num_encoder_layers: int,\n",
        "                 num_decoder_layers: int,\n",
        "                 emb_size: int,\n",
        "                 nhead: int,\n",
        "                 src_vocab_size: int,\n",
        "                 tgt_vocab_size: int,\n",
        "                 dim_feedforward: int = 512,\n",
        "                 max_len: int = 5000,\n",
        "                 dropout: float = 0.1):\n",
        "        \"\"\" Init TransformerNMT NMT Model.\n",
        "        @param num_encoder_layers (int): The number of sub-layers in the Encoder Transformer\n",
        "        @param num_decoder_layers (int): The number of sub-layers in the Decoder Transformer\n",
        "        @param emb_size (int): Hidden Size, the size of hidden states (dimensionality)\n",
        "        @param nhead (int): The number of heads in the multiheadattention\n",
        "        @param src_vocab_size (int): The vocab size of src languages\n",
        "        @param tgt_vocab_size (int): The vocab size of tgt languages\n",
        "        @param dim_feedforward (int): The dimension of the feedforward network model\n",
        "        @param max_len (int) max sequence length\n",
        "        @param dropout (float): Dropout probability, for attention\n",
        "        \"\"\"\n",
        "\n",
        "        super(TransformerNMT, self).__init__()\n",
        "\n",
        "        self.src_embedding = None\n",
        "        self.tgt_embedding = None\n",
        "\n",
        "        self.transformer = None\n",
        "        self.target_vocab_projection = None\n",
        "\n",
        "        ### YOUR CODE HERE\n",
        "        ### TODO - Initialize the following variables IN THIS ORDER:\n",
        "        ###     self.src_embedding: Transformer Embedding Layer used for source language\n",
        "        ###     self.tgt_embedding: Transformer Embedding Layer used for target language\n",
        "        ###     self.transformer: Transformer layer\n",
        "        ###     self.target_vocab_projection (Linear Layer with no bias), mapping hidden representation to the vocab distribution\n",
        "        ###\n",
        "        ### Use the following docs to properly initialize these variables:\n",
        "        ###     Transformer\n",
        "        ###         https://pytorch.org/docs/stable/generated/torch.nn.Transformer.html\n",
        "        \n",
        "\n",
        "        ### END YOUR CODE\n",
        "\n",
        "\n",
        "    def forward(self,\n",
        "                src: Tensor,\n",
        "                trg: Tensor,\n",
        "                src_mask: Tensor,\n",
        "                tgt_mask: Tensor,\n",
        "                src_padding_mask: Tensor,\n",
        "                tgt_padding_mask: Tensor,\n",
        "                memory_key_padding_mask: Tensor):\n",
        "        \"\"\"Forward pass through the neural machine translation (NMT) model.\n",
        "        @param src (Tensor): Source sequence tensor.\n",
        "        @param trg (Tensor): Target sequence tensor.\n",
        "        @param src_mask (Tensor): Mask for the source sequence.\n",
        "        @param tgt_mask (Tensor): Mask for the target sequence.\n",
        "        @param src_padding_mask (Tensor): Padding mask for the source sequence.\n",
        "        @param tgt_padding_mask (Tensor): Padding mask for the target sequence.\n",
        "        @param memory_key_padding_mask (Tensor): Padding mask for memory keys.\n",
        "\n",
        "        @returns Tensor: Output tensor representing the NMT model's predictions for the target sequence.\n",
        "        \"\"\"\n",
        "\n",
        "        ### YOUR CODE HERE\n",
        "        ### TODO - Implement the forward function:\n",
        "        ###     1. Compute `src_embeded` and `tgt_embeded` from `src` and `tgt` using TransformerEmbedding,\n",
        "        ###     which return shape (src_len, b, e)\n",
        "        ###     src_len = maximum source sentence length, b = batch size, e = embedding size.\n",
        "        ###     2. Apply the self.transformer to compute the decoder output with shape (tgt_len, b, e)\n",
        "        ###     tgt_len = maximum target sentence length, b = batch size, e = embedding size.\n",
        "        ###     3. Mapping the decoder ouput to the vocab distribution using self.target_vocab_projection and return it.\n",
        "        ###     which return shape (tgt_len, b, tgt_vocab_size)\n",
        "\n",
        "        ### Use the following docs for how to use nn.Transformer forward function:\n",
        "        ###     Transformer\n",
        "        ###         https://pytorch.org/docs/stable/generated/torch.nn.Transformer.html\n",
        "        \n",
        "        \n",
        "        ### END YOUR CODE\n",
        "\n",
        "    def encode(self, src: Tensor, src_mask: Tensor):\n",
        "        \"\"\"Encodes the source sequence.\n",
        "        @param src (Tensor): Source sequence tensor. (src_len, bs)\n",
        "        @param src_mask (Tensor): Mask for the source sequence. (src_len, src_len)\n",
        "\n",
        "        @returns Tensor: Encoded source sequence tensor. (src_len, bs, emb_size)\n",
        "        \"\"\"\n",
        "        return self.transformer.encoder(self.src_embedding(src), src_mask)\n",
        "\n",
        "    def decode(self, tgt: Tensor, memory: Tensor, tgt_mask: Tensor):\n",
        "        \"\"\"Decodes the target sequence.\n",
        "        @param tgt (Tensor): Target sequence tensor. (tgt_len, bs)\n",
        "        @param memory (Tensor): Encoded source sequence tensor. (src_len, bs, emb_size)\n",
        "        @param tgt_mask (Tensor): Mask for the target sequence. (tgt_len, tgt_len)\n",
        "\n",
        "        @returns Tensor: Decoded target sequence tensor. (tgt_len, bs, emb_size)\n",
        "        \"\"\"\n",
        "        return self.transformer.decoder(self.tgt_embedding(tgt), memory, tgt_mask)\n",
        "\n",
        "\n",
        "def generate_square_subsequent_mask(sz):\n",
        "    mask = (torch.triu(torch.ones((sz, sz), device=DEVICE)) == 1).transpose(0, 1)\n",
        "    mask = mask.float().masked_fill(mask == 0, float('-inf')).masked_fill(mask == 1, float(0.0))\n",
        "    return mask\n",
        "\n",
        "\n",
        "def create_mask(src, tgt):\n",
        "    src_seq_len = src.shape[0]\n",
        "    tgt_seq_len = tgt.shape[0]\n",
        "\n",
        "    tgt_mask = generate_square_subsequent_mask(tgt_seq_len)\n",
        "    src_mask = torch.zeros((src_seq_len, src_seq_len),device=DEVICE).type(torch.bool)\n",
        "\n",
        "    src_padding_mask = (src == PAD_IDX).transpose(0, 1)\n",
        "    tgt_padding_mask = (tgt == PAD_IDX).transpose(0, 1)\n",
        "    return src_mask, tgt_mask, src_padding_mask, tgt_padding_mask"
      ]
    },
    {
      "cell_type": "markdown",
      "metadata": {
        "id": "91bFTjSttI87"
      },
      "source": [
        "## Train our full model\n",
        "\n"
      ]
    },
    {
      "cell_type": "code",
      "execution_count": null,
      "metadata": {
        "cellView": "form",
        "colab": {
          "base_uri": "https://localhost:8080/"
        },
        "id": "TUlRiRFrUJvh",
        "outputId": "4d901b0d-7b58-4348-f237-7f59b1859a98"
      },
      "outputs": [
        {
          "name": "stderr",
          "output_type": "stream",
          "text": [
            "/usr/local/lib/python3.10/dist-packages/torch/nn/modules/transformer.py:379: UserWarning: enable_nested_tensor is True, but self.use_nested_tensor is False because encoder_layer.self_attn.batch_first was not True(use batch_first for better inference performance)\n",
            "  warnings.warn(\n"
          ]
        }
      ],
      "source": [
        "# @title Model Initialization\n",
        "\n",
        "import torch\n",
        "torch.manual_seed(0)\n",
        "\n",
        "args.src_vocab_size = len(vocab.src)\n",
        "args.tgt_vocab_size = len(vocab.tgt)\n",
        "args.emb_size = 776\n",
        "args.n_heads = 8\n",
        "args.ffn_hid_dim = 768\n",
        "args.batch_size = 32\n",
        "args.n_encoder_layers = 3\n",
        "args.n_decoder_layers = 3\n",
        "args.lr = 1e-4\n",
        "args.dropout = 0.1\n",
        "\n",
        "transformer = TransformerNMT(args.n_encoder_layers, args.n_decoder_layers, args.emb_size,\n",
        "                                 args.n_heads, args.src_vocab_size, args.tgt_vocab_size, args.ffn_hid_dim, dropout=args.dropout)\n",
        "\n",
        "for p in transformer.parameters():\n",
        "    if p.dim() > 1:\n",
        "        nn.init.xavier_uniform_(p)\n",
        "\n",
        "transformer = transformer.to(DEVICE)\n",
        "\n",
        "loss_fn = torch.nn.CrossEntropyLoss(ignore_index=PAD_IDX)\n",
        "\n",
        "optimizer = torch.optim.Adam(transformer.parameters(), lr=args.lr, betas=(0.9, 0.98), eps=1e-8)"
      ]
    },
    {
      "cell_type": "code",
      "execution_count": null,
      "metadata": {
        "cellView": "form",
        "id": "l2ipFnjSKFVM"
      },
      "outputs": [],
      "source": [
        "# @title Helper function\n",
        "from torch.nn.utils.rnn import pad_sequence\n",
        "\n",
        "# helper function to club together sequential operations\n",
        "def sequential_transforms(*transforms):\n",
        "    def func(txt_input):\n",
        "        for transform in transforms:\n",
        "            try:\n",
        "                txt_input = transform(txt_input)\n",
        "            except Exception as e:\n",
        "                if \"device\" in str(e):\n",
        "                    print(e)\n",
        "                    txt_input = transform(txt_input, device=device)\n",
        "                else:\n",
        "                    raise ValueError(e)\n",
        "        return txt_input\n",
        "    return func\n",
        "\n",
        "# function to add BOS/EOS and create tensor for input sequence indices\n",
        "def tensor_transform(token_ids: List[int]):\n",
        "    # print(token_ids)\n",
        "    return torch.cat((torch.tensor([BOS_IDX]).to(device),\n",
        "                      token_ids,\n",
        "                      torch.tensor([EOS_IDX]).to(device))).to(device)\n",
        "\n",
        "\n",
        "def convert_to_tensor_src(txt):\n",
        "    # print(torch.tensor([BOS_IDX]).shape, vocab.src.to_input_tensor(txt).shape, torch.tensor([EOS_IDX]).shape)\n",
        "    # print(torch.tensor([BOS_IDX]), vocab.src.to_input_tensor(txt).reshape(1,), torch.tensor([EOS_IDX]))\n",
        "    return torch.cat((torch.tensor([BOS_IDX]).view(1, 1).to(device),\n",
        "                      vocab.src.to_input_tensor(txt).to(device),\n",
        "                      torch.tensor([EOS_IDX]).view(1, 1).to(device)), dim=0).view(-1)\n",
        "\n",
        "def convert_to_tensor_tgt(txt):\n",
        "    return torch.cat((torch.tensor([BOS_IDX]).view(1, 1).to(device),\n",
        "                      vocab.tgt.to_input_tensor(txt).to(device),\n",
        "                      torch.tensor([EOS_IDX]).view(1, 1).to(device)), dim=0).view(-1)\n",
        "\n",
        "# ``src`` and ``tgt`` language text transforms to convert raw strings into tensors indices\n",
        "text_transform = {}\n",
        "\n",
        "SRC_LANGUAGE, TGT_LANGUAGE = \"vi\", \"en\"\n",
        "for ln in [SRC_LANGUAGE, TGT_LANGUAGE]:\n",
        "    if ln == SRC_LANGUAGE:\n",
        "        text_transform[ln] = convert_to_tensor_src # Add BOS/EOS and create tensor\n",
        "    if ln == TGT_LANGUAGE:\n",
        "        text_transform[ln] = convert_to_tensor_tgt# Add BOS/EOS and create tensor\n",
        "\n",
        "\n",
        "# function to collate data samples into batch tensors\n",
        "def collate_fn(batch):\n",
        "    src_batch, tgt_batch = [], []\n",
        "    for src_sample, tgt_sample in batch:\n",
        "        # print(src_sample, tgt_sample)\n",
        "        src_batch.append(text_transform[SRC_LANGUAGE](src_sample))\n",
        "        tgt_batch.append(text_transform[TGT_LANGUAGE](tgt_sample))\n",
        "\n",
        "    src_batch = pad_sequence(src_batch, padding_value=PAD_IDX)\n",
        "    tgt_batch = pad_sequence(tgt_batch, padding_value=PAD_IDX)\n",
        "    return src_batch, tgt_batch"
      ]
    },
    {
      "cell_type": "code",
      "execution_count": null,
      "metadata": {
        "id": "Oy_gOxZwUp2g"
      },
      "outputs": [],
      "source": [
        "# @title Training the model\n",
        "\n",
        "from torch.utils.data import DataLoader\n",
        "\n",
        "def train_epoch(model, optimizer, epoch):\n",
        "    model.train()\n",
        "    losses = 0\n",
        "    # train_iter = Multi30k(split='train', language_pair=(SRC_LANGUAGE, TGT_LANGUAGE))\n",
        "    train_dataloader = DataLoader(train_data_small, batch_size=args.batch_size, collate_fn=collate_fn)\n",
        "    # train_dataloader = batch_iter(train_data, BATCH_SIZE)\n",
        "\n",
        "    for i, (src, tgt) in enumerate(train_dataloader):\n",
        "        src = src.to(DEVICE)\n",
        "        tgt = tgt.to(DEVICE)\n",
        "\n",
        "        tgt_input = tgt[:-1, :]\n",
        "\n",
        "        src_mask, tgt_mask, src_padding_mask, tgt_padding_mask = create_mask(src, tgt_input)\n",
        "\n",
        "        logits = model(src, tgt_input, src_mask, tgt_mask,src_padding_mask, tgt_padding_mask, src_padding_mask)\n",
        "\n",
        "        optimizer.zero_grad()\n",
        "\n",
        "        tgt_out = tgt[1:, :]\n",
        "        loss = loss_fn(logits.reshape(-1, logits.shape[-1]), tgt_out.reshape(-1))\n",
        "        loss.backward()\n",
        "\n",
        "        optimizer.step()\n",
        "        losses += loss.item()\n",
        "\n",
        "        if i % args.log_every == 0:\n",
        "\n",
        "            print('epoch %d, iter %d, losses %.2f, avg. loss %.2f'\n",
        "                     % (epoch, i, losses, losses/(i+1)), file=sys.stderr)\n",
        "\n",
        "\n",
        "    return losses / len(list(train_dataloader))\n",
        "\n",
        "\n",
        "def evaluate(model):\n",
        "    model.eval()\n",
        "    losses = 0\n",
        "\n",
        "    # val_iter = Multi30k(split='valid', language_pair=(SRC_LANGUAGE, TGT_LANGUAGE))\n",
        "    val_dataloader = DataLoader(dev_data_small, batch_size=args.batch_size, collate_fn=collate_fn)\n",
        "    # val_dataloader = batch_iter(dev_data, BATCH_SIZE)\n",
        "\n",
        "    for src, tgt in val_dataloader:\n",
        "        src = src.to(DEVICE)\n",
        "        tgt = tgt.to(DEVICE)\n",
        "\n",
        "        tgt_input = tgt[:-1, :]\n",
        "\n",
        "        src_mask, tgt_mask, src_padding_mask, tgt_padding_mask = create_mask(src, tgt_input)\n",
        "\n",
        "        logits = model(src, tgt_input, src_mask, tgt_mask,src_padding_mask, tgt_padding_mask, src_padding_mask)\n",
        "\n",
        "        tgt_out = tgt[1:, :]\n",
        "        loss = loss_fn(logits.reshape(-1, logits.shape[-1]), tgt_out.reshape(-1))\n",
        "        losses += loss.item()\n",
        "\n",
        "    return losses / len(list(val_dataloader))"
      ]
    },
    {
      "cell_type": "markdown",
      "metadata": {
        "id": "tHbTs8aweGKZ"
      },
      "source": [
        "We also pick a small subset of 1600 sampels for training and 100 samples for validating."
      ]
    },
    {
      "cell_type": "code",
      "execution_count": null,
      "metadata": {
        "id": "-iE_n0gvKpxv"
      },
      "outputs": [],
      "source": [
        "train_data_small = [val for val in train_data if len(val[0]) > 3][:50]\n",
        "dev_data_small = [val for val in dev_data if len(val[0]) > 3][:50]"
      ]
    },
    {
      "cell_type": "code",
      "execution_count": null,
      "metadata": {
        "id": "fwLcM5IOKuuH"
      },
      "outputs": [],
      "source": [
        "from timeit import default_timer as timer\n",
        "args.max_epoch = 200\n",
        "\n",
        "for epoch in range(args.max_epoch):\n",
        "    start_time = timer()\n",
        "    train_loss = train_epoch(transformer, optimizer, epoch)\n",
        "    end_time = timer()\n",
        "    val_loss = evaluate(transformer)\n",
        "    print((f\"Epoch: {epoch}, Train loss: {train_loss:.3f}, Val loss: {val_loss:.3f}, \"f\"Epoch time = {(end_time - start_time):.3f}s\"))\n"
      ]
    },
    {
      "cell_type": "markdown",
      "metadata": {
        "id": "TiVrxI2tasTR"
      },
      "source": [
        "## Testing the model"
      ]
    },
    {
      "cell_type": "markdown",
      "metadata": {
        "id": "rhLRKX6vccix"
      },
      "source": [
        "Greedy Decoding: At each step, pick the most probable token.\n",
        "\n",
        "The straightforward decoding strategy is greedy - at each step, generate a token with the highest probability. This can be a good baseline to test our model, but this method is inherently flawed: the best token at the current step does not necessarily lead to the best sequence."
      ]
    },
    {
      "cell_type": "markdown",
      "metadata": {
        "id": "adbc1m3Ec9aj"
      },
      "source": [
        "## Q10: (5 points) Greedy Decoding\n",
        "Implement the `greedy_decode` function  to initialize the\n",
        "necessary module for our TransformerNMT model."
      ]
    },
    {
      "cell_type": "code",
      "execution_count": null,
      "metadata": {
        "id": "G1wBX52xaaeq"
      },
      "outputs": [],
      "source": [
        "# function to generate output sequence using greedy algorithm\n",
        "def greedy_decode(model, src, src_mask, max_len, start_symbol):\n",
        "    \"\"\" Generates a sequence using greedy decoding based on the given model.\n",
        "    @param model (torch.nn.Module): The transformer model used for decoding.\n",
        "    @param src (torch.Tensor): The source sequence tensor.\n",
        "    @param src_mask (torch.Tensor): The mask for the source sequence.\n",
        "    @param max_len (int): The maximum length of the generated sequence.\n",
        "    @param start_symbol (int): The starting symbol for the decoding process.\n",
        "\n",
        "    @returns: torch.Tensor: The generated sequence tensor.\n",
        "\n",
        "    Note:\n",
        "        The decoding process is performed using greedy decoding, where at each step,\n",
        "        the model predicts the next word in the sequence based on the highest probability.\n",
        "    \"\"\"\n",
        "\n",
        "    src = src.to(DEVICE) # (src_seq_len, bs)\n",
        "    src_mask = src_mask.to(DEVICE) # (src_seg_len, src_seg_len)\n",
        "\n",
        "    ys = None\n",
        "    # YOUR CODE HERE (~12 lines)\n",
        "    ### TODO - Complete the sequence generation loop:\n",
        "    ###     1. Initialize `ys` with the start token index # (tgt_seg_len, 1). This will be the initial input to the decoder.\n",
        "    ###     2. Encode the source sentence using `encode` function and store it as `memory`.\n",
        "    ###     3. For each step in the loop (up to `max_len-1`):\n",
        "    ###         a. Move `memory` to the device.\n",
        "    ###         b. Generate the target mask using `generate_square_subsequent_mask`.\n",
        "    ###         c. Decode the current sequence `ys` using `decode` function.\n",
        "    ###         d. Transpose the output and project it to the target vocabulary using `target_vocab_projection`.\n",
        "    ###         e. Get the next word by taking the argmax of the probabilities.\n",
        "    ###         f. Append the next word to `ys`.\n",
        "    ###         g. Break the loop if the next word is the end-of-sequence token (`EOS_IDX`).\n",
        "    # $$     Hints:\n",
        "    ###           - ys is shape (tgt_seg_len, bs)\n",
        "    ###           - memory is shape (src_seg_len, bs, emb_size)\n",
        "    ###           - output after decoding is shape (tgt_seg_len, bs, emb_size)\n",
        "    \n",
        "\n",
        "    # END YOUR CODE\n",
        "    return ys\n",
        "\n",
        "\n",
        "# actual function to translate input sentence into target language\n",
        "def translate(model: torch.nn.Module, src_sentence: str):\n",
        "    model.eval()\n",
        "    src = text_transform[SRC_LANGUAGE](src_sentence).view(-1, 1)\n",
        "    num_tokens = src.shape[0]\n",
        "    src_mask = (torch.zeros(num_tokens, num_tokens)).type(torch.bool)\n",
        "    tgt_tokens = greedy_decode(\n",
        "        model,  src, src_mask, max_len=num_tokens + 20, start_symbol=BOS_IDX).flatten()\n",
        "    return \" \".join(vocab.tgt.indices2words(list(tgt_tokens.cpu().numpy()))).replace(\"<s>\", \"\").replace(\"</s>\", \"\")"
      ]
    },
    {
      "cell_type": "code",
      "execution_count": null,
      "metadata": {
        "colab": {
          "base_uri": "https://localhost:8080/"
        },
        "id": "ggy9A0qBdfmL",
        "outputId": "42a52424-35e6-4b34-cd0e-6a514e8db5de"
      },
      "outputs": [
        {
          "name": "stdout",
          "output_type": "stream",
          "text": [
            "Sample 0:\n",
            "Source: ▁Khoa ▁học ▁đ ằng ▁sau ▁một ▁tiêu ▁đề ▁về ▁khí ▁hậu\n",
            "Reference:  ▁Rachel ▁P ike ▁ : ▁The ▁science ▁ behind ▁a ▁climate ▁headline \n",
            "Translation:   ▁Rachel ▁P ike ▁ : ▁The ▁science ▁ behind ▁a ▁climate ▁headline \n",
            "\n",
            "\n",
            "Sample 1:\n",
            "Source: ▁Tro ng ▁4 ▁phút ▁, ▁chuyên ▁gia ▁hoá ▁học ▁khí ▁quyển ▁Rachel ▁P ike ▁giới ▁t hiệu ▁sơ ▁lược ▁về ▁những ▁nỗ ▁lực ▁khoa ▁học ▁m iệt ▁mà i ▁đ ằng ▁sau ▁những ▁tiêu ▁đề ▁táo ▁bạo ▁về ▁biến ▁đổi ▁khí ▁hậu ▁, ▁cùng ▁với ▁đoàn ▁nghiên ▁cứu ▁của ▁mình ▁-- ▁hàng ▁ngàn ▁người ▁đã ▁cố ng ▁ hiến ▁cho ▁dự ▁án ▁này ▁-- ▁một ▁chuyến ▁bay ▁mạo ▁hiểm ▁qua ▁rừng ▁già ▁để ▁tìm ▁kiếm ▁thông ▁tin ▁về ▁một ▁phân ▁tử ▁the n ▁chố t ▁.\n",
            "Reference:  ▁In ▁4 ▁minutes ▁ , ▁atmospher ic ▁chemist ▁Rachel ▁P ike ▁provide s ▁a ▁glimpse ▁of ▁the ▁massive ▁scientific ▁effort ▁ behind ▁the ▁bold ▁headline s ▁on ▁climate ▁change ▁ , ▁with ▁her ▁team ▁-- ▁one ▁of ▁ thousands ▁who ▁contribute d ▁-- ▁ taking ▁a ▁risk y ▁flight ▁over ▁the ▁rainforest ▁in ▁pursuit ▁of ▁data ▁on ▁a ▁key ▁molecule ▁. \n",
            "Translation:   ▁In ▁4 ▁minutes ▁ , ▁atmospher ic ▁chemist ▁Rachel ▁P ike ▁provide s ▁a ▁glimpse ▁of ▁the ▁massive ▁scientific ▁effort ▁ behind ▁the ▁bold ▁headline s ▁on ▁climate ▁change ▁ , ▁with ▁her ▁team ▁-- ▁one ▁of ▁ thousands ▁who ▁contribute d ▁-- ▁ taking ▁a ▁risk y ▁flight ▁over ▁the ▁rainforest ▁in ▁pursuit ▁of ▁data ▁on ▁a ▁key ▁molecule ▁. \n",
            "\n",
            "\n",
            "Sample 2:\n",
            "Source: ▁Tôi ▁muốn ▁cho ▁các ▁bạn ▁biết ▁về ▁sự ▁to ▁lớn ▁của ▁những ▁nỗ ▁lực ▁khoa ▁học ▁đã ▁góp ▁phần ▁làm ▁nên ▁các ▁dò ng ▁tí t ▁bạn ▁thường ▁thấy ▁trên ▁báo ▁.\n",
            "Reference:  ▁I ▁& apos ; d ▁like ▁to ▁talk ▁to ▁you ▁to day ▁about ▁the ▁scale ▁of ▁the ▁scientific ▁effort ▁that ▁go es ▁into ▁ making ▁the ▁headline s ▁you ▁see ▁in ▁the ▁paper ▁. \n",
            "Translation:   ▁I ▁& apos ; d ▁like ▁to ▁talk ▁to ▁you ▁to day ▁about ▁the ▁scale ▁of ▁the ▁scientific ▁effort ▁that ▁go es ▁into ▁ making ▁the ▁headline s ▁you ▁see ▁in ▁the ▁paper ▁. \n",
            "\n",
            "\n",
            "Sample 3:\n",
            "Source: ▁Có ▁những ▁dò ng ▁tr ông ▁như ▁thế ▁này ▁khi ▁bàn ▁về ▁biến ▁đổi ▁khí ▁hậu ▁, ▁và ▁như ▁thế ▁này ▁khi ▁nói ▁về ▁chất ▁lượng ▁không ▁khí ▁hay ▁khói ▁bụ i ▁.\n",
            "Reference:  ▁Head lines ▁that ▁look ▁like ▁ this ▁when ▁the y ▁have ▁to ▁do ▁with ▁climate ▁change ▁ , ▁and ▁headline s ▁that ▁look ▁like ▁ this ▁when ▁the y ▁have ▁to ▁do ▁with ▁air ▁quality ▁or ▁smog ▁. \n",
            "Translation:   ▁Head lines ▁that ▁look ▁like ▁ this ▁when ▁the y ▁have ▁to ▁do ▁with ▁climate ▁change ▁ , ▁and ▁headline s ▁that ▁look ▁like ▁ this ▁when ▁the y ▁have ▁to ▁do ▁with ▁air ▁quality ▁or ▁smog ▁. \n",
            "\n",
            "\n",
            "Sample 4:\n",
            "Source: ▁Cả ▁hai ▁đều ▁là ▁một ▁nh ánh ▁của ▁cùng ▁một ▁lĩnh ▁vực ▁trong ▁ngành ▁khoa ▁học ▁khí ▁quyển ▁.\n",
            "Reference:  ▁The y ▁are ▁both ▁two ▁branche s ▁of ▁the ▁same ▁field ▁of ▁atmospher ic ▁science ▁. \n",
            "Translation:   ▁The y ▁are ▁both ▁two ▁branche s ▁of ▁the ▁same ▁field ▁of ▁atmospher ic ▁science ▁. \n",
            "\n",
            "\n"
          ]
        }
      ],
      "source": [
        "# @title Testing on training set\n",
        "num_logs = 5\n",
        "if (num_logs > len(train_data_small)):\n",
        "  num_logs = len(train_data_small)\n",
        "\n",
        "for i in range(num_logs):\n",
        "  src_sentence, tgt_sentence = train_data_small[i]\n",
        "  translation = translate(transformer, src_sentence)\n",
        "  print(f\"Sample {i}:\")\n",
        "  print(\"Source: \" + \" \".join(src_sentence))\n",
        "  print(\"Reference: \" + \" \".join(tgt_sentence).replace(\"<s>\", \"\").replace(\"</s>\", \"\"))\n",
        "  print(\"Translation: \" + translation)\n",
        "  print('\\n')"
      ]
    },
    {
      "cell_type": "code",
      "execution_count": null,
      "metadata": {
        "colab": {
          "base_uri": "https://localhost:8080/"
        },
        "id": "MTTotHLSdf82",
        "outputId": "aac48d87-8977-4c25-c246-269ee9893bb8"
      },
      "outputs": [
        {
          "name": "stdout",
          "output_type": "stream",
          "text": [
            "Sample 0:\n",
            "Source: ▁Là m ▁sao ▁tôi ▁có ▁thể ▁trình ▁bày ▁trong ▁10 ▁phút ▁về ▁sợ i ▁dây ▁liên ▁kết ▁những ▁người ▁phụ ▁nữ ▁qua ▁ba ▁thế ▁hệ ▁, ▁về ▁việc ▁làm ▁thế ▁nào ▁những ▁sợ i ▁dây ▁mạnh ▁mẽ ▁đáng ▁kinh ▁ngạc ▁ấy ▁đã ▁ní u ▁ch ặt ▁lấy ▁cuộc ▁sống ▁của ▁một ▁cô ▁bé ▁bốn ▁tuổi ▁co ▁qu ắp ▁với ▁đ ứa ▁em ▁gái ▁nhỏ ▁của ▁cô ▁bé ▁, ▁với ▁mẹ ▁và ▁bà ▁trong ▁suốt ▁năm ▁ngày ▁đêm ▁trên ▁con ▁thuyền ▁nhỏ ▁lên h ▁đê nh ▁trên ▁B iển ▁Đông ▁hơn ▁30 ▁năm ▁trước ▁, ▁những ▁sợ i ▁dây ▁liên ▁kết ▁đã ▁ní u ▁lấy ▁cuộc ▁đời ▁cô ▁bé ▁ấy ▁và ▁không ▁bao ▁giờ ▁ rời ▁đi ▁-- ▁cô ▁bé ▁ấy ▁giờ ▁sống ▁ở ▁San ▁Francis co ▁và ▁đang ▁nói ▁chuyện ▁với ▁các ▁bạn ▁ hôm ▁nay ▁?\n",
            "Reference:  ▁How ▁can ▁I ▁speak ▁in ▁10 ▁minutes ▁about ▁the ▁bond s ▁of ▁women ▁over ▁three ▁generation s ▁ , ▁about ▁how ▁the ▁astonishing ▁strength ▁of ▁t hose ▁bond s ▁to ok ▁hold ▁in ▁the ▁life ▁of ▁a ▁four - year - old ▁girl ▁huddle d ▁with ▁her ▁young ▁sister ▁ , ▁her ▁mother ▁and ▁her ▁grandmother ▁for ▁five ▁days ▁and ▁night s ▁in ▁a ▁small ▁boat ▁in ▁the ▁China ▁Sea ▁more ▁than ▁30 ▁years ▁ago ▁ , ▁bond s ▁that ▁to ok ▁hold ▁in ▁the ▁life ▁of ▁that ▁small ▁girl ▁and ▁never ▁let ▁go ▁-- ▁that ▁small ▁girl ▁now ▁living ▁in ▁San ▁Francisco ▁and ▁speaking ▁to ▁you ▁to day ▁? \n",
            "Translation:   ▁In ▁4 ▁minutes ▁ , ▁atmospher ic ▁chemist ▁Rachel ▁P ike ▁provide s ▁a ▁glimpse ▁of ▁the ▁massive ▁scientific ▁effort ▁ behind ▁the ▁bold ▁headline s ▁on ▁climate ▁change ▁ , ▁with ▁her ▁team ▁-- ▁one ▁of ▁ thousands ▁who ▁contribute d ▁-- ▁ taking ▁a ▁risk y ▁flight ▁over ▁the ▁rainforest ▁in ▁pursuit ▁of ▁data ▁on ▁a ▁key ▁molecule ▁. \n",
            "\n",
            "\n",
            "Sample 1:\n",
            "Source: ▁C âu ▁chuyện ▁này ▁chưa ▁kết ▁thúc ▁.\n",
            "Reference:  ▁Thi s ▁is ▁not ▁a ▁finish ed ▁story ▁. \n",
            "Translation:   ▁And ▁ this ▁is ▁the ▁tower ▁from ▁be low ▁. \n",
            "\n",
            "\n",
            "Sample 2:\n",
            "Source: ▁Nó ▁là ▁một ▁trò ▁chơi ▁ghép ▁hình ▁vẫ n ▁đang ▁được ▁xếp ▁.\n",
            "Reference:  ▁It ▁is ▁a ▁jig saw ▁puzzle ▁still ▁being ▁put ▁together ▁. \n",
            "Translation:   ▁We ▁have ▁to ▁fly ▁at ▁a ▁special ▁incline ▁in ▁order ▁to ▁make ▁the ▁measurement s ▁. \n",
            "\n",
            "\n",
            "Sample 3:\n",
            "Source: ▁Hã y ▁để ▁tôi ▁kể ▁cho ▁các ▁bạn ▁về ▁và i ▁m ảnh ▁ghép ▁nhé ▁.\n",
            "Reference:  ▁Let ▁me ▁tell ▁you ▁about ▁some ▁of ▁the ▁piece s ▁. \n",
            "Translation:   ▁We ▁blow ▁it ▁up ▁and ▁look ▁at ▁the ▁piece s ▁. \n",
            "\n",
            "\n",
            "Sample 4:\n",
            "Source: ▁Hã y ▁tưởng ▁tượng ▁m ảnh ▁đầu ▁tiên ▁: ▁một ▁người ▁đàn ▁ông ▁đố t ▁chá y ▁sự ▁nghiệp ▁cả ▁đời ▁mình ▁.\n",
            "Reference:  ▁I magine ▁the ▁first ▁piece ▁ : ▁a ▁man ▁burning ▁his ▁life ▁& apos ; s ▁work ▁. \n",
            "Translation:   ▁And ▁out ▁of ▁that ▁field ▁campaign ▁we ▁& apos ; ll ▁probabl y ▁get ▁a ▁few ▁dozen ▁paper s ▁on ▁a ▁few ▁dozen ▁processe s ▁. \n",
            "\n",
            "\n"
          ]
        }
      ],
      "source": [
        "# @title Testing on evaluate set\n",
        "num_logs = 5\n",
        "if (num_logs > len(dev_data_small)):\n",
        "  num_logs = len(dev_data_small)\n",
        "\n",
        "for i in range(num_logs):\n",
        "  src_sentence, tgt_sentence = dev_data_small[i]\n",
        "  translation = translate(transformer, src_sentence)\n",
        "  print(f\"Sample {i}:\")\n",
        "  print(\"Source: \" + \" \".join(src_sentence))\n",
        "  print(\"Reference: \" + \" \".join(tgt_sentence).replace(\"<s>\", \"\").replace(\"</s>\", \"\"))\n",
        "  print(\"Translation: \" + translation)\n",
        "  print('\\n')"
      ]
    },
    {
      "cell_type": "markdown",
      "metadata": {
        "id": "jP1WiKDW-H-M"
      },
      "source": [
        "## Attention Map Visualization"
      ]
    },
    {
      "cell_type": "markdown",
      "metadata": {
        "id": "wohO_TWw5AJM"
      },
      "source": [
        "After applying greedy decoding, we can further visualize it to see what is happening at each layer of the attention"
      ]
    },
    {
      "cell_type": "markdown",
      "metadata": {
        "id": "pIjzNITn-PKL"
      },
      "source": [
        "`torch.nn.Transformer` does not support outputting attention map by default, so we will need to make some monkey patch (we do not recommend doing this in practice, it will be better to rewrite a customized Transformer code based on its Pytorch's implementation). Please refer to this [gist](https://gist.github.com/airalcorn2/50ec06517ce96ecc143503e21fa6cb91) for more detail."
      ]
    },
    {
      "cell_type": "code",
      "execution_count": null,
      "metadata": {
        "cellView": "form",
        "id": "382xsmtA-Hdr"
      },
      "outputs": [],
      "source": [
        "# @title Helper functions\n",
        "def patch_attention(m):\n",
        "    forward_orig = m.forward\n",
        "\n",
        "    def wrap(*args, **kwargs):\n",
        "        kwargs[\"need_weights\"] = True\n",
        "        kwargs[\"average_attn_weights\"] = False\n",
        "\n",
        "        return forward_orig(*args, **kwargs)\n",
        "\n",
        "    m.forward = wrap\n",
        "\n",
        "class SaveOutput:\n",
        "    def __init__(self):\n",
        "        self.outputs = []\n",
        "\n",
        "    def __call__(self, module, module_in, module_out):\n",
        "        self.outputs.append(module_out[1])\n",
        "\n",
        "    def clear(self):\n",
        "        self.outputs = []\n",
        "\n",
        "def monkey_patch_pytorch_transformer(model, n_encoder_layers, n_decoder_layers):\n",
        "    encoder_hook_handles = []\n",
        "    encoder_save_outputs = []\n",
        "    for layer in range(n_encoder_layers):\n",
        "        patch_attention(model.encoder.layers[layer].self_attn)\n",
        "        encoder_save_outputs.append(SaveOutput())\n",
        "        encoder_hook_handles.append(model.encoder.layers[layer].self_attn.register_forward_hook(encoder_save_outputs[-1]))\n",
        "\n",
        "    decoder_self_attn_hook_handles = []\n",
        "    decoder_self_attn_save_outputs = []\n",
        "    decoder_cross_attn_hook_handles = []\n",
        "    decoder_cross_attn_save_outputs = []\n",
        "    for layer in range(n_decoder_layers):\n",
        "        patch_attention(model.decoder.layers[layer].self_attn)\n",
        "        decoder_self_attn_save_outputs.append(SaveOutput())\n",
        "        decoder_self_attn_hook_handles.append(model.decoder.layers[layer].self_attn.register_forward_hook(decoder_self_attn_save_outputs[-1]))\n",
        "\n",
        "        patch_attention(model.decoder.layers[layer].multihead_attn)\n",
        "        decoder_cross_attn_save_outputs.append(SaveOutput())\n",
        "        decoder_cross_attn_hook_handles.append(model.decoder.layers[layer].multihead_attn.register_forward_hook(decoder_cross_attn_save_outputs[-1]))\n",
        "\n",
        "    return encoder_hook_handles, encoder_save_outputs, \\\n",
        "    decoder_self_attn_hook_handles, decoder_self_attn_save_outputs, \\\n",
        "    decoder_cross_attn_hook_handles, decoder_cross_attn_save_outputs\n",
        "\n",
        "def remove_hook_pytorch_transformer(encoder_hook_handles, decoder_self_attn_hook_handles, decoder_cross_attn_hook_handles):\n",
        "    for hook in encoder_hook_handles:\n",
        "        hook.remove()\n",
        "    for hook in decoder_self_attn_hook_handles:\n",
        "        hook.remove()\n",
        "    for hook in decoder_cross_attn_hook_handles:\n",
        "        hook.remove()\n",
        "\n",
        "encoder_hook_handles, encoder_save_outputs, \\\n",
        "decoder_self_attn_hook_handles, decoder_self_attn_save_outputs, \\\n",
        "decoder_cross_attn_hook_handles, decoder_cross_attn_save_outputs \\\n",
        "= monkey_patch_pytorch_transformer(transformer.transformer, args.n_encoder_layers, args.n_decoder_layers)"
      ]
    },
    {
      "cell_type": "code",
      "execution_count": null,
      "metadata": {
        "id": "EjRH_7EV-z-k"
      },
      "outputs": [],
      "source": [
        "# Let visualize the attention mechanism with this example, since it is relatively short\n",
        "src_sentence, tgt_sentence = dev_data_small[1]\n",
        "translation = translate(transformer, src_sentence)"
      ]
    },
    {
      "cell_type": "code",
      "execution_count": null,
      "metadata": {
        "colab": {
          "base_uri": "https://localhost:8080/",
          "height": 1000
        },
        "id": "crRdhDrD_DSL",
        "outputId": "7f46341b-3b5e-42b9-c320-e83378cb9b25"
      },
      "outputs": [
        {
          "name": "stdout",
          "output_type": "stream",
          "text": [
            "Encoder Layer 1\n"
          ]
        },
        {
          "data": {
            "image/png": "[encoded data removed]",
            "text/plain": [
              "<Figure size 2000x1000 with 8 Axes>"
            ]
          },
          "metadata": {},
          "output_type": "display_data"
        },
        {
          "name": "stdout",
          "output_type": "stream",
          "text": [
            "Encoder Layer 2\n"
          ]
        },
        {
          "data": {
            "image/png": "[encoded data removed]",
            "text/plain": [
              "<Figure size 2000x1000 with 8 Axes>"
            ]
          },
          "metadata": {},
          "output_type": "display_data"
        },
        {
          "name": "stdout",
          "output_type": "stream",
          "text": [
            "Encoder Layer 3\n"
          ]
        },
        {
          "data": {
            "image/png": "[encoded data removed]",
            "text/plain": [
              "<Figure size 2000x1000 with 8 Axes>"
            ]
          },
          "metadata": {},
          "output_type": "display_data"
        },
        {
          "name": "stdout",
          "output_type": "stream",
          "text": [
            "Decoder Self Layer 1\n"
          ]
        },
        {
          "data": {
            "image/png": "[encoded data removed]",
            "text/plain": [
              "<Figure size 2000x1000 with 8 Axes>"
            ]
          },
          "metadata": {},
          "output_type": "display_data"
        },
        {
          "name": "stdout",
          "output_type": "stream",
          "text": [
            "Decoder Src Layer 1\n"
          ]
        },
        {
          "data": {
            "image/png": "[encoded data removed]",
            "text/plain": [
              "<Figure size 2000x1000 with 8 Axes>"
            ]
          },
          "metadata": {},
          "output_type": "display_data"
        },
        {
          "name": "stdout",
          "output_type": "stream",
          "text": [
            "Decoder Self Layer 2\n"
          ]
        },
        {
          "data": {
            "image/png": "[encoded data removed]",
            "text/plain": [
              "<Figure size 2000x1000 with 8 Axes>"
            ]
          },
          "metadata": {},
          "output_type": "display_data"
        },
        {
          "name": "stdout",
          "output_type": "stream",
          "text": [
            "Decoder Src Layer 2\n"
          ]
        },
        {
          "data": {
            "image/png": "[encoded data removed]",
            "text/plain": [
              "<Figure size 2000x1000 with 8 Axes>"
            ]
          },
          "metadata": {},
          "output_type": "display_data"
        },
        {
          "name": "stdout",
          "output_type": "stream",
          "text": [
            "Decoder Self Layer 3\n"
          ]
        },
        {
          "data": {
            "image/png": "[encoded data removed]",
            "text/plain": [
              "<Figure size 2000x1000 with 8 Axes>"
            ]
          },
          "metadata": {},
          "output_type": "display_data"
        },
        {
          "name": "stdout",
          "output_type": "stream",
          "text": [
            "Decoder Src Layer 3\n"
          ]
        },
        {
          "data": {
            "image/png": "[encoded data removed]",
            "text/plain": [
              "<Figure size 2000x1000 with 8 Axes>"
            ]
          },
          "metadata": {},
          "output_type": "display_data"
        }
      ],
      "source": [
        "import matplotlib.pyplot as plt\n",
        "import seaborn\n",
        "\n",
        "def draw_driver(n_encoder_layers, n_decoder_layers, n_heads, src, tgt):\n",
        "\n",
        "    def draw(data, x, y, ax):\n",
        "        seaborn.heatmap(data,\n",
        "                        xticklabels=x, square=True, yticklabels=y, vmin=0.0, vmax=1.0,\n",
        "                        cbar=False, ax=ax)\n",
        "\n",
        "    for layer in range(0, n_encoder_layers):\n",
        "        fig, axs = plt.subplots(1, n_heads, figsize=(20, 10))\n",
        "        print(\"Encoder Layer\", layer+1)\n",
        "        for h in range(n_heads):\n",
        "            draw(encoder_save_outputs[layer].outputs[-1][0][h].cpu().data[:len(src), :len(src)],\n",
        "                src, src if h == 0 else [], ax=axs[h])\n",
        "        plt.show()\n",
        "\n",
        "    for layer in range(0, n_decoder_layers):\n",
        "        fig, axs = plt.subplots(1, n_heads, figsize=(20, 10))\n",
        "        print(\"Decoder Self Layer\", layer+1)\n",
        "        for h in range(n_heads):\n",
        "            draw(decoder_self_attn_save_outputs[layer].outputs[-1][0][h].cpu().data[:len(tgt), :len(tgt)],\n",
        "                tgt, tgt if h ==0 else [], ax=axs[h])\n",
        "        plt.show()\n",
        "        print(\"Decoder Src Layer\", layer+1)\n",
        "        fig, axs = plt.subplots(1,args.n_heads, figsize=(20, 10))\n",
        "        for h in range(n_heads):\n",
        "            draw(decoder_cross_attn_save_outputs[layer].outputs[-1][0][h].cpu().data[:len(tgt), :len(src)],\n",
        "                src, tgt if h ==0 else [], ax=axs[h])\n",
        "        plt.show()\n",
        "\n",
        "MAX_SENTENCE_LENGTH_SHOWN = 25\n",
        "draw_driver(args.n_encoder_layers, args.n_decoder_layers, args.n_heads, src_sentence[:MAX_SENTENCE_LENGTH_SHOWN], translation.split(' ')[:MAX_SENTENCE_LENGTH_SHOWN])"
      ]
    },
    {
      "cell_type": "markdown",
      "metadata": {
        "id": "zI6QmPSEqQSu"
      },
      "source": [
        "# Great work! You have completed all the tasks in this assignment 👏"
      ]
    }
  ],
  "metadata": {
    "accelerator": "GPU",
    "colab": {
      "gpuType": "T4",
      "machine_shape": "hm",
      "provenance": [],
      "toc_visible": true
    },
    "kernelspec": {
      "display_name": "Python 3",
      "name": "python3"
    }
  },
  "nbformat": 4,
  "nbformat_minor": 0
}
